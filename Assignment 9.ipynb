{
 "cells": [
  {
   "cell_type": "code",
   "execution_count": null,
   "id": "c9933981",
   "metadata": {},
   "outputs": [],
   "source": [
    "1. To what does a relative path refer?\n",
    "2. What does an absolute path start with your operating system?\n",
    "3. What do the functions os.getcwd() and os.chdir() do?\n",
    "4. What are the . and .. folders?\n",
    "5. In C:\\bacon\\eggs\\spam.txt, which part is the dir name, and which part is the base name?\n",
    "6. What are the three “mode” arguments that can be passed to the open() function?\n",
    "7. What happens if an existing file is opened in write mode?\n",
    "8. How do you tell the difference between read() and readlines()?\n",
    "9. What data structure does a shelf value resemble?\n",
    "\n"
   ]
  },
  {
   "cell_type": "code",
   "execution_count": null,
   "id": "114b06e3",
   "metadata": {},
   "outputs": [],
   "source": [
    "1. To what does a relative path refer?"
   ]
  },
  {
   "cell_type": "code",
   "execution_count": null,
   "id": "61fbcade",
   "metadata": {},
   "outputs": [],
   "source": [
    "A path that does not have any link with root path is called relative path\n",
    "ex:photos/imag2.jpg"
   ]
  },
  {
   "cell_type": "code",
   "execution_count": null,
   "id": "736619c3",
   "metadata": {},
   "outputs": [],
   "source": [
    "2. What does an absolute path start with your operating system?"
   ]
  },
  {
   "cell_type": "code",
   "execution_count": null,
   "id": "fa704245",
   "metadata": {},
   "outputs": [],
   "source": [
    "Absolute path start with a root folder     C:\\photos\\img2.jpg"
   ]
  },
  {
   "cell_type": "code",
   "execution_count": null,
   "id": "bdfee243",
   "metadata": {},
   "outputs": [],
   "source": [
    "3. What do the functions os.getcwd() and os.chdir() do?"
   ]
  },
  {
   "cell_type": "code",
   "execution_count": 2,
   "id": "6610a245",
   "metadata": {},
   "outputs": [
    {
     "data": {
      "text/plain": [
       "'C:\\\\Users\\\\narsi'"
      ]
     },
     "execution_count": 2,
     "metadata": {},
     "output_type": "execute_result"
    }
   ],
   "source": [
    "import os\n",
    "os.getcwd()"
   ]
  },
  {
   "cell_type": "code",
   "execution_count": 4,
   "id": "0cc13298",
   "metadata": {},
   "outputs": [],
   "source": [
    "os.chdir() changes the current working directory"
   ]
  },
  {
   "cell_type": "code",
   "execution_count": null,
   "id": "c6e00d41",
   "metadata": {},
   "outputs": [],
   "source": [
    "4. What are the . and .. folders?"
   ]
  },
  {
   "cell_type": "code",
   "execution_count": null,
   "id": "6cea6ab5",
   "metadata": {},
   "outputs": [],
   "source": [
    ". folder is current folder;.. is parent folder"
   ]
  },
  {
   "cell_type": "code",
   "execution_count": null,
   "id": "8dfa0405",
   "metadata": {},
   "outputs": [],
   "source": [
    "5. In C:\\bacon\\eggs\\spam.txt, which part is the dir name, and which part is the base name?"
   ]
  },
  {
   "cell_type": "code",
   "execution_count": null,
   "id": "8a7556a4",
   "metadata": {},
   "outputs": [],
   "source": [
    "In C:\\bacon\\eggs\\spam.txt"
   ]
  },
  {
   "cell_type": "code",
   "execution_count": null,
   "id": "9dec4a13",
   "metadata": {},
   "outputs": [],
   "source": [
    "C:\\bacon\\eggs\\ is the directory name,and spam.txt is the base name"
   ]
  },
  {
   "cell_type": "code",
   "execution_count": null,
   "id": "02bec74e",
   "metadata": {},
   "outputs": [],
   "source": [
    "6. What are the three “mode” arguments that can be passed to the open() function?"
   ]
  },
  {
   "cell_type": "code",
   "execution_count": null,
   "id": "765729fd",
   "metadata": {},
   "outputs": [],
   "source": [
    "read,write,append are the three mods that can be passed to open() function"
   ]
  },
  {
   "cell_type": "code",
   "execution_count": null,
   "id": "74e59ec3",
   "metadata": {},
   "outputs": [],
   "source": [
    "7. What happens if an existing file is opened in write mode?"
   ]
  },
  {
   "cell_type": "code",
   "execution_count": null,
   "id": "ac9fa796",
   "metadata": {},
   "outputs": [],
   "source": [
    "if an existing file is opened in write mode,user can write data into it"
   ]
  },
  {
   "cell_type": "code",
   "execution_count": null,
   "id": "402088bc",
   "metadata": {},
   "outputs": [],
   "source": [
    "8. How do you tell the difference between read() and readlines()?"
   ]
  },
  {
   "cell_type": "code",
   "execution_count": null,
   "id": "4deca4c4",
   "metadata": {},
   "outputs": [],
   "source": [
    "read() feature enables an user to read the whole paragraph if there is. \n",
    "while, readlines() helps in reading the paagraph line by line if there are any escape characters available to distinguish"
   ]
  },
  {
   "cell_type": "code",
   "execution_count": null,
   "id": "4d26d623",
   "metadata": {},
   "outputs": [],
   "source": [
    "9. What data structure does a shelf value resemble?"
   ]
  },
  {
   "cell_type": "code",
   "execution_count": 4,
   "id": "2ab80ff0",
   "metadata": {},
   "outputs": [],
   "source": [
    "f=open('car.data','r')"
   ]
  },
  {
   "cell_type": "code",
   "execution_count": 5,
   "id": "bb662a4a",
   "metadata": {},
   "outputs": [
    {
     "data": {
      "text/plain": [
       "_io.TextIOWrapper"
      ]
     },
     "execution_count": 5,
     "metadata": {},
     "output_type": "execute_result"
    }
   ],
   "source": [
    "type(f)"
   ]
  },
  {
   "cell_type": "code",
   "execution_count": 6,
   "id": "c3a9e7af",
   "metadata": {},
   "outputs": [
    {
     "data": {
      "text/plain": [
       "'vhigh,vhigh,2,2,small,low,unacc\\nvhigh,vhigh,2,2,small,med,unacc\\nvhigh,vhigh,2,2,small,high,unacc\\nvhigh,vhigh,2,2,med,low,unacc\\nvhigh,vhigh,2,2,med,med,unacc\\nvhigh,vhigh,2,2,med,high,unacc\\nvhigh,vhigh,2,2,big,low,unacc\\nvhigh,vhigh,2,2,big,med,unacc\\nvhigh,vhigh,2,2,big,high,unacc\\nvhigh,vhigh,2,4,small,low,unacc\\nvhigh,vhigh,2,4,small,med,unacc\\nvhigh,vhigh,2,4,small,high,unacc\\nvhigh,vhigh,2,4,med,low,unacc\\nvhigh,vhigh,2,4,med,med,unacc\\nvhigh,vhigh,2,4,med,high,unacc\\nvhigh,vhigh,2,4,big,low,unacc\\nvhigh,vhigh,2,4,big,med,unacc\\nvhigh,vhigh,2,4,big,high,unacc\\nvhigh,vhigh,2,more,small,low,unacc\\nvhigh,vhigh,2,more,small,med,unacc\\nvhigh,vhigh,2,more,small,high,unacc\\nvhigh,vhigh,2,more,med,low,unacc\\nvhigh,vhigh,2,more,med,med,unacc\\nvhigh,vhigh,2,more,med,high,unacc\\nvhigh,vhigh,2,more,big,low,unacc\\nvhigh,vhigh,2,more,big,med,unacc\\nvhigh,vhigh,2,more,big,high,unacc\\nvhigh,vhigh,3,2,small,low,unacc\\nvhigh,vhigh,3,2,small,med,unacc\\nvhigh,vhigh,3,2,small,high,unacc\\nvhigh,vhigh,3,2,med,low,unacc\\nvhigh,vhigh,3,2,med,med,unacc\\nvhigh,vhigh,3,2,med,high,unacc\\nvhigh,vhigh,3,2,big,low,unacc\\nvhigh,vhigh,3,2,big,med,unacc\\nvhigh,vhigh,3,2,big,high,unacc\\nvhigh,vhigh,3,4,small,low,unacc\\nvhigh,vhigh,3,4,small,med,unacc\\nvhigh,vhigh,3,4,small,high,unacc\\nvhigh,vhigh,3,4,med,low,unacc\\nvhigh,vhigh,3,4,med,med,unacc\\nvhigh,vhigh,3,4,med,high,unacc\\nvhigh,vhigh,3,4,big,low,unacc\\nvhigh,vhigh,3,4,big,med,unacc\\nvhigh,vhigh,3,4,big,high,unacc\\nvhigh,vhigh,3,more,small,low,unacc\\nvhigh,vhigh,3,more,small,med,unacc\\nvhigh,vhigh,3,more,small,high,unacc\\nvhigh,vhigh,3,more,med,low,unacc\\nvhigh,vhigh,3,more,med,med,unacc\\nvhigh,vhigh,3,more,med,high,unacc\\nvhigh,vhigh,3,more,big,low,unacc\\nvhigh,vhigh,3,more,big,med,unacc\\nvhigh,vhigh,3,more,big,high,unacc\\nvhigh,vhigh,4,2,small,low,unacc\\nvhigh,vhigh,4,2,small,med,unacc\\nvhigh,vhigh,4,2,small,high,unacc\\nvhigh,vhigh,4,2,med,low,unacc\\nvhigh,vhigh,4,2,med,med,unacc\\nvhigh,vhigh,4,2,med,high,unacc\\nvhigh,vhigh,4,2,big,low,unacc\\nvhigh,vhigh,4,2,big,med,unacc\\nvhigh,vhigh,4,2,big,high,unacc\\nvhigh,vhigh,4,4,small,low,unacc\\nvhigh,vhigh,4,4,small,med,unacc\\nvhigh,vhigh,4,4,small,high,unacc\\nvhigh,vhigh,4,4,med,low,unacc\\nvhigh,vhigh,4,4,med,med,unacc\\nvhigh,vhigh,4,4,med,high,unacc\\nvhigh,vhigh,4,4,big,low,unacc\\nvhigh,vhigh,4,4,big,med,unacc\\nvhigh,vhigh,4,4,big,high,unacc\\nvhigh,vhigh,4,more,small,low,unacc\\nvhigh,vhigh,4,more,small,med,unacc\\nvhigh,vhigh,4,more,small,high,unacc\\nvhigh,vhigh,4,more,med,low,unacc\\nvhigh,vhigh,4,more,med,med,unacc\\nvhigh,vhigh,4,more,med,high,unacc\\nvhigh,vhigh,4,more,big,low,unacc\\nvhigh,vhigh,4,more,big,med,unacc\\nvhigh,vhigh,4,more,big,high,unacc\\nvhigh,vhigh,5more,2,small,low,unacc\\nvhigh,vhigh,5more,2,small,med,unacc\\nvhigh,vhigh,5more,2,small,high,unacc\\nvhigh,vhigh,5more,2,med,low,unacc\\nvhigh,vhigh,5more,2,med,med,unacc\\nvhigh,vhigh,5more,2,med,high,unacc\\nvhigh,vhigh,5more,2,big,low,unacc\\nvhigh,vhigh,5more,2,big,med,unacc\\nvhigh,vhigh,5more,2,big,high,unacc\\nvhigh,vhigh,5more,4,small,low,unacc\\nvhigh,vhigh,5more,4,small,med,unacc\\nvhigh,vhigh,5more,4,small,high,unacc\\nvhigh,vhigh,5more,4,med,low,unacc\\nvhigh,vhigh,5more,4,med,med,unacc\\nvhigh,vhigh,5more,4,med,high,unacc\\nvhigh,vhigh,5more,4,big,low,unacc\\nvhigh,vhigh,5more,4,big,med,unacc\\nvhigh,vhigh,5more,4,big,high,unacc\\nvhigh,vhigh,5more,more,small,low,unacc\\nvhigh,vhigh,5more,more,small,med,unacc\\nvhigh,vhigh,5more,more,small,high,unacc\\nvhigh,vhigh,5more,more,med,low,unacc\\nvhigh,vhigh,5more,more,med,med,unacc\\nvhigh,vhigh,5more,more,med,high,unacc\\nvhigh,vhigh,5more,more,big,low,unacc\\nvhigh,vhigh,5more,more,big,med,unacc\\nvhigh,vhigh,5more,more,big,high,unacc\\nvhigh,high,2,2,small,low,unacc\\nvhigh,high,2,2,small,med,unacc\\nvhigh,high,2,2,small,high,unacc\\nvhigh,high,2,2,med,low,unacc\\nvhigh,high,2,2,med,med,unacc\\nvhigh,high,2,2,med,high,unacc\\nvhigh,high,2,2,big,low,unacc\\nvhigh,high,2,2,big,med,unacc\\nvhigh,high,2,2,big,high,unacc\\nvhigh,high,2,4,small,low,unacc\\nvhigh,high,2,4,small,med,unacc\\nvhigh,high,2,4,small,high,unacc\\nvhigh,high,2,4,med,low,unacc\\nvhigh,high,2,4,med,med,unacc\\nvhigh,high,2,4,med,high,unacc\\nvhigh,high,2,4,big,low,unacc\\nvhigh,high,2,4,big,med,unacc\\nvhigh,high,2,4,big,high,unacc\\nvhigh,high,2,more,small,low,unacc\\nvhigh,high,2,more,small,med,unacc\\nvhigh,high,2,more,small,high,unacc\\nvhigh,high,2,more,med,low,unacc\\nvhigh,high,2,more,med,med,unacc\\nvhigh,high,2,more,med,high,unacc\\nvhigh,high,2,more,big,low,unacc\\nvhigh,high,2,more,big,med,unacc\\nvhigh,high,2,more,big,high,unacc\\nvhigh,high,3,2,small,low,unacc\\nvhigh,high,3,2,small,med,unacc\\nvhigh,high,3,2,small,high,unacc\\nvhigh,high,3,2,med,low,unacc\\nvhigh,high,3,2,med,med,unacc\\nvhigh,high,3,2,med,high,unacc\\nvhigh,high,3,2,big,low,unacc\\nvhigh,high,3,2,big,med,unacc\\nvhigh,high,3,2,big,high,unacc\\nvhigh,high,3,4,small,low,unacc\\nvhigh,high,3,4,small,med,unacc\\nvhigh,high,3,4,small,high,unacc\\nvhigh,high,3,4,med,low,unacc\\nvhigh,high,3,4,med,med,unacc\\nvhigh,high,3,4,med,high,unacc\\nvhigh,high,3,4,big,low,unacc\\nvhigh,high,3,4,big,med,unacc\\nvhigh,high,3,4,big,high,unacc\\nvhigh,high,3,more,small,low,unacc\\nvhigh,high,3,more,small,med,unacc\\nvhigh,high,3,more,small,high,unacc\\nvhigh,high,3,more,med,low,unacc\\nvhigh,high,3,more,med,med,unacc\\nvhigh,high,3,more,med,high,unacc\\nvhigh,high,3,more,big,low,unacc\\nvhigh,high,3,more,big,med,unacc\\nvhigh,high,3,more,big,high,unacc\\nvhigh,high,4,2,small,low,unacc\\nvhigh,high,4,2,small,med,unacc\\nvhigh,high,4,2,small,high,unacc\\nvhigh,high,4,2,med,low,unacc\\nvhigh,high,4,2,med,med,unacc\\nvhigh,high,4,2,med,high,unacc\\nvhigh,high,4,2,big,low,unacc\\nvhigh,high,4,2,big,med,unacc\\nvhigh,high,4,2,big,high,unacc\\nvhigh,high,4,4,small,low,unacc\\nvhigh,high,4,4,small,med,unacc\\nvhigh,high,4,4,small,high,unacc\\nvhigh,high,4,4,med,low,unacc\\nvhigh,high,4,4,med,med,unacc\\nvhigh,high,4,4,med,high,unacc\\nvhigh,high,4,4,big,low,unacc\\nvhigh,high,4,4,big,med,unacc\\nvhigh,high,4,4,big,high,unacc\\nvhigh,high,4,more,small,low,unacc\\nvhigh,high,4,more,small,med,unacc\\nvhigh,high,4,more,small,high,unacc\\nvhigh,high,4,more,med,low,unacc\\nvhigh,high,4,more,med,med,unacc\\nvhigh,high,4,more,med,high,unacc\\nvhigh,high,4,more,big,low,unacc\\nvhigh,high,4,more,big,med,unacc\\nvhigh,high,4,more,big,high,unacc\\nvhigh,high,5more,2,small,low,unacc\\nvhigh,high,5more,2,small,med,unacc\\nvhigh,high,5more,2,small,high,unacc\\nvhigh,high,5more,2,med,low,unacc\\nvhigh,high,5more,2,med,med,unacc\\nvhigh,high,5more,2,med,high,unacc\\nvhigh,high,5more,2,big,low,unacc\\nvhigh,high,5more,2,big,med,unacc\\nvhigh,high,5more,2,big,high,unacc\\nvhigh,high,5more,4,small,low,unacc\\nvhigh,high,5more,4,small,med,unacc\\nvhigh,high,5more,4,small,high,unacc\\nvhigh,high,5more,4,med,low,unacc\\nvhigh,high,5more,4,med,med,unacc\\nvhigh,high,5more,4,med,high,unacc\\nvhigh,high,5more,4,big,low,unacc\\nvhigh,high,5more,4,big,med,unacc\\nvhigh,high,5more,4,big,high,unacc\\nvhigh,high,5more,more,small,low,unacc\\nvhigh,high,5more,more,small,med,unacc\\nvhigh,high,5more,more,small,high,unacc\\nvhigh,high,5more,more,med,low,unacc\\nvhigh,high,5more,more,med,med,unacc\\nvhigh,high,5more,more,med,high,unacc\\nvhigh,high,5more,more,big,low,unacc\\nvhigh,high,5more,more,big,med,unacc\\nvhigh,high,5more,more,big,high,unacc\\nvhigh,med,2,2,small,low,unacc\\nvhigh,med,2,2,small,med,unacc\\nvhigh,med,2,2,small,high,unacc\\nvhigh,med,2,2,med,low,unacc\\nvhigh,med,2,2,med,med,unacc\\nvhigh,med,2,2,med,high,unacc\\nvhigh,med,2,2,big,low,unacc\\nvhigh,med,2,2,big,med,unacc\\nvhigh,med,2,2,big,high,unacc\\nvhigh,med,2,4,small,low,unacc\\nvhigh,med,2,4,small,med,unacc\\nvhigh,med,2,4,small,high,acc\\nvhigh,med,2,4,med,low,unacc\\nvhigh,med,2,4,med,med,unacc\\nvhigh,med,2,4,med,high,acc\\nvhigh,med,2,4,big,low,unacc\\nvhigh,med,2,4,big,med,acc\\nvhigh,med,2,4,big,high,acc\\nvhigh,med,2,more,small,low,unacc\\nvhigh,med,2,more,small,med,unacc\\nvhigh,med,2,more,small,high,unacc\\nvhigh,med,2,more,med,low,unacc\\nvhigh,med,2,more,med,med,unacc\\nvhigh,med,2,more,med,high,acc\\nvhigh,med,2,more,big,low,unacc\\nvhigh,med,2,more,big,med,acc\\nvhigh,med,2,more,big,high,acc\\nvhigh,med,3,2,small,low,unacc\\nvhigh,med,3,2,small,med,unacc\\nvhigh,med,3,2,small,high,unacc\\nvhigh,med,3,2,med,low,unacc\\nvhigh,med,3,2,med,med,unacc\\nvhigh,med,3,2,med,high,unacc\\nvhigh,med,3,2,big,low,unacc\\nvhigh,med,3,2,big,med,unacc\\nvhigh,med,3,2,big,high,unacc\\nvhigh,med,3,4,small,low,unacc\\nvhigh,med,3,4,small,med,unacc\\nvhigh,med,3,4,small,high,acc\\nvhigh,med,3,4,med,low,unacc\\nvhigh,med,3,4,med,med,unacc\\nvhigh,med,3,4,med,high,acc\\nvhigh,med,3,4,big,low,unacc\\nvhigh,med,3,4,big,med,acc\\nvhigh,med,3,4,big,high,acc\\nvhigh,med,3,more,small,low,unacc\\nvhigh,med,3,more,small,med,unacc\\nvhigh,med,3,more,small,high,acc\\nvhigh,med,3,more,med,low,unacc\\nvhigh,med,3,more,med,med,acc\\nvhigh,med,3,more,med,high,acc\\nvhigh,med,3,more,big,low,unacc\\nvhigh,med,3,more,big,med,acc\\nvhigh,med,3,more,big,high,acc\\nvhigh,med,4,2,small,low,unacc\\nvhigh,med,4,2,small,med,unacc\\nvhigh,med,4,2,small,high,unacc\\nvhigh,med,4,2,med,low,unacc\\nvhigh,med,4,2,med,med,unacc\\nvhigh,med,4,2,med,high,unacc\\nvhigh,med,4,2,big,low,unacc\\nvhigh,med,4,2,big,med,unacc\\nvhigh,med,4,2,big,high,unacc\\nvhigh,med,4,4,small,low,unacc\\nvhigh,med,4,4,small,med,unacc\\nvhigh,med,4,4,small,high,acc\\nvhigh,med,4,4,med,low,unacc\\nvhigh,med,4,4,med,med,acc\\nvhigh,med,4,4,med,high,acc\\nvhigh,med,4,4,big,low,unacc\\nvhigh,med,4,4,big,med,acc\\nvhigh,med,4,4,big,high,acc\\nvhigh,med,4,more,small,low,unacc\\nvhigh,med,4,more,small,med,unacc\\nvhigh,med,4,more,small,high,acc\\nvhigh,med,4,more,med,low,unacc\\nvhigh,med,4,more,med,med,acc\\nvhigh,med,4,more,med,high,acc\\nvhigh,med,4,more,big,low,unacc\\nvhigh,med,4,more,big,med,acc\\nvhigh,med,4,more,big,high,acc\\nvhigh,med,5more,2,small,low,unacc\\nvhigh,med,5more,2,small,med,unacc\\nvhigh,med,5more,2,small,high,unacc\\nvhigh,med,5more,2,med,low,unacc\\nvhigh,med,5more,2,med,med,unacc\\nvhigh,med,5more,2,med,high,unacc\\nvhigh,med,5more,2,big,low,unacc\\nvhigh,med,5more,2,big,med,unacc\\nvhigh,med,5more,2,big,high,unacc\\nvhigh,med,5more,4,small,low,unacc\\nvhigh,med,5more,4,small,med,unacc\\nvhigh,med,5more,4,small,high,acc\\nvhigh,med,5more,4,med,low,unacc\\nvhigh,med,5more,4,med,med,acc\\nvhigh,med,5more,4,med,high,acc\\nvhigh,med,5more,4,big,low,unacc\\nvhigh,med,5more,4,big,med,acc\\nvhigh,med,5more,4,big,high,acc\\nvhigh,med,5more,more,small,low,unacc\\nvhigh,med,5more,more,small,med,unacc\\nvhigh,med,5more,more,small,high,acc\\nvhigh,med,5more,more,med,low,unacc\\nvhigh,med,5more,more,med,med,acc\\nvhigh,med,5more,more,med,high,acc\\nvhigh,med,5more,more,big,low,unacc\\nvhigh,med,5more,more,big,med,acc\\nvhigh,med,5more,more,big,high,acc\\nvhigh,low,2,2,small,low,unacc\\nvhigh,low,2,2,small,med,unacc\\nvhigh,low,2,2,small,high,unacc\\nvhigh,low,2,2,med,low,unacc\\nvhigh,low,2,2,med,med,unacc\\nvhigh,low,2,2,med,high,unacc\\nvhigh,low,2,2,big,low,unacc\\nvhigh,low,2,2,big,med,unacc\\nvhigh,low,2,2,big,high,unacc\\nvhigh,low,2,4,small,low,unacc\\nvhigh,low,2,4,small,med,unacc\\nvhigh,low,2,4,small,high,acc\\nvhigh,low,2,4,med,low,unacc\\nvhigh,low,2,4,med,med,unacc\\nvhigh,low,2,4,med,high,acc\\nvhigh,low,2,4,big,low,unacc\\nvhigh,low,2,4,big,med,acc\\nvhigh,low,2,4,big,high,acc\\nvhigh,low,2,more,small,low,unacc\\nvhigh,low,2,more,small,med,unacc\\nvhigh,low,2,more,small,high,unacc\\nvhigh,low,2,more,med,low,unacc\\nvhigh,low,2,more,med,med,unacc\\nvhigh,low,2,more,med,high,acc\\nvhigh,low,2,more,big,low,unacc\\nvhigh,low,2,more,big,med,acc\\nvhigh,low,2,more,big,high,acc\\nvhigh,low,3,2,small,low,unacc\\nvhigh,low,3,2,small,med,unacc\\nvhigh,low,3,2,small,high,unacc\\nvhigh,low,3,2,med,low,unacc\\nvhigh,low,3,2,med,med,unacc\\nvhigh,low,3,2,med,high,unacc\\nvhigh,low,3,2,big,low,unacc\\nvhigh,low,3,2,big,med,unacc\\nvhigh,low,3,2,big,high,unacc\\nvhigh,low,3,4,small,low,unacc\\nvhigh,low,3,4,small,med,unacc\\nvhigh,low,3,4,small,high,acc\\nvhigh,low,3,4,med,low,unacc\\nvhigh,low,3,4,med,med,unacc\\nvhigh,low,3,4,med,high,acc\\nvhigh,low,3,4,big,low,unacc\\nvhigh,low,3,4,big,med,acc\\nvhigh,low,3,4,big,high,acc\\nvhigh,low,3,more,small,low,unacc\\nvhigh,low,3,more,small,med,unacc\\nvhigh,low,3,more,small,high,acc\\nvhigh,low,3,more,med,low,unacc\\nvhigh,low,3,more,med,med,acc\\nvhigh,low,3,more,med,high,acc\\nvhigh,low,3,more,big,low,unacc\\nvhigh,low,3,more,big,med,acc\\nvhigh,low,3,more,big,high,acc\\nvhigh,low,4,2,small,low,unacc\\nvhigh,low,4,2,small,med,unacc\\nvhigh,low,4,2,small,high,unacc\\nvhigh,low,4,2,med,low,unacc\\nvhigh,low,4,2,med,med,unacc\\nvhigh,low,4,2,med,high,unacc\\nvhigh,low,4,2,big,low,unacc\\nvhigh,low,4,2,big,med,unacc\\nvhigh,low,4,2,big,high,unacc\\nvhigh,low,4,4,small,low,unacc\\nvhigh,low,4,4,small,med,unacc\\nvhigh,low,4,4,small,high,acc\\nvhigh,low,4,4,med,low,unacc\\nvhigh,low,4,4,med,med,acc\\nvhigh,low,4,4,med,high,acc\\nvhigh,low,4,4,big,low,unacc\\nvhigh,low,4,4,big,med,acc\\nvhigh,low,4,4,big,high,acc\\nvhigh,low,4,more,small,low,unacc\\nvhigh,low,4,more,small,med,unacc\\nvhigh,low,4,more,small,high,acc\\nvhigh,low,4,more,med,low,unacc\\nvhigh,low,4,more,med,med,acc\\nvhigh,low,4,more,med,high,acc\\nvhigh,low,4,more,big,low,unacc\\nvhigh,low,4,more,big,med,acc\\nvhigh,low,4,more,big,high,acc\\nvhigh,low,5more,2,small,low,unacc\\nvhigh,low,5more,2,small,med,unacc\\nvhigh,low,5more,2,small,high,unacc\\nvhigh,low,5more,2,med,low,unacc\\nvhigh,low,5more,2,med,med,unacc\\nvhigh,low,5more,2,med,high,unacc\\nvhigh,low,5more,2,big,low,unacc\\nvhigh,low,5more,2,big,med,unacc\\nvhigh,low,5more,2,big,high,unacc\\nvhigh,low,5more,4,small,low,unacc\\nvhigh,low,5more,4,small,med,unacc\\nvhigh,low,5more,4,small,high,acc\\nvhigh,low,5more,4,med,low,unacc\\nvhigh,low,5more,4,med,med,acc\\nvhigh,low,5more,4,med,high,acc\\nvhigh,low,5more,4,big,low,unacc\\nvhigh,low,5more,4,big,med,acc\\nvhigh,low,5more,4,big,high,acc\\nvhigh,low,5more,more,small,low,unacc\\nvhigh,low,5more,more,small,med,unacc\\nvhigh,low,5more,more,small,high,acc\\nvhigh,low,5more,more,med,low,unacc\\nvhigh,low,5more,more,med,med,acc\\nvhigh,low,5more,more,med,high,acc\\nvhigh,low,5more,more,big,low,unacc\\nvhigh,low,5more,more,big,med,acc\\nvhigh,low,5more,more,big,high,acc\\nhigh,vhigh,2,2,small,low,unacc\\nhigh,vhigh,2,2,small,med,unacc\\nhigh,vhigh,2,2,small,high,unacc\\nhigh,vhigh,2,2,med,low,unacc\\nhigh,vhigh,2,2,med,med,unacc\\nhigh,vhigh,2,2,med,high,unacc\\nhigh,vhigh,2,2,big,low,unacc\\nhigh,vhigh,2,2,big,med,unacc\\nhigh,vhigh,2,2,big,high,unacc\\nhigh,vhigh,2,4,small,low,unacc\\nhigh,vhigh,2,4,small,med,unacc\\nhigh,vhigh,2,4,small,high,unacc\\nhigh,vhigh,2,4,med,low,unacc\\nhigh,vhigh,2,4,med,med,unacc\\nhigh,vhigh,2,4,med,high,unacc\\nhigh,vhigh,2,4,big,low,unacc\\nhigh,vhigh,2,4,big,med,unacc\\nhigh,vhigh,2,4,big,high,unacc\\nhigh,vhigh,2,more,small,low,unacc\\nhigh,vhigh,2,more,small,med,unacc\\nhigh,vhigh,2,more,small,high,unacc\\nhigh,vhigh,2,more,med,low,unacc\\nhigh,vhigh,2,more,med,med,unacc\\nhigh,vhigh,2,more,med,high,unacc\\nhigh,vhigh,2,more,big,low,unacc\\nhigh,vhigh,2,more,big,med,unacc\\nhigh,vhigh,2,more,big,high,unacc\\nhigh,vhigh,3,2,small,low,unacc\\nhigh,vhigh,3,2,small,med,unacc\\nhigh,vhigh,3,2,small,high,unacc\\nhigh,vhigh,3,2,med,low,unacc\\nhigh,vhigh,3,2,med,med,unacc\\nhigh,vhigh,3,2,med,high,unacc\\nhigh,vhigh,3,2,big,low,unacc\\nhigh,vhigh,3,2,big,med,unacc\\nhigh,vhigh,3,2,big,high,unacc\\nhigh,vhigh,3,4,small,low,unacc\\nhigh,vhigh,3,4,small,med,unacc\\nhigh,vhigh,3,4,small,high,unacc\\nhigh,vhigh,3,4,med,low,unacc\\nhigh,vhigh,3,4,med,med,unacc\\nhigh,vhigh,3,4,med,high,unacc\\nhigh,vhigh,3,4,big,low,unacc\\nhigh,vhigh,3,4,big,med,unacc\\nhigh,vhigh,3,4,big,high,unacc\\nhigh,vhigh,3,more,small,low,unacc\\nhigh,vhigh,3,more,small,med,unacc\\nhigh,vhigh,3,more,small,high,unacc\\nhigh,vhigh,3,more,med,low,unacc\\nhigh,vhigh,3,more,med,med,unacc\\nhigh,vhigh,3,more,med,high,unacc\\nhigh,vhigh,3,more,big,low,unacc\\nhigh,vhigh,3,more,big,med,unacc\\nhigh,vhigh,3,more,big,high,unacc\\nhigh,vhigh,4,2,small,low,unacc\\nhigh,vhigh,4,2,small,med,unacc\\nhigh,vhigh,4,2,small,high,unacc\\nhigh,vhigh,4,2,med,low,unacc\\nhigh,vhigh,4,2,med,med,unacc\\nhigh,vhigh,4,2,med,high,unacc\\nhigh,vhigh,4,2,big,low,unacc\\nhigh,vhigh,4,2,big,med,unacc\\nhigh,vhigh,4,2,big,high,unacc\\nhigh,vhigh,4,4,small,low,unacc\\nhigh,vhigh,4,4,small,med,unacc\\nhigh,vhigh,4,4,small,high,unacc\\nhigh,vhigh,4,4,med,low,unacc\\nhigh,vhigh,4,4,med,med,unacc\\nhigh,vhigh,4,4,med,high,unacc\\nhigh,vhigh,4,4,big,low,unacc\\nhigh,vhigh,4,4,big,med,unacc\\nhigh,vhigh,4,4,big,high,unacc\\nhigh,vhigh,4,more,small,low,unacc\\nhigh,vhigh,4,more,small,med,unacc\\nhigh,vhigh,4,more,small,high,unacc\\nhigh,vhigh,4,more,med,low,unacc\\nhigh,vhigh,4,more,med,med,unacc\\nhigh,vhigh,4,more,med,high,unacc\\nhigh,vhigh,4,more,big,low,unacc\\nhigh,vhigh,4,more,big,med,unacc\\nhigh,vhigh,4,more,big,high,unacc\\nhigh,vhigh,5more,2,small,low,unacc\\nhigh,vhigh,5more,2,small,med,unacc\\nhigh,vhigh,5more,2,small,high,unacc\\nhigh,vhigh,5more,2,med,low,unacc\\nhigh,vhigh,5more,2,med,med,unacc\\nhigh,vhigh,5more,2,med,high,unacc\\nhigh,vhigh,5more,2,big,low,unacc\\nhigh,vhigh,5more,2,big,med,unacc\\nhigh,vhigh,5more,2,big,high,unacc\\nhigh,vhigh,5more,4,small,low,unacc\\nhigh,vhigh,5more,4,small,med,unacc\\nhigh,vhigh,5more,4,small,high,unacc\\nhigh,vhigh,5more,4,med,low,unacc\\nhigh,vhigh,5more,4,med,med,unacc\\nhigh,vhigh,5more,4,med,high,unacc\\nhigh,vhigh,5more,4,big,low,unacc\\nhigh,vhigh,5more,4,big,med,unacc\\nhigh,vhigh,5more,4,big,high,unacc\\nhigh,vhigh,5more,more,small,low,unacc\\nhigh,vhigh,5more,more,small,med,unacc\\nhigh,vhigh,5more,more,small,high,unacc\\nhigh,vhigh,5more,more,med,low,unacc\\nhigh,vhigh,5more,more,med,med,unacc\\nhigh,vhigh,5more,more,med,high,unacc\\nhigh,vhigh,5more,more,big,low,unacc\\nhigh,vhigh,5more,more,big,med,unacc\\nhigh,vhigh,5more,more,big,high,unacc\\nhigh,high,2,2,small,low,unacc\\nhigh,high,2,2,small,med,unacc\\nhigh,high,2,2,small,high,unacc\\nhigh,high,2,2,med,low,unacc\\nhigh,high,2,2,med,med,unacc\\nhigh,high,2,2,med,high,unacc\\nhigh,high,2,2,big,low,unacc\\nhigh,high,2,2,big,med,unacc\\nhigh,high,2,2,big,high,unacc\\nhigh,high,2,4,small,low,unacc\\nhigh,high,2,4,small,med,unacc\\nhigh,high,2,4,small,high,acc\\nhigh,high,2,4,med,low,unacc\\nhigh,high,2,4,med,med,unacc\\nhigh,high,2,4,med,high,acc\\nhigh,high,2,4,big,low,unacc\\nhigh,high,2,4,big,med,acc\\nhigh,high,2,4,big,high,acc\\nhigh,high,2,more,small,low,unacc\\nhigh,high,2,more,small,med,unacc\\nhigh,high,2,more,small,high,unacc\\nhigh,high,2,more,med,low,unacc\\nhigh,high,2,more,med,med,unacc\\nhigh,high,2,more,med,high,acc\\nhigh,high,2,more,big,low,unacc\\nhigh,high,2,more,big,med,acc\\nhigh,high,2,more,big,high,acc\\nhigh,high,3,2,small,low,unacc\\nhigh,high,3,2,small,med,unacc\\nhigh,high,3,2,small,high,unacc\\nhigh,high,3,2,med,low,unacc\\nhigh,high,3,2,med,med,unacc\\nhigh,high,3,2,med,high,unacc\\nhigh,high,3,2,big,low,unacc\\nhigh,high,3,2,big,med,unacc\\nhigh,high,3,2,big,high,unacc\\nhigh,high,3,4,small,low,unacc\\nhigh,high,3,4,small,med,unacc\\nhigh,high,3,4,small,high,acc\\nhigh,high,3,4,med,low,unacc\\nhigh,high,3,4,med,med,unacc\\nhigh,high,3,4,med,high,acc\\nhigh,high,3,4,big,low,unacc\\nhigh,high,3,4,big,med,acc\\nhigh,high,3,4,big,high,acc\\nhigh,high,3,more,small,low,unacc\\nhigh,high,3,more,small,med,unacc\\nhigh,high,3,more,small,high,acc\\nhigh,high,3,more,med,low,unacc\\nhigh,high,3,more,med,med,acc\\nhigh,high,3,more,med,high,acc\\nhigh,high,3,more,big,low,unacc\\nhigh,high,3,more,big,med,acc\\nhigh,high,3,more,big,high,acc\\nhigh,high,4,2,small,low,unacc\\nhigh,high,4,2,small,med,unacc\\nhigh,high,4,2,small,high,unacc\\nhigh,high,4,2,med,low,unacc\\nhigh,high,4,2,med,med,unacc\\nhigh,high,4,2,med,high,unacc\\nhigh,high,4,2,big,low,unacc\\nhigh,high,4,2,big,med,unacc\\nhigh,high,4,2,big,high,unacc\\nhigh,high,4,4,small,low,unacc\\nhigh,high,4,4,small,med,unacc\\nhigh,high,4,4,small,high,acc\\nhigh,high,4,4,med,low,unacc\\nhigh,high,4,4,med,med,acc\\nhigh,high,4,4,med,high,acc\\nhigh,high,4,4,big,low,unacc\\nhigh,high,4,4,big,med,acc\\nhigh,high,4,4,big,high,acc\\nhigh,high,4,more,small,low,unacc\\nhigh,high,4,more,small,med,unacc\\nhigh,high,4,more,small,high,acc\\nhigh,high,4,more,med,low,unacc\\nhigh,high,4,more,med,med,acc\\nhigh,high,4,more,med,high,acc\\nhigh,high,4,more,big,low,unacc\\nhigh,high,4,more,big,med,acc\\nhigh,high,4,more,big,high,acc\\nhigh,high,5more,2,small,low,unacc\\nhigh,high,5more,2,small,med,unacc\\nhigh,high,5more,2,small,high,unacc\\nhigh,high,5more,2,med,low,unacc\\nhigh,high,5more,2,med,med,unacc\\nhigh,high,5more,2,med,high,unacc\\nhigh,high,5more,2,big,low,unacc\\nhigh,high,5more,2,big,med,unacc\\nhigh,high,5more,2,big,high,unacc\\nhigh,high,5more,4,small,low,unacc\\nhigh,high,5more,4,small,med,unacc\\nhigh,high,5more,4,small,high,acc\\nhigh,high,5more,4,med,low,unacc\\nhigh,high,5more,4,med,med,acc\\nhigh,high,5more,4,med,high,acc\\nhigh,high,5more,4,big,low,unacc\\nhigh,high,5more,4,big,med,acc\\nhigh,high,5more,4,big,high,acc\\nhigh,high,5more,more,small,low,unacc\\nhigh,high,5more,more,small,med,unacc\\nhigh,high,5more,more,small,high,acc\\nhigh,high,5more,more,med,low,unacc\\nhigh,high,5more,more,med,med,acc\\nhigh,high,5more,more,med,high,acc\\nhigh,high,5more,more,big,low,unacc\\nhigh,high,5more,more,big,med,acc\\nhigh,high,5more,more,big,high,acc\\nhigh,med,2,2,small,low,unacc\\nhigh,med,2,2,small,med,unacc\\nhigh,med,2,2,small,high,unacc\\nhigh,med,2,2,med,low,unacc\\nhigh,med,2,2,med,med,unacc\\nhigh,med,2,2,med,high,unacc\\nhigh,med,2,2,big,low,unacc\\nhigh,med,2,2,big,med,unacc\\nhigh,med,2,2,big,high,unacc\\nhigh,med,2,4,small,low,unacc\\nhigh,med,2,4,small,med,unacc\\nhigh,med,2,4,small,high,acc\\nhigh,med,2,4,med,low,unacc\\nhigh,med,2,4,med,med,unacc\\nhigh,med,2,4,med,high,acc\\nhigh,med,2,4,big,low,unacc\\nhigh,med,2,4,big,med,acc\\nhigh,med,2,4,big,high,acc\\nhigh,med,2,more,small,low,unacc\\nhigh,med,2,more,small,med,unacc\\nhigh,med,2,more,small,high,unacc\\nhigh,med,2,more,med,low,unacc\\nhigh,med,2,more,med,med,unacc\\nhigh,med,2,more,med,high,acc\\nhigh,med,2,more,big,low,unacc\\nhigh,med,2,more,big,med,acc\\nhigh,med,2,more,big,high,acc\\nhigh,med,3,2,small,low,unacc\\nhigh,med,3,2,small,med,unacc\\nhigh,med,3,2,small,high,unacc\\nhigh,med,3,2,med,low,unacc\\nhigh,med,3,2,med,med,unacc\\nhigh,med,3,2,med,high,unacc\\nhigh,med,3,2,big,low,unacc\\nhigh,med,3,2,big,med,unacc\\nhigh,med,3,2,big,high,unacc\\nhigh,med,3,4,small,low,unacc\\nhigh,med,3,4,small,med,unacc\\nhigh,med,3,4,small,high,acc\\nhigh,med,3,4,med,low,unacc\\nhigh,med,3,4,med,med,unacc\\nhigh,med,3,4,med,high,acc\\nhigh,med,3,4,big,low,unacc\\nhigh,med,3,4,big,med,acc\\nhigh,med,3,4,big,high,acc\\nhigh,med,3,more,small,low,unacc\\nhigh,med,3,more,small,med,unacc\\nhigh,med,3,more,small,high,acc\\nhigh,med,3,more,med,low,unacc\\nhigh,med,3,more,med,med,acc\\nhigh,med,3,more,med,high,acc\\nhigh,med,3,more,big,low,unacc\\nhigh,med,3,more,big,med,acc\\nhigh,med,3,more,big,high,acc\\nhigh,med,4,2,small,low,unacc\\nhigh,med,4,2,small,med,unacc\\nhigh,med,4,2,small,high,unacc\\nhigh,med,4,2,med,low,unacc\\nhigh,med,4,2,med,med,unacc\\nhigh,med,4,2,med,high,unacc\\nhigh,med,4,2,big,low,unacc\\nhigh,med,4,2,big,med,unacc\\nhigh,med,4,2,big,high,unacc\\nhigh,med,4,4,small,low,unacc\\nhigh,med,4,4,small,med,unacc\\nhigh,med,4,4,small,high,acc\\nhigh,med,4,4,med,low,unacc\\nhigh,med,4,4,med,med,acc\\nhigh,med,4,4,med,high,acc\\nhigh,med,4,4,big,low,unacc\\nhigh,med,4,4,big,med,acc\\nhigh,med,4,4,big,high,acc\\nhigh,med,4,more,small,low,unacc\\nhigh,med,4,more,small,med,unacc\\nhigh,med,4,more,small,high,acc\\nhigh,med,4,more,med,low,unacc\\nhigh,med,4,more,med,med,acc\\nhigh,med,4,more,med,high,acc\\nhigh,med,4,more,big,low,unacc\\nhigh,med,4,more,big,med,acc\\nhigh,med,4,more,big,high,acc\\nhigh,med,5more,2,small,low,unacc\\nhigh,med,5more,2,small,med,unacc\\nhigh,med,5more,2,small,high,unacc\\nhigh,med,5more,2,med,low,unacc\\nhigh,med,5more,2,med,med,unacc\\nhigh,med,5more,2,med,high,unacc\\nhigh,med,5more,2,big,low,unacc\\nhigh,med,5more,2,big,med,unacc\\nhigh,med,5more,2,big,high,unacc\\nhigh,med,5more,4,small,low,unacc\\nhigh,med,5more,4,small,med,unacc\\nhigh,med,5more,4,small,high,acc\\nhigh,med,5more,4,med,low,unacc\\nhigh,med,5more,4,med,med,acc\\nhigh,med,5more,4,med,high,acc\\nhigh,med,5more,4,big,low,unacc\\nhigh,med,5more,4,big,med,acc\\nhigh,med,5more,4,big,high,acc\\nhigh,med,5more,more,small,low,unacc\\nhigh,med,5more,more,small,med,unacc\\nhigh,med,5more,more,small,high,acc\\nhigh,med,5more,more,med,low,unacc\\nhigh,med,5more,more,med,med,acc\\nhigh,med,5more,more,med,high,acc\\nhigh,med,5more,more,big,low,unacc\\nhigh,med,5more,more,big,med,acc\\nhigh,med,5more,more,big,high,acc\\nhigh,low,2,2,small,low,unacc\\nhigh,low,2,2,small,med,unacc\\nhigh,low,2,2,small,high,unacc\\nhigh,low,2,2,med,low,unacc\\nhigh,low,2,2,med,med,unacc\\nhigh,low,2,2,med,high,unacc\\nhigh,low,2,2,big,low,unacc\\nhigh,low,2,2,big,med,unacc\\nhigh,low,2,2,big,high,unacc\\nhigh,low,2,4,small,low,unacc\\nhigh,low,2,4,small,med,unacc\\nhigh,low,2,4,small,high,acc\\nhigh,low,2,4,med,low,unacc\\nhigh,low,2,4,med,med,unacc\\nhigh,low,2,4,med,high,acc\\nhigh,low,2,4,big,low,unacc\\nhigh,low,2,4,big,med,acc\\nhigh,low,2,4,big,high,acc\\nhigh,low,2,more,small,low,unacc\\nhigh,low,2,more,small,med,unacc\\nhigh,low,2,more,small,high,unacc\\nhigh,low,2,more,med,low,unacc\\nhigh,low,2,more,med,med,unacc\\nhigh,low,2,more,med,high,acc\\nhigh,low,2,more,big,low,unacc\\nhigh,low,2,more,big,med,acc\\nhigh,low,2,more,big,high,acc\\nhigh,low,3,2,small,low,unacc\\nhigh,low,3,2,small,med,unacc\\nhigh,low,3,2,small,high,unacc\\nhigh,low,3,2,med,low,unacc\\nhigh,low,3,2,med,med,unacc\\nhigh,low,3,2,med,high,unacc\\nhigh,low,3,2,big,low,unacc\\nhigh,low,3,2,big,med,unacc\\nhigh,low,3,2,big,high,unacc\\nhigh,low,3,4,small,low,unacc\\nhigh,low,3,4,small,med,unacc\\nhigh,low,3,4,small,high,acc\\nhigh,low,3,4,med,low,unacc\\nhigh,low,3,4,med,med,unacc\\nhigh,low,3,4,med,high,acc\\nhigh,low,3,4,big,low,unacc\\nhigh,low,3,4,big,med,acc\\nhigh,low,3,4,big,high,acc\\nhigh,low,3,more,small,low,unacc\\nhigh,low,3,more,small,med,unacc\\nhigh,low,3,more,small,high,acc\\nhigh,low,3,more,med,low,unacc\\nhigh,low,3,more,med,med,acc\\nhigh,low,3,more,med,high,acc\\nhigh,low,3,more,big,low,unacc\\nhigh,low,3,more,big,med,acc\\nhigh,low,3,more,big,high,acc\\nhigh,low,4,2,small,low,unacc\\nhigh,low,4,2,small,med,unacc\\nhigh,low,4,2,small,high,unacc\\nhigh,low,4,2,med,low,unacc\\nhigh,low,4,2,med,med,unacc\\nhigh,low,4,2,med,high,unacc\\nhigh,low,4,2,big,low,unacc\\nhigh,low,4,2,big,med,unacc\\nhigh,low,4,2,big,high,unacc\\nhigh,low,4,4,small,low,unacc\\nhigh,low,4,4,small,med,unacc\\nhigh,low,4,4,small,high,acc\\nhigh,low,4,4,med,low,unacc\\nhigh,low,4,4,med,med,acc\\nhigh,low,4,4,med,high,acc\\nhigh,low,4,4,big,low,unacc\\nhigh,low,4,4,big,med,acc\\nhigh,low,4,4,big,high,acc\\nhigh,low,4,more,small,low,unacc\\nhigh,low,4,more,small,med,unacc\\nhigh,low,4,more,small,high,acc\\nhigh,low,4,more,med,low,unacc\\nhigh,low,4,more,med,med,acc\\nhigh,low,4,more,med,high,acc\\nhigh,low,4,more,big,low,unacc\\nhigh,low,4,more,big,med,acc\\nhigh,low,4,more,big,high,acc\\nhigh,low,5more,2,small,low,unacc\\nhigh,low,5more,2,small,med,unacc\\nhigh,low,5more,2,small,high,unacc\\nhigh,low,5more,2,med,low,unacc\\nhigh,low,5more,2,med,med,unacc\\nhigh,low,5more,2,med,high,unacc\\nhigh,low,5more,2,big,low,unacc\\nhigh,low,5more,2,big,med,unacc\\nhigh,low,5more,2,big,high,unacc\\nhigh,low,5more,4,small,low,unacc\\nhigh,low,5more,4,small,med,unacc\\nhigh,low,5more,4,small,high,acc\\nhigh,low,5more,4,med,low,unacc\\nhigh,low,5more,4,med,med,acc\\nhigh,low,5more,4,med,high,acc\\nhigh,low,5more,4,big,low,unacc\\nhigh,low,5more,4,big,med,acc\\nhigh,low,5more,4,big,high,acc\\nhigh,low,5more,more,small,low,unacc\\nhigh,low,5more,more,small,med,unacc\\nhigh,low,5more,more,small,high,acc\\nhigh,low,5more,more,med,low,unacc\\nhigh,low,5more,more,med,med,acc\\nhigh,low,5more,more,med,high,acc\\nhigh,low,5more,more,big,low,unacc\\nhigh,low,5more,more,big,med,acc\\nhigh,low,5more,more,big,high,acc\\nmed,vhigh,2,2,small,low,unacc\\nmed,vhigh,2,2,small,med,unacc\\nmed,vhigh,2,2,small,high,unacc\\nmed,vhigh,2,2,med,low,unacc\\nmed,vhigh,2,2,med,med,unacc\\nmed,vhigh,2,2,med,high,unacc\\nmed,vhigh,2,2,big,low,unacc\\nmed,vhigh,2,2,big,med,unacc\\nmed,vhigh,2,2,big,high,unacc\\nmed,vhigh,2,4,small,low,unacc\\nmed,vhigh,2,4,small,med,unacc\\nmed,vhigh,2,4,small,high,acc\\nmed,vhigh,2,4,med,low,unacc\\nmed,vhigh,2,4,med,med,unacc\\nmed,vhigh,2,4,med,high,acc\\nmed,vhigh,2,4,big,low,unacc\\nmed,vhigh,2,4,big,med,acc\\nmed,vhigh,2,4,big,high,acc\\nmed,vhigh,2,more,small,low,unacc\\nmed,vhigh,2,more,small,med,unacc\\nmed,vhigh,2,more,small,high,unacc\\nmed,vhigh,2,more,med,low,unacc\\nmed,vhigh,2,more,med,med,unacc\\nmed,vhigh,2,more,med,high,acc\\nmed,vhigh,2,more,big,low,unacc\\nmed,vhigh,2,more,big,med,acc\\nmed,vhigh,2,more,big,high,acc\\nmed,vhigh,3,2,small,low,unacc\\nmed,vhigh,3,2,small,med,unacc\\nmed,vhigh,3,2,small,high,unacc\\nmed,vhigh,3,2,med,low,unacc\\nmed,vhigh,3,2,med,med,unacc\\nmed,vhigh,3,2,med,high,unacc\\nmed,vhigh,3,2,big,low,unacc\\nmed,vhigh,3,2,big,med,unacc\\nmed,vhigh,3,2,big,high,unacc\\nmed,vhigh,3,4,small,low,unacc\\nmed,vhigh,3,4,small,med,unacc\\nmed,vhigh,3,4,small,high,acc\\nmed,vhigh,3,4,med,low,unacc\\nmed,vhigh,3,4,med,med,unacc\\nmed,vhigh,3,4,med,high,acc\\nmed,vhigh,3,4,big,low,unacc\\nmed,vhigh,3,4,big,med,acc\\nmed,vhigh,3,4,big,high,acc\\nmed,vhigh,3,more,small,low,unacc\\nmed,vhigh,3,more,small,med,unacc\\nmed,vhigh,3,more,small,high,acc\\nmed,vhigh,3,more,med,low,unacc\\nmed,vhigh,3,more,med,med,acc\\nmed,vhigh,3,more,med,high,acc\\nmed,vhigh,3,more,big,low,unacc\\nmed,vhigh,3,more,big,med,acc\\nmed,vhigh,3,more,big,high,acc\\nmed,vhigh,4,2,small,low,unacc\\nmed,vhigh,4,2,small,med,unacc\\nmed,vhigh,4,2,small,high,unacc\\nmed,vhigh,4,2,med,low,unacc\\nmed,vhigh,4,2,med,med,unacc\\nmed,vhigh,4,2,med,high,unacc\\nmed,vhigh,4,2,big,low,unacc\\nmed,vhigh,4,2,big,med,unacc\\nmed,vhigh,4,2,big,high,unacc\\nmed,vhigh,4,4,small,low,unacc\\nmed,vhigh,4,4,small,med,unacc\\nmed,vhigh,4,4,small,high,acc\\nmed,vhigh,4,4,med,low,unacc\\nmed,vhigh,4,4,med,med,acc\\nmed,vhigh,4,4,med,high,acc\\nmed,vhigh,4,4,big,low,unacc\\nmed,vhigh,4,4,big,med,acc\\nmed,vhigh,4,4,big,high,acc\\nmed,vhigh,4,more,small,low,unacc\\nmed,vhigh,4,more,small,med,unacc\\nmed,vhigh,4,more,small,high,acc\\nmed,vhigh,4,more,med,low,unacc\\nmed,vhigh,4,more,med,med,acc\\nmed,vhigh,4,more,med,high,acc\\nmed,vhigh,4,more,big,low,unacc\\nmed,vhigh,4,more,big,med,acc\\nmed,vhigh,4,more,big,high,acc\\nmed,vhigh,5more,2,small,low,unacc\\nmed,vhigh,5more,2,small,med,unacc\\nmed,vhigh,5more,2,small,high,unacc\\nmed,vhigh,5more,2,med,low,unacc\\nmed,vhigh,5more,2,med,med,unacc\\nmed,vhigh,5more,2,med,high,unacc\\nmed,vhigh,5more,2,big,low,unacc\\nmed,vhigh,5more,2,big,med,unacc\\nmed,vhigh,5more,2,big,high,unacc\\nmed,vhigh,5more,4,small,low,unacc\\nmed,vhigh,5more,4,small,med,unacc\\nmed,vhigh,5more,4,small,high,acc\\nmed,vhigh,5more,4,med,low,unacc\\nmed,vhigh,5more,4,med,med,acc\\nmed,vhigh,5more,4,med,high,acc\\nmed,vhigh,5more,4,big,low,unacc\\nmed,vhigh,5more,4,big,med,acc\\nmed,vhigh,5more,4,big,high,acc\\nmed,vhigh,5more,more,small,low,unacc\\nmed,vhigh,5more,more,small,med,unacc\\nmed,vhigh,5more,more,small,high,acc\\nmed,vhigh,5more,more,med,low,unacc\\nmed,vhigh,5more,more,med,med,acc\\nmed,vhigh,5more,more,med,high,acc\\nmed,vhigh,5more,more,big,low,unacc\\nmed,vhigh,5more,more,big,med,acc\\nmed,vhigh,5more,more,big,high,acc\\nmed,high,2,2,small,low,unacc\\nmed,high,2,2,small,med,unacc\\nmed,high,2,2,small,high,unacc\\nmed,high,2,2,med,low,unacc\\nmed,high,2,2,med,med,unacc\\nmed,high,2,2,med,high,unacc\\nmed,high,2,2,big,low,unacc\\nmed,high,2,2,big,med,unacc\\nmed,high,2,2,big,high,unacc\\nmed,high,2,4,small,low,unacc\\nmed,high,2,4,small,med,unacc\\nmed,high,2,4,small,high,acc\\nmed,high,2,4,med,low,unacc\\nmed,high,2,4,med,med,unacc\\nmed,high,2,4,med,high,acc\\nmed,high,2,4,big,low,unacc\\nmed,high,2,4,big,med,acc\\nmed,high,2,4,big,high,acc\\nmed,high,2,more,small,low,unacc\\nmed,high,2,more,small,med,unacc\\nmed,high,2,more,small,high,unacc\\nmed,high,2,more,med,low,unacc\\nmed,high,2,more,med,med,unacc\\nmed,high,2,more,med,high,acc\\nmed,high,2,more,big,low,unacc\\nmed,high,2,more,big,med,acc\\nmed,high,2,more,big,high,acc\\nmed,high,3,2,small,low,unacc\\nmed,high,3,2,small,med,unacc\\nmed,high,3,2,small,high,unacc\\nmed,high,3,2,med,low,unacc\\nmed,high,3,2,med,med,unacc\\nmed,high,3,2,med,high,unacc\\nmed,high,3,2,big,low,unacc\\nmed,high,3,2,big,med,unacc\\nmed,high,3,2,big,high,unacc\\nmed,high,3,4,small,low,unacc\\nmed,high,3,4,small,med,unacc\\nmed,high,3,4,small,high,acc\\nmed,high,3,4,med,low,unacc\\nmed,high,3,4,med,med,unacc\\nmed,high,3,4,med,high,acc\\nmed,high,3,4,big,low,unacc\\nmed,high,3,4,big,med,acc\\nmed,high,3,4,big,high,acc\\nmed,high,3,more,small,low,unacc\\nmed,high,3,more,small,med,unacc\\nmed,high,3,more,small,high,acc\\nmed,high,3,more,med,low,unacc\\nmed,high,3,more,med,med,acc\\nmed,high,3,more,med,high,acc\\nmed,high,3,more,big,low,unacc\\nmed,high,3,more,big,med,acc\\nmed,high,3,more,big,high,acc\\nmed,high,4,2,small,low,unacc\\nmed,high,4,2,small,med,unacc\\nmed,high,4,2,small,high,unacc\\nmed,high,4,2,med,low,unacc\\nmed,high,4,2,med,med,unacc\\nmed,high,4,2,med,high,unacc\\nmed,high,4,2,big,low,unacc\\nmed,high,4,2,big,med,unacc\\nmed,high,4,2,big,high,unacc\\nmed,high,4,4,small,low,unacc\\nmed,high,4,4,small,med,unacc\\nmed,high,4,4,small,high,acc\\nmed,high,4,4,med,low,unacc\\nmed,high,4,4,med,med,acc\\nmed,high,4,4,med,high,acc\\nmed,high,4,4,big,low,unacc\\nmed,high,4,4,big,med,acc\\nmed,high,4,4,big,high,acc\\nmed,high,4,more,small,low,unacc\\nmed,high,4,more,small,med,unacc\\nmed,high,4,more,small,high,acc\\nmed,high,4,more,med,low,unacc\\nmed,high,4,more,med,med,acc\\nmed,high,4,more,med,high,acc\\nmed,high,4,more,big,low,unacc\\nmed,high,4,more,big,med,acc\\nmed,high,4,more,big,high,acc\\nmed,high,5more,2,small,low,unacc\\nmed,high,5more,2,small,med,unacc\\nmed,high,5more,2,small,high,unacc\\nmed,high,5more,2,med,low,unacc\\nmed,high,5more,2,med,med,unacc\\nmed,high,5more,2,med,high,unacc\\nmed,high,5more,2,big,low,unacc\\nmed,high,5more,2,big,med,unacc\\nmed,high,5more,2,big,high,unacc\\nmed,high,5more,4,small,low,unacc\\nmed,high,5more,4,small,med,unacc\\nmed,high,5more,4,small,high,acc\\nmed,high,5more,4,med,low,unacc\\nmed,high,5more,4,med,med,acc\\nmed,high,5more,4,med,high,acc\\nmed,high,5more,4,big,low,unacc\\nmed,high,5more,4,big,med,acc\\nmed,high,5more,4,big,high,acc\\nmed,high,5more,more,small,low,unacc\\nmed,high,5more,more,small,med,unacc\\nmed,high,5more,more,small,high,acc\\nmed,high,5more,more,med,low,unacc\\nmed,high,5more,more,med,med,acc\\nmed,high,5more,more,med,high,acc\\nmed,high,5more,more,big,low,unacc\\nmed,high,5more,more,big,med,acc\\nmed,high,5more,more,big,high,acc\\nmed,med,2,2,small,low,unacc\\nmed,med,2,2,small,med,unacc\\nmed,med,2,2,small,high,unacc\\nmed,med,2,2,med,low,unacc\\nmed,med,2,2,med,med,unacc\\nmed,med,2,2,med,high,unacc\\nmed,med,2,2,big,low,unacc\\nmed,med,2,2,big,med,unacc\\nmed,med,2,2,big,high,unacc\\nmed,med,2,4,small,low,unacc\\nmed,med,2,4,small,med,acc\\nmed,med,2,4,small,high,acc\\nmed,med,2,4,med,low,unacc\\nmed,med,2,4,med,med,acc\\nmed,med,2,4,med,high,acc\\nmed,med,2,4,big,low,unacc\\nmed,med,2,4,big,med,acc\\nmed,med,2,4,big,high,vgood\\nmed,med,2,more,small,low,unacc\\nmed,med,2,more,small,med,unacc\\nmed,med,2,more,small,high,unacc\\nmed,med,2,more,med,low,unacc\\nmed,med,2,more,med,med,acc\\nmed,med,2,more,med,high,acc\\nmed,med,2,more,big,low,unacc\\nmed,med,2,more,big,med,acc\\nmed,med,2,more,big,high,vgood\\nmed,med,3,2,small,low,unacc\\nmed,med,3,2,small,med,unacc\\nmed,med,3,2,small,high,unacc\\nmed,med,3,2,med,low,unacc\\nmed,med,3,2,med,med,unacc\\nmed,med,3,2,med,high,unacc\\nmed,med,3,2,big,low,unacc\\nmed,med,3,2,big,med,unacc\\nmed,med,3,2,big,high,unacc\\nmed,med,3,4,small,low,unacc\\nmed,med,3,4,small,med,acc\\nmed,med,3,4,small,high,acc\\nmed,med,3,4,med,low,unacc\\nmed,med,3,4,med,med,acc\\nmed,med,3,4,med,high,acc\\nmed,med,3,4,big,low,unacc\\nmed,med,3,4,big,med,acc\\nmed,med,3,4,big,high,vgood\\nmed,med,3,more,small,low,unacc\\nmed,med,3,more,small,med,acc\\nmed,med,3,more,small,high,acc\\nmed,med,3,more,med,low,unacc\\nmed,med,3,more,med,med,acc\\nmed,med,3,more,med,high,vgood\\nmed,med,3,more,big,low,unacc\\nmed,med,3,more,big,med,acc\\nmed,med,3,more,big,high,vgood\\nmed,med,4,2,small,low,unacc\\nmed,med,4,2,small,med,unacc\\nmed,med,4,2,small,high,unacc\\nmed,med,4,2,med,low,unacc\\nmed,med,4,2,med,med,unacc\\nmed,med,4,2,med,high,unacc\\nmed,med,4,2,big,low,unacc\\nmed,med,4,2,big,med,unacc\\nmed,med,4,2,big,high,unacc\\nmed,med,4,4,small,low,unacc\\nmed,med,4,4,small,med,acc\\nmed,med,4,4,small,high,acc\\nmed,med,4,4,med,low,unacc\\nmed,med,4,4,med,med,acc\\nmed,med,4,4,med,high,vgood\\nmed,med,4,4,big,low,unacc\\nmed,med,4,4,big,med,acc\\nmed,med,4,4,big,high,vgood\\nmed,med,4,more,small,low,unacc\\nmed,med,4,more,small,med,acc\\nmed,med,4,more,small,high,acc\\nmed,med,4,more,med,low,unacc\\nmed,med,4,more,med,med,acc\\nmed,med,4,more,med,high,vgood\\nmed,med,4,more,big,low,unacc\\nmed,med,4,more,big,med,acc\\nmed,med,4,more,big,high,vgood\\nmed,med,5more,2,small,low,unacc\\nmed,med,5more,2,small,med,unacc\\nmed,med,5more,2,small,high,unacc\\nmed,med,5more,2,med,low,unacc\\nmed,med,5more,2,med,med,unacc\\nmed,med,5more,2,med,high,unacc\\nmed,med,5more,2,big,low,unacc\\nmed,med,5more,2,big,med,unacc\\nmed,med,5more,2,big,high,unacc\\nmed,med,5more,4,small,low,unacc\\nmed,med,5more,4,small,med,acc\\nmed,med,5more,4,small,high,acc\\nmed,med,5more,4,med,low,unacc\\nmed,med,5more,4,med,med,acc\\nmed,med,5more,4,med,high,vgood\\nmed,med,5more,4,big,low,unacc\\nmed,med,5more,4,big,med,acc\\nmed,med,5more,4,big,high,vgood\\nmed,med,5more,more,small,low,unacc\\nmed,med,5more,more,small,med,acc\\nmed,med,5more,more,small,high,acc\\nmed,med,5more,more,med,low,unacc\\nmed,med,5more,more,med,med,acc\\nmed,med,5more,more,med,high,vgood\\nmed,med,5more,more,big,low,unacc\\nmed,med,5more,more,big,med,acc\\nmed,med,5more,more,big,high,vgood\\nmed,low,2,2,small,low,unacc\\nmed,low,2,2,small,med,unacc\\nmed,low,2,2,small,high,unacc\\nmed,low,2,2,med,low,unacc\\nmed,low,2,2,med,med,unacc\\nmed,low,2,2,med,high,unacc\\nmed,low,2,2,big,low,unacc\\nmed,low,2,2,big,med,unacc\\nmed,low,2,2,big,high,unacc\\nmed,low,2,4,small,low,unacc\\nmed,low,2,4,small,med,acc\\nmed,low,2,4,small,high,good\\nmed,low,2,4,med,low,unacc\\nmed,low,2,4,med,med,acc\\nmed,low,2,4,med,high,good\\nmed,low,2,4,big,low,unacc\\nmed,low,2,4,big,med,good\\nmed,low,2,4,big,high,vgood\\nmed,low,2,more,small,low,unacc\\nmed,low,2,more,small,med,unacc\\nmed,low,2,more,small,high,unacc\\nmed,low,2,more,med,low,unacc\\nmed,low,2,more,med,med,acc\\nmed,low,2,more,med,high,good\\nmed,low,2,more,big,low,unacc\\nmed,low,2,more,big,med,good\\nmed,low,2,more,big,high,vgood\\nmed,low,3,2,small,low,unacc\\nmed,low,3,2,small,med,unacc\\nmed,low,3,2,small,high,unacc\\nmed,low,3,2,med,low,unacc\\nmed,low,3,2,med,med,unacc\\nmed,low,3,2,med,high,unacc\\nmed,low,3,2,big,low,unacc\\nmed,low,3,2,big,med,unacc\\nmed,low,3,2,big,high,unacc\\nmed,low,3,4,small,low,unacc\\nmed,low,3,4,small,med,acc\\nmed,low,3,4,small,high,good\\nmed,low,3,4,med,low,unacc\\nmed,low,3,4,med,med,acc\\nmed,low,3,4,med,high,good\\nmed,low,3,4,big,low,unacc\\nmed,low,3,4,big,med,good\\nmed,low,3,4,big,high,vgood\\nmed,low,3,more,small,low,unacc\\nmed,low,3,more,small,med,acc\\nmed,low,3,more,small,high,good\\nmed,low,3,more,med,low,unacc\\nmed,low,3,more,med,med,good\\nmed,low,3,more,med,high,vgood\\nmed,low,3,more,big,low,unacc\\nmed,low,3,more,big,med,good\\nmed,low,3,more,big,high,vgood\\nmed,low,4,2,small,low,unacc\\nmed,low,4,2,small,med,unacc\\nmed,low,4,2,small,high,unacc\\nmed,low,4,2,med,low,unacc\\nmed,low,4,2,med,med,unacc\\nmed,low,4,2,med,high,unacc\\nmed,low,4,2,big,low,unacc\\nmed,low,4,2,big,med,unacc\\nmed,low,4,2,big,high,unacc\\nmed,low,4,4,small,low,unacc\\nmed,low,4,4,small,med,acc\\nmed,low,4,4,small,high,good\\nmed,low,4,4,med,low,unacc\\nmed,low,4,4,med,med,good\\nmed,low,4,4,med,high,vgood\\nmed,low,4,4,big,low,unacc\\nmed,low,4,4,big,med,good\\nmed,low,4,4,big,high,vgood\\nmed,low,4,more,small,low,unacc\\nmed,low,4,more,small,med,acc\\nmed,low,4,more,small,high,good\\nmed,low,4,more,med,low,unacc\\nmed,low,4,more,med,med,good\\nmed,low,4,more,med,high,vgood\\nmed,low,4,more,big,low,unacc\\nmed,low,4,more,big,med,good\\nmed,low,4,more,big,high,vgood\\nmed,low,5more,2,small,low,unacc\\nmed,low,5more,2,small,med,unacc\\nmed,low,5more,2,small,high,unacc\\nmed,low,5more,2,med,low,unacc\\nmed,low,5more,2,med,med,unacc\\nmed,low,5more,2,med,high,unacc\\nmed,low,5more,2,big,low,unacc\\nmed,low,5more,2,big,med,unacc\\nmed,low,5more,2,big,high,unacc\\nmed,low,5more,4,small,low,unacc\\nmed,low,5more,4,small,med,acc\\nmed,low,5more,4,small,high,good\\nmed,low,5more,4,med,low,unacc\\nmed,low,5more,4,med,med,good\\nmed,low,5more,4,med,high,vgood\\nmed,low,5more,4,big,low,unacc\\nmed,low,5more,4,big,med,good\\nmed,low,5more,4,big,high,vgood\\nmed,low,5more,more,small,low,unacc\\nmed,low,5more,more,small,med,acc\\nmed,low,5more,more,small,high,good\\nmed,low,5more,more,med,low,unacc\\nmed,low,5more,more,med,med,good\\nmed,low,5more,more,med,high,vgood\\nmed,low,5more,more,big,low,unacc\\nmed,low,5more,more,big,med,good\\nmed,low,5more,more,big,high,vgood\\nlow,vhigh,2,2,small,low,unacc\\nlow,vhigh,2,2,small,med,unacc\\nlow,vhigh,2,2,small,high,unacc\\nlow,vhigh,2,2,med,low,unacc\\nlow,vhigh,2,2,med,med,unacc\\nlow,vhigh,2,2,med,high,unacc\\nlow,vhigh,2,2,big,low,unacc\\nlow,vhigh,2,2,big,med,unacc\\nlow,vhigh,2,2,big,high,unacc\\nlow,vhigh,2,4,small,low,unacc\\nlow,vhigh,2,4,small,med,unacc\\nlow,vhigh,2,4,small,high,acc\\nlow,vhigh,2,4,med,low,unacc\\nlow,vhigh,2,4,med,med,unacc\\nlow,vhigh,2,4,med,high,acc\\nlow,vhigh,2,4,big,low,unacc\\nlow,vhigh,2,4,big,med,acc\\nlow,vhigh,2,4,big,high,acc\\nlow,vhigh,2,more,small,low,unacc\\nlow,vhigh,2,more,small,med,unacc\\nlow,vhigh,2,more,small,high,unacc\\nlow,vhigh,2,more,med,low,unacc\\nlow,vhigh,2,more,med,med,unacc\\nlow,vhigh,2,more,med,high,acc\\nlow,vhigh,2,more,big,low,unacc\\nlow,vhigh,2,more,big,med,acc\\nlow,vhigh,2,more,big,high,acc\\nlow,vhigh,3,2,small,low,unacc\\nlow,vhigh,3,2,small,med,unacc\\nlow,vhigh,3,2,small,high,unacc\\nlow,vhigh,3,2,med,low,unacc\\nlow,vhigh,3,2,med,med,unacc\\nlow,vhigh,3,2,med,high,unacc\\nlow,vhigh,3,2,big,low,unacc\\nlow,vhigh,3,2,big,med,unacc\\nlow,vhigh,3,2,big,high,unacc\\nlow,vhigh,3,4,small,low,unacc\\nlow,vhigh,3,4,small,med,unacc\\nlow,vhigh,3,4,small,high,acc\\nlow,vhigh,3,4,med,low,unacc\\nlow,vhigh,3,4,med,med,unacc\\nlow,vhigh,3,4,med,high,acc\\nlow,vhigh,3,4,big,low,unacc\\nlow,vhigh,3,4,big,med,acc\\nlow,vhigh,3,4,big,high,acc\\nlow,vhigh,3,more,small,low,unacc\\nlow,vhigh,3,more,small,med,unacc\\nlow,vhigh,3,more,small,high,acc\\nlow,vhigh,3,more,med,low,unacc\\nlow,vhigh,3,more,med,med,acc\\nlow,vhigh,3,more,med,high,acc\\nlow,vhigh,3,more,big,low,unacc\\nlow,vhigh,3,more,big,med,acc\\nlow,vhigh,3,more,big,high,acc\\nlow,vhigh,4,2,small,low,unacc\\nlow,vhigh,4,2,small,med,unacc\\nlow,vhigh,4,2,small,high,unacc\\nlow,vhigh,4,2,med,low,unacc\\nlow,vhigh,4,2,med,med,unacc\\nlow,vhigh,4,2,med,high,unacc\\nlow,vhigh,4,2,big,low,unacc\\nlow,vhigh,4,2,big,med,unacc\\nlow,vhigh,4,2,big,high,unacc\\nlow,vhigh,4,4,small,low,unacc\\nlow,vhigh,4,4,small,med,unacc\\nlow,vhigh,4,4,small,high,acc\\nlow,vhigh,4,4,med,low,unacc\\nlow,vhigh,4,4,med,med,acc\\nlow,vhigh,4,4,med,high,acc\\nlow,vhigh,4,4,big,low,unacc\\nlow,vhigh,4,4,big,med,acc\\nlow,vhigh,4,4,big,high,acc\\nlow,vhigh,4,more,small,low,unacc\\nlow,vhigh,4,more,small,med,unacc\\nlow,vhigh,4,more,small,high,acc\\nlow,vhigh,4,more,med,low,unacc\\nlow,vhigh,4,more,med,med,acc\\nlow,vhigh,4,more,med,high,acc\\nlow,vhigh,4,more,big,low,unacc\\nlow,vhigh,4,more,big,med,acc\\nlow,vhigh,4,more,big,high,acc\\nlow,vhigh,5more,2,small,low,unacc\\nlow,vhigh,5more,2,small,med,unacc\\nlow,vhigh,5more,2,small,high,unacc\\nlow,vhigh,5more,2,med,low,unacc\\nlow,vhigh,5more,2,med,med,unacc\\nlow,vhigh,5more,2,med,high,unacc\\nlow,vhigh,5more,2,big,low,unacc\\nlow,vhigh,5more,2,big,med,unacc\\nlow,vhigh,5more,2,big,high,unacc\\nlow,vhigh,5more,4,small,low,unacc\\nlow,vhigh,5more,4,small,med,unacc\\nlow,vhigh,5more,4,small,high,acc\\nlow,vhigh,5more,4,med,low,unacc\\nlow,vhigh,5more,4,med,med,acc\\nlow,vhigh,5more,4,med,high,acc\\nlow,vhigh,5more,4,big,low,unacc\\nlow,vhigh,5more,4,big,med,acc\\nlow,vhigh,5more,4,big,high,acc\\nlow,vhigh,5more,more,small,low,unacc\\nlow,vhigh,5more,more,small,med,unacc\\nlow,vhigh,5more,more,small,high,acc\\nlow,vhigh,5more,more,med,low,unacc\\nlow,vhigh,5more,more,med,med,acc\\nlow,vhigh,5more,more,med,high,acc\\nlow,vhigh,5more,more,big,low,unacc\\nlow,vhigh,5more,more,big,med,acc\\nlow,vhigh,5more,more,big,high,acc\\nlow,high,2,2,small,low,unacc\\nlow,high,2,2,small,med,unacc\\nlow,high,2,2,small,high,unacc\\nlow,high,2,2,med,low,unacc\\nlow,high,2,2,med,med,unacc\\nlow,high,2,2,med,high,unacc\\nlow,high,2,2,big,low,unacc\\nlow,high,2,2,big,med,unacc\\nlow,high,2,2,big,high,unacc\\nlow,high,2,4,small,low,unacc\\nlow,high,2,4,small,med,acc\\nlow,high,2,4,small,high,acc\\nlow,high,2,4,med,low,unacc\\nlow,high,2,4,med,med,acc\\nlow,high,2,4,med,high,acc\\nlow,high,2,4,big,low,unacc\\nlow,high,2,4,big,med,acc\\nlow,high,2,4,big,high,vgood\\nlow,high,2,more,small,low,unacc\\nlow,high,2,more,small,med,unacc\\nlow,high,2,more,small,high,unacc\\nlow,high,2,more,med,low,unacc\\nlow,high,2,more,med,med,acc\\nlow,high,2,more,med,high,acc\\nlow,high,2,more,big,low,unacc\\nlow,high,2,more,big,med,acc\\nlow,high,2,more,big,high,vgood\\nlow,high,3,2,small,low,unacc\\nlow,high,3,2,small,med,unacc\\nlow,high,3,2,small,high,unacc\\nlow,high,3,2,med,low,unacc\\nlow,high,3,2,med,med,unacc\\nlow,high,3,2,med,high,unacc\\nlow,high,3,2,big,low,unacc\\nlow,high,3,2,big,med,unacc\\nlow,high,3,2,big,high,unacc\\nlow,high,3,4,small,low,unacc\\nlow,high,3,4,small,med,acc\\nlow,high,3,4,small,high,acc\\nlow,high,3,4,med,low,unacc\\nlow,high,3,4,med,med,acc\\nlow,high,3,4,med,high,acc\\nlow,high,3,4,big,low,unacc\\nlow,high,3,4,big,med,acc\\nlow,high,3,4,big,high,vgood\\nlow,high,3,more,small,low,unacc\\nlow,high,3,more,small,med,acc\\nlow,high,3,more,small,high,acc\\nlow,high,3,more,med,low,unacc\\nlow,high,3,more,med,med,acc\\nlow,high,3,more,med,high,vgood\\nlow,high,3,more,big,low,unacc\\nlow,high,3,more,big,med,acc\\nlow,high,3,more,big,high,vgood\\nlow,high,4,2,small,low,unacc\\nlow,high,4,2,small,med,unacc\\nlow,high,4,2,small,high,unacc\\nlow,high,4,2,med,low,unacc\\nlow,high,4,2,med,med,unacc\\nlow,high,4,2,med,high,unacc\\nlow,high,4,2,big,low,unacc\\nlow,high,4,2,big,med,unacc\\nlow,high,4,2,big,high,unacc\\nlow,high,4,4,small,low,unacc\\nlow,high,4,4,small,med,acc\\nlow,high,4,4,small,high,acc\\nlow,high,4,4,med,low,unacc\\nlow,high,4,4,med,med,acc\\nlow,high,4,4,med,high,vgood\\nlow,high,4,4,big,low,unacc\\nlow,high,4,4,big,med,acc\\nlow,high,4,4,big,high,vgood\\nlow,high,4,more,small,low,unacc\\nlow,high,4,more,small,med,acc\\nlow,high,4,more,small,high,acc\\nlow,high,4,more,med,low,unacc\\nlow,high,4,more,med,med,acc\\nlow,high,4,more,med,high,vgood\\nlow,high,4,more,big,low,unacc\\nlow,high,4,more,big,med,acc\\nlow,high,4,more,big,high,vgood\\nlow,high,5more,2,small,low,unacc\\nlow,high,5more,2,small,med,unacc\\nlow,high,5more,2,small,high,unacc\\nlow,high,5more,2,med,low,unacc\\nlow,high,5more,2,med,med,unacc\\nlow,high,5more,2,med,high,unacc\\nlow,high,5more,2,big,low,unacc\\nlow,high,5more,2,big,med,unacc\\nlow,high,5more,2,big,high,unacc\\nlow,high,5more,4,small,low,unacc\\nlow,high,5more,4,small,med,acc\\nlow,high,5more,4,small,high,acc\\nlow,high,5more,4,med,low,unacc\\nlow,high,5more,4,med,med,acc\\nlow,high,5more,4,med,high,vgood\\nlow,high,5more,4,big,low,unacc\\nlow,high,5more,4,big,med,acc\\nlow,high,5more,4,big,high,vgood\\nlow,high,5more,more,small,low,unacc\\nlow,high,5more,more,small,med,acc\\nlow,high,5more,more,small,high,acc\\nlow,high,5more,more,med,low,unacc\\nlow,high,5more,more,med,med,acc\\nlow,high,5more,more,med,high,vgood\\nlow,high,5more,more,big,low,unacc\\nlow,high,5more,more,big,med,acc\\nlow,high,5more,more,big,high,vgood\\nlow,med,2,2,small,low,unacc\\nlow,med,2,2,small,med,unacc\\nlow,med,2,2,small,high,unacc\\nlow,med,2,2,med,low,unacc\\nlow,med,2,2,med,med,unacc\\nlow,med,2,2,med,high,unacc\\nlow,med,2,2,big,low,unacc\\nlow,med,2,2,big,med,unacc\\nlow,med,2,2,big,high,unacc\\nlow,med,2,4,small,low,unacc\\nlow,med,2,4,small,med,acc\\nlow,med,2,4,small,high,good\\nlow,med,2,4,med,low,unacc\\nlow,med,2,4,med,med,acc\\nlow,med,2,4,med,high,good\\nlow,med,2,4,big,low,unacc\\nlow,med,2,4,big,med,good\\nlow,med,2,4,big,high,vgood\\nlow,med,2,more,small,low,unacc\\nlow,med,2,more,small,med,unacc\\nlow,med,2,more,small,high,unacc\\nlow,med,2,more,med,low,unacc\\nlow,med,2,more,med,med,acc\\nlow,med,2,more,med,high,good\\nlow,med,2,more,big,low,unacc\\nlow,med,2,more,big,med,good\\nlow,med,2,more,big,high,vgood\\nlow,med,3,2,small,low,unacc\\nlow,med,3,2,small,med,unacc\\nlow,med,3,2,small,high,unacc\\nlow,med,3,2,med,low,unacc\\nlow,med,3,2,med,med,unacc\\nlow,med,3,2,med,high,unacc\\nlow,med,3,2,big,low,unacc\\nlow,med,3,2,big,med,unacc\\nlow,med,3,2,big,high,unacc\\nlow,med,3,4,small,low,unacc\\nlow,med,3,4,small,med,acc\\nlow,med,3,4,small,high,good\\nlow,med,3,4,med,low,unacc\\nlow,med,3,4,med,med,acc\\nlow,med,3,4,med,high,good\\nlow,med,3,4,big,low,unacc\\nlow,med,3,4,big,med,good\\nlow,med,3,4,big,high,vgood\\nlow,med,3,more,small,low,unacc\\nlow,med,3,more,small,med,acc\\nlow,med,3,more,small,high,good\\nlow,med,3,more,med,low,unacc\\nlow,med,3,more,med,med,good\\nlow,med,3,more,med,high,vgood\\nlow,med,3,more,big,low,unacc\\nlow,med,3,more,big,med,good\\nlow,med,3,more,big,high,vgood\\nlow,med,4,2,small,low,unacc\\nlow,med,4,2,small,med,unacc\\nlow,med,4,2,small,high,unacc\\nlow,med,4,2,med,low,unacc\\nlow,med,4,2,med,med,unacc\\nlow,med,4,2,med,high,unacc\\nlow,med,4,2,big,low,unacc\\nlow,med,4,2,big,med,unacc\\nlow,med,4,2,big,high,unacc\\nlow,med,4,4,small,low,unacc\\nlow,med,4,4,small,med,acc\\nlow,med,4,4,small,high,good\\nlow,med,4,4,med,low,unacc\\nlow,med,4,4,med,med,good\\nlow,med,4,4,med,high,vgood\\nlow,med,4,4,big,low,unacc\\nlow,med,4,4,big,med,good\\nlow,med,4,4,big,high,vgood\\nlow,med,4,more,small,low,unacc\\nlow,med,4,more,small,med,acc\\nlow,med,4,more,small,high,good\\nlow,med,4,more,med,low,unacc\\nlow,med,4,more,med,med,good\\nlow,med,4,more,med,high,vgood\\nlow,med,4,more,big,low,unacc\\nlow,med,4,more,big,med,good\\nlow,med,4,more,big,high,vgood\\nlow,med,5more,2,small,low,unacc\\nlow,med,5more,2,small,med,unacc\\nlow,med,5more,2,small,high,unacc\\nlow,med,5more,2,med,low,unacc\\nlow,med,5more,2,med,med,unacc\\nlow,med,5more,2,med,high,unacc\\nlow,med,5more,2,big,low,unacc\\nlow,med,5more,2,big,med,unacc\\nlow,med,5more,2,big,high,unacc\\nlow,med,5more,4,small,low,unacc\\nlow,med,5more,4,small,med,acc\\nlow,med,5more,4,small,high,good\\nlow,med,5more,4,med,low,unacc\\nlow,med,5more,4,med,med,good\\nlow,med,5more,4,med,high,vgood\\nlow,med,5more,4,big,low,unacc\\nlow,med,5more,4,big,med,good\\nlow,med,5more,4,big,high,vgood\\nlow,med,5more,more,small,low,unacc\\nlow,med,5more,more,small,med,acc\\nlow,med,5more,more,small,high,good\\nlow,med,5more,more,med,low,unacc\\nlow,med,5more,more,med,med,good\\nlow,med,5more,more,med,high,vgood\\nlow,med,5more,more,big,low,unacc\\nlow,med,5more,more,big,med,good\\nlow,med,5more,more,big,high,vgood\\nlow,low,2,2,small,low,unacc\\nlow,low,2,2,small,med,unacc\\nlow,low,2,2,small,high,unacc\\nlow,low,2,2,med,low,unacc\\nlow,low,2,2,med,med,unacc\\nlow,low,2,2,med,high,unacc\\nlow,low,2,2,big,low,unacc\\nlow,low,2,2,big,med,unacc\\nlow,low,2,2,big,high,unacc\\nlow,low,2,4,small,low,unacc\\nlow,low,2,4,small,med,acc\\nlow,low,2,4,small,high,good\\nlow,low,2,4,med,low,unacc\\nlow,low,2,4,med,med,acc\\nlow,low,2,4,med,high,good\\nlow,low,2,4,big,low,unacc\\nlow,low,2,4,big,med,good\\nlow,low,2,4,big,high,vgood\\nlow,low,2,more,small,low,unacc\\nlow,low,2,more,small,med,unacc\\nlow,low,2,more,small,high,unacc\\nlow,low,2,more,med,low,unacc\\nlow,low,2,more,med,med,acc\\nlow,low,2,more,med,high,good\\nlow,low,2,more,big,low,unacc\\nlow,low,2,more,big,med,good\\nlow,low,2,more,big,high,vgood\\nlow,low,3,2,small,low,unacc\\nlow,low,3,2,small,med,unacc\\nlow,low,3,2,small,high,unacc\\nlow,low,3,2,med,low,unacc\\nlow,low,3,2,med,med,unacc\\nlow,low,3,2,med,high,unacc\\nlow,low,3,2,big,low,unacc\\nlow,low,3,2,big,med,unacc\\nlow,low,3,2,big,high,unacc\\nlow,low,3,4,small,low,unacc\\nlow,low,3,4,small,med,acc\\nlow,low,3,4,small,high,good\\nlow,low,3,4,med,low,unacc\\nlow,low,3,4,med,med,acc\\nlow,low,3,4,med,high,good\\nlow,low,3,4,big,low,unacc\\nlow,low,3,4,big,med,good\\nlow,low,3,4,big,high,vgood\\nlow,low,3,more,small,low,unacc\\nlow,low,3,more,small,med,acc\\nlow,low,3,more,small,high,good\\nlow,low,3,more,med,low,unacc\\nlow,low,3,more,med,med,good\\nlow,low,3,more,med,high,vgood\\nlow,low,3,more,big,low,unacc\\nlow,low,3,more,big,med,good\\nlow,low,3,more,big,high,vgood\\nlow,low,4,2,small,low,unacc\\nlow,low,4,2,small,med,unacc\\nlow,low,4,2,small,high,unacc\\nlow,low,4,2,med,low,unacc\\nlow,low,4,2,med,med,unacc\\nlow,low,4,2,med,high,unacc\\nlow,low,4,2,big,low,unacc\\nlow,low,4,2,big,med,unacc\\nlow,low,4,2,big,high,unacc\\nlow,low,4,4,small,low,unacc\\nlow,low,4,4,small,med,acc\\nlow,low,4,4,small,high,good\\nlow,low,4,4,med,low,unacc\\nlow,low,4,4,med,med,good\\nlow,low,4,4,med,high,vgood\\nlow,low,4,4,big,low,unacc\\nlow,low,4,4,big,med,good\\nlow,low,4,4,big,high,vgood\\nlow,low,4,more,small,low,unacc\\nlow,low,4,more,small,med,acc\\nlow,low,4,more,small,high,good\\nlow,low,4,more,med,low,unacc\\nlow,low,4,more,med,med,good\\nlow,low,4,more,med,high,vgood\\nlow,low,4,more,big,low,unacc\\nlow,low,4,more,big,med,good\\nlow,low,4,more,big,high,vgood\\nlow,low,5more,2,small,low,unacc\\nlow,low,5more,2,small,med,unacc\\nlow,low,5more,2,small,high,unacc\\nlow,low,5more,2,med,low,unacc\\nlow,low,5more,2,med,med,unacc\\nlow,low,5more,2,med,high,unacc\\nlow,low,5more,2,big,low,unacc\\nlow,low,5more,2,big,med,unacc\\nlow,low,5more,2,big,high,unacc\\nlow,low,5more,4,small,low,unacc\\nlow,low,5more,4,small,med,acc\\nlow,low,5more,4,small,high,good\\nlow,low,5more,4,med,low,unacc\\nlow,low,5more,4,med,med,good\\nlow,low,5more,4,med,high,vgood\\nlow,low,5more,4,big,low,unacc\\nlow,low,5more,4,big,med,good\\nlow,low,5more,4,big,high,vgood\\nlow,low,5more,more,small,low,unacc\\nlow,low,5more,more,small,med,acc\\nlow,low,5more,more,small,high,good\\nlow,low,5more,more,med,low,unacc\\nlow,low,5more,more,med,med,good\\nlow,low,5more,more,med,high,vgood\\nlow,low,5more,more,big,low,unacc\\nlow,low,5more,more,big,med,good\\nlow,low,5more,more,big,high,vgood\\n'"
      ]
     },
     "execution_count": 6,
     "metadata": {},
     "output_type": "execute_result"
    }
   ],
   "source": [
    "f.read()"
   ]
  },
  {
   "cell_type": "code",
   "execution_count": 7,
   "id": "0f255950",
   "metadata": {},
   "outputs": [
    {
     "data": {
      "text/plain": [
       "[]"
      ]
     },
     "execution_count": 7,
     "metadata": {},
     "output_type": "execute_result"
    }
   ],
   "source": [
    "f.readlines()"
   ]
  },
  {
   "cell_type": "code",
   "execution_count": null,
   "id": "6ad20b6b",
   "metadata": {},
   "outputs": [],
   "source": [
    "9. What data structure does a shelf value resemble?"
   ]
  },
  {
   "cell_type": "code",
   "execution_count": null,
   "id": "2f99d7d9",
   "metadata": {},
   "outputs": [],
   "source": [
    "shelf resembles a dictionary data structure"
   ]
  }
 ],
 "metadata": {
  "kernelspec": {
   "display_name": "Python 3",
   "language": "python",
   "name": "python3"
  },
  "language_info": {
   "codemirror_mode": {
    "name": "ipython",
    "version": 3
   },
   "file_extension": ".py",
   "mimetype": "text/x-python",
   "name": "python",
   "nbconvert_exporter": "python",
   "pygments_lexer": "ipython3",
   "version": "3.8.8"
  }
 },
 "nbformat": 4,
 "nbformat_minor": 5
}
