{
 "cells": [
  {
   "cell_type": "code",
   "execution_count": null,
   "id": "f13dad62",
   "metadata": {},
   "outputs": [],
   "source": [
    "1. What are escape characters, and how do you use them?\n",
    "2. What do the escape characters n and t stand for?\n",
    "3. What is the way to include backslash characters in a string?\n",
    "4. The string \"Howl's Moving Castle\" is a correct value. Why isn't the single quote character in the word Howl's not escaped a problem?\n",
    "5. How do you write a string of newlines if you don't want to use the n character?\n",
    "6. What are the values of the given expressions?\n",
    "'Hello, world!'[1]\n",
    "'Hello, world!'[0:5]\n",
    "'Hello, world!'[:5]\n",
    "'Hello, world!'[3:]\n",
    "\n",
    "7. What are the values of the following expressions?\n",
    "'Hello'.upper()\n",
    "'Hello'.upper().isupper()\n",
    "'Hello'.upper().lower()\n",
    "8. What are the values of the following expressions?\n",
    "'Remember, remember, the fifth of July.'.split()\n",
    "'-'.join('There can only one.'.split())\n",
    "9. What are the methods for right-justifying, left-justifying, and centering a string?\n",
    "10. What is the best way to remove whitespace characters from the start or end?\n",
    "\n"
   ]
  },
  {
   "cell_type": "code",
   "execution_count": null,
   "id": "b9b73f63",
   "metadata": {},
   "outputs": [],
   "source": [
    "1. What are escape characters, and how do you use them?"
   ]
  },
  {
   "cell_type": "code",
   "execution_count": null,
   "id": "fcd30132",
   "metadata": {},
   "outputs": [],
   "source": [
    "Escape characters are values that help in writing string values that are impossible to put into code"
   ]
  },
  {
   "cell_type": "code",
   "execution_count": 3,
   "id": "ab12ca31",
   "metadata": {},
   "outputs": [
    {
     "ename": "SyntaxError",
     "evalue": "invalid syntax (<ipython-input-3-dca811e54624>, line 1)",
     "output_type": "error",
     "traceback": [
      "\u001b[1;36m  File \u001b[1;32m\"<ipython-input-3-dca811e54624>\"\u001b[1;36m, line \u001b[1;32m1\u001b[0m\n\u001b[1;33m    s=\"i love \"l\" \"\u001b[0m\n\u001b[1;37m               ^\u001b[0m\n\u001b[1;31mSyntaxError\u001b[0m\u001b[1;31m:\u001b[0m invalid syntax\n"
     ]
    }
   ],
   "source": [
    "s=\"i love \"l\" \""
   ]
  },
  {
   "cell_type": "code",
   "execution_count": 11,
   "id": "c1af7f51",
   "metadata": {},
   "outputs": [],
   "source": [
    "s=\" i love \\\"l\\\" \""
   ]
  },
  {
   "cell_type": "code",
   "execution_count": 7,
   "id": "e16e90cd",
   "metadata": {},
   "outputs": [
    {
     "data": {
      "text/plain": [
       "' i love \"l\" '"
      ]
     },
     "execution_count": 7,
     "metadata": {},
     "output_type": "execute_result"
    }
   ],
   "source": [
    "s"
   ]
  },
  {
   "cell_type": "code",
   "execution_count": null,
   "id": "fbe28ea3",
   "metadata": {},
   "outputs": [],
   "source": [
    "here '\\' is an escape character"
   ]
  },
  {
   "cell_type": "code",
   "execution_count": null,
   "id": "66c150e8",
   "metadata": {},
   "outputs": [],
   "source": [
    "2. What do the escape characters n and t stand for?"
   ]
  },
  {
   "cell_type": "code",
   "execution_count": null,
   "id": "0bb023b1",
   "metadata": {},
   "outputs": [],
   "source": [
    "n represents a new line,while t represents a tab as in space"
   ]
  },
  {
   "cell_type": "code",
   "execution_count": null,
   "id": "9ef5d699",
   "metadata": {},
   "outputs": [],
   "source": [
    "3. What is the way to include backslash characters in a string?"
   ]
  },
  {
   "cell_type": "code",
   "execution_count": 3,
   "id": "a58c1a87",
   "metadata": {},
   "outputs": [],
   "source": [
    "s=\" i love \\\\ x\""
   ]
  },
  {
   "cell_type": "code",
   "execution_count": 2,
   "id": "478f0a2e",
   "metadata": {},
   "outputs": [
    {
     "data": {
      "text/plain": [
       "' i love \\\\ x'"
      ]
     },
     "execution_count": 2,
     "metadata": {},
     "output_type": "execute_result"
    }
   ],
   "source": [
    "s"
   ]
  },
  {
   "cell_type": "code",
   "execution_count": null,
   "id": "4a4e5cfc",
   "metadata": {},
   "outputs": [],
   "source": [
    "4. The string \"Howl's Moving Castle\" is a correct value. \n",
    "Why isn't the single quote character in the word Howl's not escaped a problem?"
   ]
  },
  {
   "cell_type": "code",
   "execution_count": 4,
   "id": "b5dba681",
   "metadata": {},
   "outputs": [],
   "source": [
    "s=\"Howl's Moving Castle\" "
   ]
  },
  {
   "cell_type": "code",
   "execution_count": 6,
   "id": "7cd163ba",
   "metadata": {},
   "outputs": [],
   "source": [
    "s='Howl's Moving Castle'"
   ]
  },
  {
   "cell_type": "code",
   "execution_count": null,
   "id": "599e7d4c",
   "metadata": {},
   "outputs": [],
   "source": [
    "This is because, the moment single quote comes up,the programs will start searching for the end of a string. \n",
    "Here,because of apostrophe being the same identifier as a single quote,there comes an error"
   ]
  },
  {
   "cell_type": "code",
   "execution_count": null,
   "id": "2f58247c",
   "metadata": {},
   "outputs": [],
   "source": [
    "5. How do you write a string of newlines if you don't want to use the n character?"
   ]
  },
  {
   "cell_type": "code",
   "execution_count": 25,
   "id": "66bf449a",
   "metadata": {},
   "outputs": [],
   "source": [
    "str=\" rolex is costly \\n unlike many other\""
   ]
  },
  {
   "cell_type": "code",
   "execution_count": 26,
   "id": "7a02d384",
   "metadata": {},
   "outputs": [
    {
     "name": "stdout",
     "output_type": "stream",
     "text": [
      " rolex is costly \n",
      " unlike many other\n"
     ]
    }
   ],
   "source": [
    "print(str)"
   ]
  },
  {
   "cell_type": "code",
   "execution_count": 27,
   "id": "61a49df1",
   "metadata": {},
   "outputs": [
    {
     "name": "stdout",
     "output_type": "stream",
     "text": [
      "rolex is costly\n",
      "unlike other\n"
     ]
    }
   ],
   "source": [
    "print(\"rolex is costly\")\n",
    "print(\"unlike other\")"
   ]
  },
  {
   "cell_type": "code",
   "execution_count": null,
   "id": "659228e8",
   "metadata": {},
   "outputs": [],
   "source": [
    "6. What are the values of the given expressions?\n",
    "'Hello, world!'[1]\n",
    "'Hello, world!'[0:5]\n",
    "'Hello, world!'[:5]\n",
    "'Hello, world!'[3:]"
   ]
  },
  {
   "cell_type": "code",
   "execution_count": 30,
   "id": "16ba741d",
   "metadata": {},
   "outputs": [
    {
     "data": {
      "text/plain": [
       "'e'"
      ]
     },
     "execution_count": 30,
     "metadata": {},
     "output_type": "execute_result"
    }
   ],
   "source": [
    "'Hello, world!'[1]\n"
   ]
  },
  {
   "cell_type": "code",
   "execution_count": 31,
   "id": "89120dec",
   "metadata": {},
   "outputs": [
    {
     "data": {
      "text/plain": [
       "'Hello'"
      ]
     },
     "execution_count": 31,
     "metadata": {},
     "output_type": "execute_result"
    }
   ],
   "source": [
    "'Hello, world!'[0:5]\n"
   ]
  },
  {
   "cell_type": "code",
   "execution_count": 32,
   "id": "be8d9bf2",
   "metadata": {},
   "outputs": [
    {
     "data": {
      "text/plain": [
       "'Hello'"
      ]
     },
     "execution_count": 32,
     "metadata": {},
     "output_type": "execute_result"
    }
   ],
   "source": [
    "\n",
    "'Hello, world!'[:5]\n"
   ]
  },
  {
   "cell_type": "code",
   "execution_count": 33,
   "id": "16c26664",
   "metadata": {},
   "outputs": [
    {
     "data": {
      "text/plain": [
       "'lo, world!'"
      ]
     },
     "execution_count": 33,
     "metadata": {},
     "output_type": "execute_result"
    }
   ],
   "source": [
    "\n",
    "'Hello, world!'[3:]"
   ]
  },
  {
   "cell_type": "code",
   "execution_count": null,
   "id": "42f612a6",
   "metadata": {},
   "outputs": [],
   "source": [
    "7. What are the values of the following expressions?\n",
    "'Hello'.upper()\n",
    "'Hello'.upper().isupper()\n",
    "'Hello'.upper().lower()"
   ]
  },
  {
   "cell_type": "code",
   "execution_count": 34,
   "id": "97749ac6",
   "metadata": {},
   "outputs": [
    {
     "data": {
      "text/plain": [
       "'HELLO'"
      ]
     },
     "execution_count": 34,
     "metadata": {},
     "output_type": "execute_result"
    }
   ],
   "source": [
    "'Hello'.upper()"
   ]
  },
  {
   "cell_type": "code",
   "execution_count": 35,
   "id": "73734431",
   "metadata": {},
   "outputs": [
    {
     "data": {
      "text/plain": [
       "True"
      ]
     },
     "execution_count": 35,
     "metadata": {},
     "output_type": "execute_result"
    }
   ],
   "source": [
    "'Hello'.upper().isupper()"
   ]
  },
  {
   "cell_type": "code",
   "execution_count": 36,
   "id": "e5f5ed0c",
   "metadata": {},
   "outputs": [
    {
     "data": {
      "text/plain": [
       "'hello'"
      ]
     },
     "execution_count": 36,
     "metadata": {},
     "output_type": "execute_result"
    }
   ],
   "source": [
    "'Hello'.upper().lower()"
   ]
  },
  {
   "cell_type": "code",
   "execution_count": null,
   "id": "d1cc2a6e",
   "metadata": {},
   "outputs": [],
   "source": [
    "8. What are the values of the following expressions?\n",
    "'Remember, remember, the fifth of July.'.split()\n",
    "'-'.join('There can only one.'.split())"
   ]
  },
  {
   "cell_type": "code",
   "execution_count": 37,
   "id": "3629ffe0",
   "metadata": {},
   "outputs": [
    {
     "data": {
      "text/plain": [
       "['Remember,', 'remember,', 'the', 'fifth', 'of', 'July.']"
      ]
     },
     "execution_count": 37,
     "metadata": {},
     "output_type": "execute_result"
    }
   ],
   "source": [
    "'Remember, remember, the fifth of July.'.split()"
   ]
  },
  {
   "cell_type": "code",
   "execution_count": 38,
   "id": "99208942",
   "metadata": {},
   "outputs": [
    {
     "data": {
      "text/plain": [
       "'There-can-only-one.'"
      ]
     },
     "execution_count": 38,
     "metadata": {},
     "output_type": "execute_result"
    }
   ],
   "source": [
    "'-'.join('There can only one.'.split())"
   ]
  },
  {
   "cell_type": "code",
   "execution_count": null,
   "id": "3fbc7d55",
   "metadata": {},
   "outputs": [],
   "source": [
    "9. What are the methods for right-justifying, left-justifying, and centering a string?"
   ]
  },
  {
   "cell_type": "code",
   "execution_count": 29,
   "id": "19789626",
   "metadata": {},
   "outputs": [],
   "source": [
    "s='Remember the fifth of July   '"
   ]
  },
  {
   "cell_type": "code",
   "execution_count": 37,
   "id": "2b52e7c9",
   "metadata": {},
   "outputs": [
    {
     "data": {
      "text/plain": [
       "'Remember the fifth of July   #######################################################################'"
      ]
     },
     "execution_count": 37,
     "metadata": {},
     "output_type": "execute_result"
    }
   ],
   "source": [
    "s.ljust(100,'#')"
   ]
  },
  {
   "cell_type": "code",
   "execution_count": 38,
   "id": "cc470792",
   "metadata": {},
   "outputs": [
    {
     "data": {
      "text/plain": [
       "'###########################################################################################################################################################################Remember the fifth of July   '"
      ]
     },
     "execution_count": 38,
     "metadata": {},
     "output_type": "execute_result"
    }
   ],
   "source": [
    "s.rjust(200,\"#\")"
   ]
  },
  {
   "cell_type": "code",
   "execution_count": 39,
   "id": "bbea3e18",
   "metadata": {},
   "outputs": [
    {
     "data": {
      "text/plain": [
       "'Remember the fifth of July   '"
      ]
     },
     "execution_count": 39,
     "metadata": {},
     "output_type": "execute_result"
    }
   ],
   "source": [
    "s"
   ]
  },
  {
   "cell_type": "code",
   "execution_count": 45,
   "id": "f36b5f0a",
   "metadata": {},
   "outputs": [
    {
     "data": {
      "text/plain": [
       "'#######################################################################################################################################Remember the fifth of July   ########################################################################################################################################'"
      ]
     },
     "execution_count": 45,
     "metadata": {},
     "output_type": "execute_result"
    }
   ],
   "source": [
    "s.center(300,\"#\")"
   ]
  },
  {
   "cell_type": "code",
   "execution_count": 24,
   "id": "9c0e5ed1",
   "metadata": {},
   "outputs": [
    {
     "data": {
      "text/plain": [
       "'  Remember, remember, the fifth of July   '"
      ]
     },
     "execution_count": 24,
     "metadata": {},
     "output_type": "execute_result"
    }
   ],
   "source": [
    "s"
   ]
  },
  {
   "cell_type": "code",
   "execution_count": null,
   "id": "d3f20af1",
   "metadata": {},
   "outputs": [],
   "source": [
    "10. What is the best way to remove whitespace characters from the start or end?\n"
   ]
  },
  {
   "cell_type": "code",
   "execution_count": 46,
   "id": "f0fe24e3",
   "metadata": {},
   "outputs": [],
   "source": [
    "s='    Remember the fifth of July     '"
   ]
  },
  {
   "cell_type": "code",
   "execution_count": 47,
   "id": "6ea3a44a",
   "metadata": {},
   "outputs": [
    {
     "data": {
      "text/plain": [
       "'Remember the fifth of July     '"
      ]
     },
     "execution_count": 47,
     "metadata": {},
     "output_type": "execute_result"
    }
   ],
   "source": [
    "s.lstrip()"
   ]
  },
  {
   "cell_type": "code",
   "execution_count": 48,
   "id": "698d2fe2",
   "metadata": {},
   "outputs": [
    {
     "data": {
      "text/plain": [
       "'    Remember the fifth of July     '"
      ]
     },
     "execution_count": 48,
     "metadata": {},
     "output_type": "execute_result"
    }
   ],
   "source": [
    "s"
   ]
  },
  {
   "cell_type": "code",
   "execution_count": 49,
   "id": "bba01fc9",
   "metadata": {},
   "outputs": [
    {
     "data": {
      "text/plain": [
       "'    Remember the fifth of July'"
      ]
     },
     "execution_count": 49,
     "metadata": {},
     "output_type": "execute_result"
    }
   ],
   "source": [
    "s.rstrip()"
   ]
  },
  {
   "cell_type": "code",
   "execution_count": null,
   "id": "a00ed627",
   "metadata": {},
   "outputs": [],
   "source": []
  }
 ],
 "metadata": {
  "kernelspec": {
   "display_name": "Python 3",
   "language": "python",
   "name": "python3"
  },
  "language_info": {
   "codemirror_mode": {
    "name": "ipython",
    "version": 3
   },
   "file_extension": ".py",
   "mimetype": "text/x-python",
   "name": "python",
   "nbconvert_exporter": "python",
   "pygments_lexer": "ipython3",
   "version": "3.8.8"
  }
 },
 "nbformat": 4,
 "nbformat_minor": 5
}
