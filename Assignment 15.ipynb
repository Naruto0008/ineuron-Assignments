{
 "cells": [
  {
   "cell_type": "code",
   "execution_count": null,
   "id": "198a218f",
   "metadata": {},
   "outputs": [],
   "source": [
    "1.How many seconds are in an hour? Use the interactive interpreter as a calculator and\n",
    "multiply the number of seconds in a minute (60) by the number of minutes in an hour (also 60).\n",
    "so\n",
    "2. Assign the result from the previous task (seconds in an hour) to a variable called seconds_per_hour.\n",
    "3. How many seconds do you think there are in a day? Make use of the variables seconds per hour and minutes per hour.\n",
    "4. Calculate seconds per day again, but this time save the result in a variable called seconds_per_day\n",
    "5. Divide seconds_per_day by seconds_per_hour. Use floating-point (/) division.\n",
    "6. Divide seconds_per_day by seconds_per_hour, using integer (//) division. \n",
    "Did this number agree with the floating-point value from the previous question, aside from the final .0?\n",
    "7. Write a generator, genPrimes, that returns the sequence of prime numbers on successive calls to its next() \n",
    "method: 2, 3, 5, 7, 11, ...\n"
   ]
  },
  {
   "cell_type": "code",
   "execution_count": null,
   "id": "07736f0e",
   "metadata": {},
   "outputs": [],
   "source": [
    "1.How many seconds are in an hour? Use the interactive interpreter as a calculator and\n",
    "multiply the number of seconds in a minute (60) by the number of minutes in an hour (also 60)."
   ]
  },
  {
   "cell_type": "code",
   "execution_count": 7,
   "id": "27938869",
   "metadata": {},
   "outputs": [],
   "source": [
    "minutes_per_hour=60"
   ]
  },
  {
   "cell_type": "code",
   "execution_count": 8,
   "id": "83e413c2",
   "metadata": {},
   "outputs": [],
   "source": [
    "secondsinanhour=60*minutes_per_hour"
   ]
  },
  {
   "cell_type": "code",
   "execution_count": null,
   "id": "b7303cdd",
   "metadata": {},
   "outputs": [],
   "source": [
    "2. Assign the result from the previous task (seconds in an hour) to a variable called seconds_per_hour."
   ]
  },
  {
   "cell_type": "code",
   "execution_count": 13,
   "id": "3271962d",
   "metadata": {},
   "outputs": [],
   "source": [
    "seconds_per_hour=secondsinanhour"
   ]
  },
  {
   "cell_type": "code",
   "execution_count": 14,
   "id": "10f29977",
   "metadata": {},
   "outputs": [
    {
     "data": {
      "text/plain": [
       "3600"
      ]
     },
     "execution_count": 14,
     "metadata": {},
     "output_type": "execute_result"
    }
   ],
   "source": [
    "seconds_per_hour"
   ]
  },
  {
   "cell_type": "code",
   "execution_count": null,
   "id": "83ec64e8",
   "metadata": {},
   "outputs": [],
   "source": [
    "3. How many seconds do you think there are in a day? Make use of the variables seconds per hour and minutes per hour."
   ]
  },
  {
   "cell_type": "code",
   "execution_count": 11,
   "id": "4b7db661",
   "metadata": {},
   "outputs": [
    {
     "data": {
      "text/plain": [
       "60"
      ]
     },
     "execution_count": 11,
     "metadata": {},
     "output_type": "execute_result"
    }
   ],
   "source": [
    "minutes_per_hour"
   ]
  },
  {
   "cell_type": "code",
   "execution_count": 15,
   "id": "9537ba24",
   "metadata": {},
   "outputs": [
    {
     "data": {
      "text/plain": [
       "3600"
      ]
     },
     "execution_count": 15,
     "metadata": {},
     "output_type": "execute_result"
    }
   ],
   "source": [
    "seconds_per_hour"
   ]
  },
  {
   "cell_type": "code",
   "execution_count": 16,
   "id": "45f445b5",
   "metadata": {},
   "outputs": [
    {
     "data": {
      "text/plain": [
       "86400"
      ]
     },
     "execution_count": 16,
     "metadata": {},
     "output_type": "execute_result"
    }
   ],
   "source": [
    "seconds_per_hour*24"
   ]
  },
  {
   "cell_type": "code",
   "execution_count": null,
   "id": "f938b65c",
   "metadata": {},
   "outputs": [],
   "source": [
    "4. Calculate seconds per day again, but this time save the result in a variable called seconds_per_day"
   ]
  },
  {
   "cell_type": "code",
   "execution_count": 19,
   "id": "5feac454",
   "metadata": {},
   "outputs": [],
   "source": [
    "numberofhoursinaday=24"
   ]
  },
  {
   "cell_type": "code",
   "execution_count": 20,
   "id": "180b50ab",
   "metadata": {},
   "outputs": [],
   "source": [
    "seconds_per_day=numberofhoursinaday*seconds_per_hour"
   ]
  },
  {
   "cell_type": "code",
   "execution_count": 21,
   "id": "fa0caa2c",
   "metadata": {},
   "outputs": [
    {
     "data": {
      "text/plain": [
       "86400"
      ]
     },
     "execution_count": 21,
     "metadata": {},
     "output_type": "execute_result"
    }
   ],
   "source": [
    "seconds_per_day"
   ]
  },
  {
   "cell_type": "code",
   "execution_count": null,
   "id": "4a3aa3b7",
   "metadata": {},
   "outputs": [],
   "source": [
    "5. Divide seconds_per_day by seconds_per_hour. Use floating-point (/) division."
   ]
  },
  {
   "cell_type": "code",
   "execution_count": 22,
   "id": "4ea19c2a",
   "metadata": {},
   "outputs": [
    {
     "data": {
      "text/plain": [
       "24.0"
      ]
     },
     "execution_count": 22,
     "metadata": {},
     "output_type": "execute_result"
    }
   ],
   "source": [
    "seconds_per_day/seconds_per_hour"
   ]
  },
  {
   "cell_type": "code",
   "execution_count": null,
   "id": "6ad2847d",
   "metadata": {},
   "outputs": [],
   "source": [
    "6. Divide seconds_per_day by seconds_per_hour, using integer (//) division. \n",
    "Did this number agree with the floating-point value from the previous question, aside from the final .0?"
   ]
  },
  {
   "cell_type": "code",
   "execution_count": 23,
   "id": "863a96cc",
   "metadata": {},
   "outputs": [
    {
     "data": {
      "text/plain": [
       "24"
      ]
     },
     "execution_count": 23,
     "metadata": {},
     "output_type": "execute_result"
    }
   ],
   "source": [
    "seconds_per_day//seconds_per_hour"
   ]
  },
  {
   "cell_type": "code",
   "execution_count": null,
   "id": "ef275fa5",
   "metadata": {},
   "outputs": [],
   "source": [
    "yes,the number is same"
   ]
  },
  {
   "cell_type": "code",
   "execution_count": null,
   "id": "0950c685",
   "metadata": {},
   "outputs": [],
   "source": [
    "7. Write a generator, genPrimes, that returns the sequence of prime numbers on successive calls to its next() \n",
    "method: 2, 3, 5, 7, 11, ...\n"
   ]
  },
  {
   "cell_type": "code",
   "execution_count": 19,
   "id": "290f54df",
   "metadata": {},
   "outputs": [
    {
     "data": {
      "text/plain": [
       "<generator object genPrimes at 0x0000016E93B710B0>"
      ]
     },
     "execution_count": 19,
     "metadata": {},
     "output_type": "execute_result"
    }
   ],
   "source": [
    "genPrimes(100)"
   ]
  },
  {
   "cell_type": "code",
   "execution_count": 29,
   "id": "e4da4a77",
   "metadata": {},
   "outputs": [],
   "source": [
    "def genPrimes():\n",
    "    n = 200\n",
    "    primes = []\n",
    "    while True:\n",
    "        for p in primes:\n",
    "            if n % p == 0:\n",
    "                break\n",
    "            else:\n",
    "                primes.append(n)\n",
    "                yield n\n",
    "                n += 1\n",
    "        "
   ]
  },
  {
   "cell_type": "code",
   "execution_count": 30,
   "id": "f8718a79",
   "metadata": {},
   "outputs": [],
   "source": [
    "p=genPrimes()"
   ]
  },
  {
   "cell_type": "code",
   "execution_count": 31,
   "id": "8ff7f15a",
   "metadata": {},
   "outputs": [
    {
     "ename": "NameError",
     "evalue": "name 'primes' is not defined",
     "output_type": "error",
     "traceback": [
      "\u001b[1;31m---------------------------------------------------------------------------\u001b[0m",
      "\u001b[1;31mNameError\u001b[0m                                 Traceback (most recent call last)",
      "\u001b[1;32m<ipython-input-31-b65efb1b0c73>\u001b[0m in \u001b[0;36m<module>\u001b[1;34m\u001b[0m\n\u001b[1;32m----> 1\u001b[1;33m \u001b[0mprimes\u001b[0m\u001b[1;33m\u001b[0m\u001b[1;33m\u001b[0m\u001b[0m\n\u001b[0m",
      "\u001b[1;31mNameError\u001b[0m: name 'primes' is not defined"
     ]
    }
   ],
   "source": [
    "primes"
   ]
  },
  {
   "cell_type": "code",
   "execution_count": 33,
   "id": "86dd71c4",
   "metadata": {},
   "outputs": [],
   "source": [
    "def genPrimes():\n",
    "    primes = []   # primes generated so far\n",
    "    last = 1      # last number tried\n",
    "    while True:\n",
    "        last += 1\n",
    "        for p in primes:\n",
    "            if last % p == 0:\n",
    "                break\n",
    "        else:\n",
    "            primes.append(last)\n",
    "            yield last\n",
    "\n",
    "p = genPrimes()"
   ]
  },
  {
   "cell_type": "code",
   "execution_count": null,
   "id": "37a55e54",
   "metadata": {},
   "outputs": [],
   "source": []
  },
  {
   "cell_type": "code",
   "execution_count": null,
   "id": "be0213cf",
   "metadata": {},
   "outputs": [],
   "source": []
  }
 ],
 "metadata": {
  "kernelspec": {
   "display_name": "Python 3",
   "language": "python",
   "name": "python3"
  },
  "language_info": {
   "codemirror_mode": {
    "name": "ipython",
    "version": 3
   },
   "file_extension": ".py",
   "mimetype": "text/x-python",
   "name": "python",
   "nbconvert_exporter": "python",
   "pygments_lexer": "ipython3",
   "version": "3.8.8"
  }
 },
 "nbformat": 4,
 "nbformat_minor": 5
}
