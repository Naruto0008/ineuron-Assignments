{
 "cells": [
  {
   "cell_type": "code",
   "execution_count": null,
   "id": "1d1b03ad",
   "metadata": {},
   "outputs": [],
   "source": [
    ") . What is the difference between enclosing a list comprehension in square brackets and parentheses?\n",
    "2) What is the relationship between generators and iterators?\n",
    "3) What are the signs that a function is a generator function?\n",
    "4) What is the purpose of a yield statement?\n",
    "5) What is the relationship between map calls and list comprehensions? Make a comparison and contrast between the two.\n"
   ]
  },
  {
   "cell_type": "code",
   "execution_count": null,
   "id": "160ab171",
   "metadata": {},
   "outputs": [],
   "source": [
    " 1.What is the difference between enclosing a list comprehension in square brackets and parentheses?"
   ]
  },
  {
   "cell_type": "code",
   "execution_count": 4,
   "id": "4b1bacbf",
   "metadata": {},
   "outputs": [],
   "source": [
    "l=[1,2,4]"
   ]
  },
  {
   "cell_type": "code",
   "execution_count": 5,
   "id": "caaeacbb",
   "metadata": {},
   "outputs": [
    {
     "data": {
      "text/plain": [
       "list"
      ]
     },
     "execution_count": 5,
     "metadata": {},
     "output_type": "execute_result"
    }
   ],
   "source": [
    "type(l)"
   ]
  },
  {
   "cell_type": "code",
   "execution_count": 14,
   "id": "1f7719c4",
   "metadata": {},
   "outputs": [],
   "source": [
    "x=(i for i in range(10))"
   ]
  },
  {
   "cell_type": "code",
   "execution_count": 15,
   "id": "30322f1d",
   "metadata": {},
   "outputs": [
    {
     "data": {
      "text/plain": [
       "generator"
      ]
     },
     "execution_count": 15,
     "metadata": {},
     "output_type": "execute_result"
    }
   ],
   "source": [
    "type(x)"
   ]
  },
  {
   "cell_type": "code",
   "execution_count": 12,
   "id": "9d924478",
   "metadata": {},
   "outputs": [
    {
     "data": {
      "text/plain": [
       "[0, 1, 2, 3, 4, 5, 6, 7, 8, 9]"
      ]
     },
     "execution_count": 12,
     "metadata": {},
     "output_type": "execute_result"
    }
   ],
   "source": [
    "x"
   ]
  },
  {
   "cell_type": "code",
   "execution_count": null,
   "id": "120387af",
   "metadata": {},
   "outputs": [],
   "source": [
    "The difference lies in the fact that [] are lists,but in paranthesis it is a generator"
   ]
  },
  {
   "cell_type": "code",
   "execution_count": null,
   "id": "eef1feae",
   "metadata": {},
   "outputs": [],
   "source": [
    "2) What is the relationship between generators and iterators?"
   ]
  },
  {
   "cell_type": "code",
   "execution_count": null,
   "id": "7020ecd6",
   "metadata": {},
   "outputs": [],
   "source": [
    "generators are a kind of functions that doesnt return single value,instead returns a iterator object with a sequence of values.\n",
    "In generator, yield keyword is used instead of return. This helps in continuing the program without exiting it.\n",
    "Iterator is an object of countable values that can iterate over lists,tuples. we use next() keyword to iterate over the set"
   ]
  },
  {
   "cell_type": "code",
   "execution_count": null,
   "id": "8517520e",
   "metadata": {},
   "outputs": [],
   "source": [
    "3) What are the signs that a function is a generator function?"
   ]
  },
  {
   "cell_type": "code",
   "execution_count": null,
   "id": "d30c91a5",
   "metadata": {},
   "outputs": [],
   "source": [
    "if a function contains atleast one yield statement then it can be considered as a generator function"
   ]
  },
  {
   "cell_type": "code",
   "execution_count": null,
   "id": "d47d221d",
   "metadata": {},
   "outputs": [],
   "source": [
    "4) What is the purpose of a yield statement?"
   ]
  },
  {
   "cell_type": "code",
   "execution_count": null,
   "id": "6ca7aeb6",
   "metadata": {},
   "outputs": [],
   "source": [
    "A yield statement looks much like a return statement, except that instead of stopping execution of the function and returning,\n",
    "yield instead provides a value to the code looping over the generator and pauses execution of the generator function"
   ]
  },
  {
   "cell_type": "code",
   "execution_count": null,
   "id": "ecb4587d",
   "metadata": {},
   "outputs": [],
   "source": [
    "5) What is the relationship between map calls and list comprehensions? Make a comparison and contrast between the two.\n"
   ]
  },
  {
   "cell_type": "code",
   "execution_count": 16,
   "id": "cd41fbea",
   "metadata": {},
   "outputs": [
    {
     "ename": "SyntaxError",
     "evalue": "invalid syntax (<ipython-input-16-88fb92201ba2>, line 1)",
     "output_type": "error",
     "traceback": [
      "\u001b[1;36m  File \u001b[1;32m\"<ipython-input-16-88fb92201ba2>\"\u001b[1;36m, line \u001b[1;32m1\u001b[0m\n\u001b[1;33m    map(): map function is used when we have to perform a set of operation on  a set of iterables. the output of map function\u001b[0m\n\u001b[1;37m               ^\u001b[0m\n\u001b[1;31mSyntaxError\u001b[0m\u001b[1;31m:\u001b[0m invalid syntax\n"
     ]
    }
   ],
   "source": [
    "map(): map function is used when we have to perform a set of operation on  a set of iterables. the output of map function\n",
    "    is map object\n",
    "list comprehension on the other hand is a substitute for map,reduce,filter,and lambda function as it is\n",
    "\n",
    "easy to filtering \n",
    "and easy to read\n"
   ]
  },
  {
   "cell_type": "code",
   "execution_count": null,
   "id": "f1fc8f1e",
   "metadata": {},
   "outputs": [],
   "source": []
  }
 ],
 "metadata": {
  "kernelspec": {
   "display_name": "Python 3",
   "language": "python",
   "name": "python3"
  },
  "language_info": {
   "codemirror_mode": {
    "name": "ipython",
    "version": 3
   },
   "file_extension": ".py",
   "mimetype": "text/x-python",
   "name": "python",
   "nbconvert_exporter": "python",
   "pygments_lexer": "ipython3",
   "version": "3.8.8"
  }
 },
 "nbformat": 4,
 "nbformat_minor": 5
}
