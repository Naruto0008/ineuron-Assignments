{
 "cells": [
  {
   "cell_type": "code",
   "execution_count": 1,
   "id": "b6517847",
   "metadata": {},
   "outputs": [
    {
     "ename": "SyntaxError",
     "evalue": "invalid syntax (<ipython-input-1-2d29b4e379c6>, line 1)",
     "output_type": "error",
     "traceback": [
      "\u001b[1;36m  File \u001b[1;32m\"<ipython-input-1-2d29b4e379c6>\"\u001b[1;36m, line \u001b[1;32m1\u001b[0m\n\u001b[1;33m    1. In the below elements which of them are values or an expression? eg:- values can be integer or string and expressions will be mathematical operators.\u001b[0m\n\u001b[1;37m       ^\u001b[0m\n\u001b[1;31mSyntaxError\u001b[0m\u001b[1;31m:\u001b[0m invalid syntax\n"
     ]
    }
   ],
   "source": [
    "1. In the below elements which of them are values or an expression? eg:- values can be integer or string and expressions will be mathematical operators.\n",
    "* \n",
    "'hello'\n",
    "-87.8\n",
    "- \n",
    "/ \n",
    "\n",
    "\n",
    "6 \n",
    "\n",
    "2. What is the difference between string and variable?\n",
    "\n",
    "3. Describe three different data types.\n",
    "\n",
    "4. What is an expression made up of? What do all expressions do?\n",
    "5. This assignment statements, like spam = 10. What is the difference between an expression and a statement?\n",
    "6. After running the following code, what does the variable bacon contain?\n",
    "bacon = 22\n",
    "bacon + 1\n",
    "\n",
    "7. What should the values of the following two terms be?\n",
    "'spam' + 'spamspam'\n",
    "'spam' * 3\n",
    "\n",
    "8. Why is eggs a valid variable name while 100 is invalid?\n",
    "9. What three functions can be used to get the integer, floating-point number, or string version of a value?\n",
    "10. Why does this expression cause an error? How can you fix it?\n",
    "'I have eaten ' + 99 + ' burritos.'\n",
    "\n"
   ]
  },
  {
   "cell_type": "code",
   "execution_count": null,
   "id": "62077970",
   "metadata": {},
   "outputs": [],
   "source": [
    "1. Values:\n",
    "    1.'hello'\n",
    "    2. -87.8\n",
    "    3. 6\n",
    "   Expressions:\n",
    "    1. *\n",
    "    2. -\n",
    "    3. /"
   ]
  },
  {
   "cell_type": "code",
   "execution_count": null,
   "id": "c85613f1",
   "metadata": {},
   "outputs": [],
   "source": [
    "2. A string is a Set of Characters combined and is a data type lik int,float;while a variable is a name assigned to a value for an identification. Variable names can be strings"
   ]
  },
  {
   "cell_type": "code",
   "execution_count": null,
   "id": "23386873",
   "metadata": {},
   "outputs": [],
   "source": [
    "3. Int: A data type which accepts only integers as its values\n",
    "    Float:A data typ which accepts decimal values as its input and returns them as an output\n",
    "        Strings: A data type that accepts a set of characters for its values"
   ]
  },
  {
   "cell_type": "code",
   "execution_count": null,
   "id": "d1f33012",
   "metadata": {},
   "outputs": [],
   "source": [
    "4.An expression is a representation for a mathermatical operation\n",
    " for example:"
   ]
  },
  {
   "cell_type": "code",
   "execution_count": 2,
   "id": "5e1755eb",
   "metadata": {},
   "outputs": [
    {
     "data": {
      "text/plain": [
       "6"
      ]
     },
     "execution_count": 2,
     "metadata": {},
     "output_type": "execute_result"
    }
   ],
   "source": [
    "3+3"
   ]
  },
  {
   "cell_type": "code",
   "execution_count": 3,
   "id": "dcf8226a",
   "metadata": {},
   "outputs": [
    {
     "data": {
      "text/plain": [
       "9"
      ]
     },
     "execution_count": 3,
     "metadata": {},
     "output_type": "execute_result"
    }
   ],
   "source": [
    "3*3"
   ]
  },
  {
   "cell_type": "code",
   "execution_count": 4,
   "id": "5743574a",
   "metadata": {},
   "outputs": [
    {
     "data": {
      "text/plain": [
       "1.0"
      ]
     },
     "execution_count": 4,
     "metadata": {},
     "output_type": "execute_result"
    }
   ],
   "source": [
    "3/3\n"
   ]
  },
  {
   "cell_type": "code",
   "execution_count": null,
   "id": "4621512f",
   "metadata": {},
   "outputs": [],
   "source": [
    "5.Spam =10 is an assigment of value 10 to Spam Variable. But, with an expression we perform an operation\n",
    "as an example"
   ]
  },
  {
   "cell_type": "code",
   "execution_count": 8,
   "id": "8e04d9b4",
   "metadata": {},
   "outputs": [
    {
     "data": {
      "text/plain": [
       "'spamspamspamspamspamspamspamspamspamspam'"
      ]
     },
     "execution_count": 8,
     "metadata": {},
     "output_type": "execute_result"
    }
   ],
   "source": [
    "\"spam\"*10"
   ]
  },
  {
   "cell_type": "code",
   "execution_count": 14,
   "id": "2ebfd6ea",
   "metadata": {},
   "outputs": [
    {
     "data": {
      "text/plain": [
       "6.0"
      ]
     },
     "execution_count": 14,
     "metadata": {},
     "output_type": "execute_result"
    }
   ],
   "source": [
    "6.\n"
   ]
  },
  {
   "cell_type": "code",
   "execution_count": 17,
   "id": "f13ab06c",
   "metadata": {},
   "outputs": [],
   "source": [
    "bacon=22"
   ]
  },
  {
   "cell_type": "code",
   "execution_count": 18,
   "id": "6a677dd0",
   "metadata": {},
   "outputs": [
    {
     "data": {
      "text/plain": [
       "23"
      ]
     },
     "execution_count": 18,
     "metadata": {},
     "output_type": "execute_result"
    }
   ],
   "source": [
    "bacon+1"
   ]
  },
  {
   "cell_type": "code",
   "execution_count": null,
   "id": "95fbac85",
   "metadata": {},
   "outputs": [],
   "source": [
    "7"
   ]
  },
  {
   "cell_type": "code",
   "execution_count": 15,
   "id": "cfe3cf90",
   "metadata": {},
   "outputs": [
    {
     "data": {
      "text/plain": [
       "'spamspamspam'"
      ]
     },
     "execution_count": 15,
     "metadata": {},
     "output_type": "execute_result"
    }
   ],
   "source": [
    " 'spam' + 'spamspam'"
   ]
  },
  {
   "cell_type": "code",
   "execution_count": 16,
   "id": "cbe7f203",
   "metadata": {},
   "outputs": [
    {
     "data": {
      "text/plain": [
       "'spamspamspam'"
      ]
     },
     "execution_count": 16,
     "metadata": {},
     "output_type": "execute_result"
    }
   ],
   "source": [
    "'spam' * 3\n"
   ]
  },
  {
   "cell_type": "code",
   "execution_count": null,
   "id": "4875e21a",
   "metadata": {},
   "outputs": [],
   "source": [
    "8."
   ]
  },
  {
   "cell_type": "code",
   "execution_count": 19,
   "id": "10d7f4b6",
   "metadata": {},
   "outputs": [],
   "source": [
    "eggs=10"
   ]
  },
  {
   "cell_type": "code",
   "execution_count": 20,
   "id": "470f6d0f",
   "metadata": {},
   "outputs": [
    {
     "data": {
      "text/plain": [
       "10"
      ]
     },
     "execution_count": 20,
     "metadata": {},
     "output_type": "execute_result"
    }
   ],
   "source": [
    "eggs"
   ]
  },
  {
   "cell_type": "code",
   "execution_count": 22,
   "id": "3470dbb3",
   "metadata": {},
   "outputs": [
    {
     "ename": "SyntaxError",
     "evalue": "invalid syntax (<ipython-input-22-fa79ceba1385>, line 1)",
     "output_type": "error",
     "traceback": [
      "\u001b[1;36m  File \u001b[1;32m\"<ipython-input-22-fa79ceba1385>\"\u001b[1;36m, line \u001b[1;32m1\u001b[0m\n\u001b[1;33m    A variable name should be a literal not a number\u001b[0m\n\u001b[1;37m      ^\u001b[0m\n\u001b[1;31mSyntaxError\u001b[0m\u001b[1;31m:\u001b[0m invalid syntax\n"
     ]
    }
   ],
   "source": [
    "A variable name should be a literal not a number"
   ]
  },
  {
   "cell_type": "code",
   "execution_count": 27,
   "id": "a36543a5",
   "metadata": {},
   "outputs": [
    {
     "data": {
      "text/plain": [
       "9"
      ]
     },
     "execution_count": 27,
     "metadata": {},
     "output_type": "execute_result"
    }
   ],
   "source": [
    "9"
   ]
  },
  {
   "cell_type": "code",
   "execution_count": 28,
   "id": "1f3dd6da",
   "metadata": {},
   "outputs": [],
   "source": [
    "Value=10"
   ]
  },
  {
   "cell_type": "code",
   "execution_count": 30,
   "id": "97d899af",
   "metadata": {},
   "outputs": [
    {
     "name": "stdout",
     "output_type": "stream",
     "text": [
      "10\n"
     ]
    }
   ],
   "source": [
    "print(int(Value))"
   ]
  },
  {
   "cell_type": "code",
   "execution_count": 31,
   "id": "77a2be7f",
   "metadata": {},
   "outputs": [
    {
     "name": "stdout",
     "output_type": "stream",
     "text": [
      "10.0\n"
     ]
    }
   ],
   "source": [
    "print(float(Value))"
   ]
  },
  {
   "cell_type": "code",
   "execution_count": 36,
   "id": "05e09432",
   "metadata": {},
   "outputs": [
    {
     "name": "stdout",
     "output_type": "stream",
     "text": [
      "10\n"
     ]
    },
    {
     "data": {
      "text/plain": [
       "str"
      ]
     },
     "execution_count": 36,
     "metadata": {},
     "output_type": "execute_result"
    }
   ],
   "source": [
    "print(str(Value))\n",
    "type(str(Value))"
   ]
  },
  {
   "cell_type": "code",
   "execution_count": null,
   "id": "5028adbc",
   "metadata": {},
   "outputs": [],
   "source": [
    "10. Why does this expression cause an error? How can you fix it?\n",
    "'I have eaten ' + 99 + ' burritos.'"
   ]
  },
  {
   "cell_type": "code",
   "execution_count": 37,
   "id": "bc5ec806",
   "metadata": {},
   "outputs": [
    {
     "ename": "TypeError",
     "evalue": "can only concatenate str (not \"int\") to str",
     "output_type": "error",
     "traceback": [
      "\u001b[1;31m---------------------------------------------------------------------------\u001b[0m",
      "\u001b[1;31mTypeError\u001b[0m                                 Traceback (most recent call last)",
      "\u001b[1;32m<ipython-input-37-d24137131a5c>\u001b[0m in \u001b[0;36m<module>\u001b[1;34m\u001b[0m\n\u001b[1;32m----> 1\u001b[1;33m \u001b[1;34m'I have eaten '\u001b[0m \u001b[1;33m+\u001b[0m \u001b[1;36m99\u001b[0m \u001b[1;33m+\u001b[0m \u001b[1;34m' burritos.'\u001b[0m\u001b[1;33m\u001b[0m\u001b[1;33m\u001b[0m\u001b[0m\n\u001b[0m",
      "\u001b[1;31mTypeError\u001b[0m: can only concatenate str (not \"int\") to str"
     ]
    }
   ],
   "source": [
    "'I have eaten ' + 99 + ' burritos.'"
   ]
  },
  {
   "cell_type": "code",
   "execution_count": 38,
   "id": "2c528fce",
   "metadata": {},
   "outputs": [
    {
     "data": {
      "text/plain": [
       "'I have eaten 99 burritos.'"
      ]
     },
     "execution_count": 38,
     "metadata": {},
     "output_type": "execute_result"
    }
   ],
   "source": [
    "'I have eaten ' + '99' + ' burritos.'"
   ]
  },
  {
   "cell_type": "code",
   "execution_count": null,
   "id": "e9b24faa",
   "metadata": {},
   "outputs": [],
   "source": [
    "This is because of an error arising from concatinating two different data type variables. This can be solved by converting everything into same data type"
   ]
  },
  {
   "cell_type": "code",
   "execution_count": null,
   "id": "a4c28d6c",
   "metadata": {},
   "outputs": [],
   "source": []
  },
  {
   "cell_type": "code",
   "execution_count": null,
   "id": "eed10f7b",
   "metadata": {},
   "outputs": [],
   "source": []
  },
  {
   "cell_type": "code",
   "execution_count": null,
   "id": "68d13446",
   "metadata": {},
   "outputs": [],
   "source": []
  }
 ],
 "metadata": {
  "kernelspec": {
   "display_name": "Python 3",
   "language": "python",
   "name": "python3"
  },
  "language_info": {
   "codemirror_mode": {
    "name": "ipython",
    "version": 3
   },
   "file_extension": ".py",
   "mimetype": "text/x-python",
   "name": "python",
   "nbconvert_exporter": "python",
   "pygments_lexer": "ipython3",
   "version": "3.8.8"
  }
 },
 "nbformat": 4,
 "nbformat_minor": 5
}
