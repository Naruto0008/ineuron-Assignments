{
 "cells": [
  {
   "cell_type": "code",
   "execution_count": null,
   "id": "de37b39b",
   "metadata": {},
   "outputs": [],
   "source": [
    "1. Why are functions advantageous to have in your programs?\n",
    "2. When does the code in a function run: when it's specified or when it's called?\n",
    "3. What statement creates a function?\n",
    "4. What is the difference between a function and a function call?\n",
    "5. How many global scopes are there in a Python program? How many local scopes?\n",
    "6. What happens to variables in a local scope when the function call returns?\n",
    "7. What is the concept of a return value? Is it possible to have a return value in an expression?\n",
    "8. If a function does not have a return statement, what is the return value of a call to that function?\n",
    "9. How do you make a function variable refer to the global variable?\n",
    "10. What is the data type of None?\n",
    "11. What does the sentence import areallyourpetsnamederic do?\n",
    "12. If you had a bacon() feature in a spam module, what would you call it after importing spam?\n",
    "13. What can you do to save a programme from crashing if it encounters an error?\n",
    "14. What is the purpose of the try clause? What is the purpose of the except clause?\n"
   ]
  },
  {
   "cell_type": "code",
   "execution_count": null,
   "id": "aa2e800b",
   "metadata": {},
   "outputs": [],
   "source": []
  },
  {
   "cell_type": "code",
   "execution_count": null,
   "id": "48cb0f97",
   "metadata": {},
   "outputs": [],
   "source": [
    "1. Functions are basically a set of steps written to get a desired output. To write a complex program,one needs to divide the \n",
    "whole package into modules.Each individual module will be a set of functions grouped together to obtain a desired output. So,\n",
    "for a complex program to run, it needs the help of many sub programs which includes functions.\n",
    "These when integrated with main program gives us a desired output.\n",
    "\n",
    "Having functions in programs is advantageous because of their reusability,and for program complexity reduction\n",
    "\n"
   ]
  },
  {
   "cell_type": "code",
   "execution_count": null,
   "id": "f4301796",
   "metadata": {},
   "outputs": [],
   "source": [
    "2. When does the code in a function run: when it's specified or when it's called?\n",
    "    The function runs when it is called not when it is defined"
   ]
  },
  {
   "cell_type": "code",
   "execution_count": null,
   "id": "5d32e0c6",
   "metadata": {},
   "outputs": [],
   "source": [
    "3.What statement creates a function?\n",
    "\n",
    "def func():\n",
    "    pass\n",
    "\n",
    "def keyword defines/creates a function"
   ]
  },
  {
   "cell_type": "code",
   "execution_count": null,
   "id": "8793c6ca",
   "metadata": {},
   "outputs": [],
   "source": [
    "4. What is the difference between a function and a function call?\n",
    " \n",
    "    def func(a):\n",
    "       return(a*10)\n",
    "    \n",
    "the abpve two lines is function,and func(10) is called function calling\n",
    "function calling is nothing but refering a function to run with the arguments provided"
   ]
  },
  {
   "cell_type": "code",
   "execution_count": 3,
   "id": "a0fc176b",
   "metadata": {},
   "outputs": [],
   "source": [
    "\n",
    "    def func(a):\n",
    "         return(a*10)"
   ]
  },
  {
   "cell_type": "code",
   "execution_count": 4,
   "id": "495a668a",
   "metadata": {},
   "outputs": [
    {
     "data": {
      "text/plain": [
       "100"
      ]
     },
     "execution_count": 4,
     "metadata": {},
     "output_type": "execute_result"
    }
   ],
   "source": [
    "func(10)"
   ]
  },
  {
   "cell_type": "code",
   "execution_count": null,
   "id": "220eaf7a",
   "metadata": {},
   "outputs": [],
   "source": [
    "5. How many global scopes are there in a Python program? How many local scopes?\n",
    "\n",
    "LEGB\n",
    "\n",
    "Python has a order to ascertain scope of variables. L:Local,E:Enclosing,G:Gobal,B:Built in\n",
    "                \n",
    "The number of global scopes and local scopes are one in python"
   ]
  },
  {
   "cell_type": "code",
   "execution_count": null,
   "id": "3974111a",
   "metadata": {},
   "outputs": [],
   "source": [
    "6. What happens to variables in a local scope when the function call returns?\n",
    "\n"
   ]
  },
  {
   "cell_type": "code",
   "execution_count": 5,
   "id": "d6ec6a11",
   "metadata": {},
   "outputs": [],
   "source": [
    "\n",
    "def test(x):\n",
    "    v=10\n",
    "    return v\n",
    "\n",
    "variables in local scope gets substituted to arguments when the function call returns. \n",
    "This means the variables get destroyed once the function is called. \n"
   ]
  },
  {
   "cell_type": "code",
   "execution_count": null,
   "id": "fac8c5bf",
   "metadata": {},
   "outputs": [],
   "source": [
    "7. What is the concept of a return value? Is it possible to have a return value in an expression?\n"
   ]
  },
  {
   "cell_type": "code",
   "execution_count": null,
   "id": "f71717f7",
   "metadata": {},
   "outputs": [],
   "source": [
    "return is just a statement assigned to provide output of a function. Yes,it is possible to return a value in an expression\n"
   ]
  },
  {
   "cell_type": "code",
   "execution_count": 8,
   "id": "d957fe7f",
   "metadata": {},
   "outputs": [],
   "source": [
    "\n",
    "def test(x):\n",
    "    return(x*3)"
   ]
  },
  {
   "cell_type": "code",
   "execution_count": 9,
   "id": "0a8afa1d",
   "metadata": {},
   "outputs": [
    {
     "data": {
      "text/plain": [
       "9"
      ]
     },
     "execution_count": 9,
     "metadata": {},
     "output_type": "execute_result"
    }
   ],
   "source": [
    "test(3)"
   ]
  },
  {
   "cell_type": "code",
   "execution_count": null,
   "id": "10db41fe",
   "metadata": {},
   "outputs": [],
   "source": [
    "8. If a function does not have a return statement, what is the return value of a call to that function?"
   ]
  },
  {
   "cell_type": "code",
   "execution_count": 11,
   "id": "05608846",
   "metadata": {},
   "outputs": [],
   "source": [
    "def test(a,b):\n",
    "  c=a*b\n",
    "   "
   ]
  },
  {
   "cell_type": "code",
   "execution_count": 12,
   "id": "b07c63f3",
   "metadata": {},
   "outputs": [],
   "source": [
    "test(10,2)"
   ]
  },
  {
   "cell_type": "code",
   "execution_count": null,
   "id": "33865bbf",
   "metadata": {},
   "outputs": [],
   "source": [
    "when a function doesnt have a return function,it wont be able to provide any output value to the function just as above"
   ]
  },
  {
   "cell_type": "code",
   "execution_count": 35,
   "id": "551fd860",
   "metadata": {},
   "outputs": [
    {
     "name": "stdout",
     "output_type": "stream",
     "text": [
      "Object `variable` not found.\n"
     ]
    }
   ],
   "source": [
    "9. How do you make a function variable refer to the global variable?"
   ]
  },
  {
   "cell_type": "code",
   "execution_count": null,
   "id": "5322e885",
   "metadata": {},
   "outputs": [],
   "source": [
    "9. How do you make a function variable refer to the global variable"
   ]
  },
  {
   "cell_type": "code",
   "execution_count": 1,
   "id": "96f12575",
   "metadata": {},
   "outputs": [],
   "source": [
    "g=1\n",
    "\n",
    "def test(a,b):\n",
    "    \n",
    "    g=g+a*b\n",
    "    return g"
   ]
  },
  {
   "cell_type": "code",
   "execution_count": 33,
   "id": "1bd7707c",
   "metadata": {},
   "outputs": [
    {
     "data": {
      "text/plain": [
       "201"
      ]
     },
     "execution_count": 33,
     "metadata": {},
     "output_type": "execute_result"
    }
   ],
   "source": [
    "test(10,20)"
   ]
  },
  {
   "cell_type": "code",
   "execution_count": 24,
   "id": "a406bb8f",
   "metadata": {},
   "outputs": [],
   "source": [
    "The function variable can be refered to global variable using global keyword. If this is not done,unbound local error will pop up"
   ]
  },
  {
   "cell_type": "code",
   "execution_count": null,
   "id": "dba07263",
   "metadata": {},
   "outputs": [],
   "source": [
    "10. What is the data type of None?"
   ]
  },
  {
   "cell_type": "code",
   "execution_count": 11,
   "id": "85ed688f",
   "metadata": {},
   "outputs": [
    {
     "data": {
      "text/plain": [
       "NoneType"
      ]
     },
     "execution_count": 11,
     "metadata": {},
     "output_type": "execute_result"
    }
   ],
   "source": [
    "type(None)"
   ]
  },
  {
   "cell_type": "code",
   "execution_count": null,
   "id": "869682c4",
   "metadata": {},
   "outputs": [],
   "source": [
    "11. What does the sentence import areallyourpetsnamederic do?"
   ]
  },
  {
   "cell_type": "code",
   "execution_count": 13,
   "id": "2c4ddb09",
   "metadata": {},
   "outputs": [
    {
     "ename": "ModuleNotFoundError",
     "evalue": "No module named 'areallyourpetsnamederic'",
     "output_type": "error",
     "traceback": [
      "\u001b[1;31m---------------------------------------------------------------------------\u001b[0m",
      "\u001b[1;31mModuleNotFoundError\u001b[0m                       Traceback (most recent call last)",
      "\u001b[1;32m<ipython-input-13-b1ea9cb2228f>\u001b[0m in \u001b[0;36m<module>\u001b[1;34m\u001b[0m\n\u001b[1;32m----> 1\u001b[1;33m \u001b[1;32mimport\u001b[0m \u001b[0mareallyourpetsnamederic\u001b[0m\u001b[1;33m\u001b[0m\u001b[1;33m\u001b[0m\u001b[0m\n\u001b[0m",
      "\u001b[1;31mModuleNotFoundError\u001b[0m: No module named 'areallyourpetsnamederic'"
     ]
    }
   ],
   "source": [
    "import areallyourpetsnamederic"
   ]
  },
  {
   "cell_type": "code",
   "execution_count": null,
   "id": "1da1fa68",
   "metadata": {},
   "outputs": [],
   "source": [
    "If there is any module with name areallyourpetsnamederic, it will import it."
   ]
  },
  {
   "cell_type": "code",
   "execution_count": null,
   "id": "0c798cb3",
   "metadata": {},
   "outputs": [],
   "source": [
    "12. If you had a bacon() feature in a spam module, what would you call it after importing spam?"
   ]
  },
  {
   "cell_type": "code",
   "execution_count": 15,
   "id": "1323af1e",
   "metadata": {},
   "outputs": [
    {
     "data": {
      "text/plain": [
       "200"
      ]
     },
     "execution_count": 15,
     "metadata": {},
     "output_type": "execute_result"
    }
   ],
   "source": [
    "import spam\n",
    "spam.bacon(10,20)"
   ]
  },
  {
   "cell_type": "code",
   "execution_count": null,
   "id": "7dbe8d1f",
   "metadata": {},
   "outputs": [],
   "source": [
    "as the module name is spam, we have to call bacon() feature by using Spam as a prefix with a dot in between"
   ]
  },
  {
   "cell_type": "code",
   "execution_count": null,
   "id": "5aeb18ce",
   "metadata": {},
   "outputs": [],
   "source": [
    "13. What can you do to save a programme from crashing if it encounters an error?"
   ]
  },
  {
   "cell_type": "code",
   "execution_count": null,
   "id": "bc5d663b",
   "metadata": {},
   "outputs": [],
   "source": [
    "To save a program from crashing we use something called try and catch blocks. These blocks will take inputs which we think might go wrong,\n",
    "and continues the program without letting it crash"
   ]
  },
  {
   "cell_type": "code",
   "execution_count": 24,
   "id": "a11922bd",
   "metadata": {},
   "outputs": [
    {
     "name": "stdout",
     "output_type": "stream",
     "text": [
      "error\n"
     ]
    }
   ],
   "source": [
    "test(10,0)"
   ]
  },
  {
   "cell_type": "code",
   "execution_count": null,
   "id": "8dbed621",
   "metadata": {},
   "outputs": [],
   "source": [
    "14. What is the purpose of the try clause? What is the purpose of the except clause?"
   ]
  },
  {
   "cell_type": "code",
   "execution_count": 25,
   "id": "0c7e1a0f",
   "metadata": {},
   "outputs": [],
   "source": [
    "def test(a,b):\n",
    "    if(a>b):\n",
    "        try:\n",
    "            c=a/b\n",
    "        except:\n",
    "            print(\"error\")"
   ]
  },
  {
   "cell_type": "code",
   "execution_count": 26,
   "id": "cc01e9ca",
   "metadata": {},
   "outputs": [
    {
     "name": "stdout",
     "output_type": "stream",
     "text": [
      "error\n"
     ]
    }
   ],
   "source": [
    "test(10,0)"
   ]
  },
  {
   "cell_type": "code",
   "execution_count": 27,
   "id": "40cab630",
   "metadata": {},
   "outputs": [],
   "source": [
    "def test(a,b):\n",
    "    if(a>b):\n",
    "        c=a/b\n",
    "        return c"
   ]
  },
  {
   "cell_type": "code",
   "execution_count": 28,
   "id": "af420019",
   "metadata": {},
   "outputs": [
    {
     "ename": "ZeroDivisionError",
     "evalue": "division by zero",
     "output_type": "error",
     "traceback": [
      "\u001b[1;31m---------------------------------------------------------------------------\u001b[0m",
      "\u001b[1;31mZeroDivisionError\u001b[0m                         Traceback (most recent call last)",
      "\u001b[1;32m<ipython-input-28-384ad6af00e4>\u001b[0m in \u001b[0;36m<module>\u001b[1;34m\u001b[0m\n\u001b[1;32m----> 1\u001b[1;33m \u001b[0mtest\u001b[0m\u001b[1;33m(\u001b[0m\u001b[1;36m10\u001b[0m\u001b[1;33m,\u001b[0m\u001b[1;36m0\u001b[0m\u001b[1;33m)\u001b[0m\u001b[1;33m\u001b[0m\u001b[1;33m\u001b[0m\u001b[0m\n\u001b[0m",
      "\u001b[1;32m<ipython-input-27-1d4c92adeba9>\u001b[0m in \u001b[0;36mtest\u001b[1;34m(a, b)\u001b[0m\n\u001b[0;32m      1\u001b[0m \u001b[1;32mdef\u001b[0m \u001b[0mtest\u001b[0m\u001b[1;33m(\u001b[0m\u001b[0ma\u001b[0m\u001b[1;33m,\u001b[0m\u001b[0mb\u001b[0m\u001b[1;33m)\u001b[0m\u001b[1;33m:\u001b[0m\u001b[1;33m\u001b[0m\u001b[1;33m\u001b[0m\u001b[0m\n\u001b[0;32m      2\u001b[0m     \u001b[1;32mif\u001b[0m\u001b[1;33m(\u001b[0m\u001b[0ma\u001b[0m\u001b[1;33m>\u001b[0m\u001b[0mb\u001b[0m\u001b[1;33m)\u001b[0m\u001b[1;33m:\u001b[0m\u001b[1;33m\u001b[0m\u001b[1;33m\u001b[0m\u001b[0m\n\u001b[1;32m----> 3\u001b[1;33m         \u001b[0mc\u001b[0m\u001b[1;33m=\u001b[0m\u001b[0ma\u001b[0m\u001b[1;33m/\u001b[0m\u001b[0mb\u001b[0m\u001b[1;33m\u001b[0m\u001b[1;33m\u001b[0m\u001b[0m\n\u001b[0m\u001b[0;32m      4\u001b[0m         \u001b[1;32mreturn\u001b[0m \u001b[0mc\u001b[0m\u001b[1;33m\u001b[0m\u001b[1;33m\u001b[0m\u001b[0m\n",
      "\u001b[1;31mZeroDivisionError\u001b[0m: division by zero"
     ]
    }
   ],
   "source": [
    "test(10,0)"
   ]
  },
  {
   "cell_type": "code",
   "execution_count": null,
   "id": "76279e5b",
   "metadata": {},
   "outputs": [],
   "source": [
    "In the above two examples, the b value assigned to be zero which results in zerodivision error.\n",
    "this can be avoided by using try and except clause which stops program from crashing"
   ]
  }
 ],
 "metadata": {
  "kernelspec": {
   "display_name": "Python 3",
   "language": "python",
   "name": "python3"
  },
  "language_info": {
   "codemirror_mode": {
    "name": "ipython",
    "version": 3
   },
   "file_extension": ".py",
   "mimetype": "text/x-python",
   "name": "python",
   "nbconvert_exporter": "python",
   "pygments_lexer": "ipython3",
   "version": "3.8.8"
  }
 },
 "nbformat": 4,
 "nbformat_minor": 5
}
