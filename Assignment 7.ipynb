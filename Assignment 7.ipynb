{
 "cells": [
  {
   "cell_type": "code",
   "execution_count": null,
   "id": "11124501",
   "metadata": {},
   "outputs": [],
   "source": [
    "1. What is the name of the feature responsible for generating Regex objects?\n",
    "2. Why do raw strings often appear in Regex objects?\n",
    "3. What is the return value of the search() method?\n",
    "4. From a Match item, how do you get the actual strings that match the pattern?\n",
    "5. In the regex which created from the r'(\\d\\d\\d)-(\\d\\d\\d-\\d\\d\\d\\d)', what does group zero cover? Group 2? Group 1?\n",
    "6. In standard expression syntax, parentheses and intervals have distinct meanings. How can you tell a regex that you want it to fit real parentheses and periods?\n",
    "7. The findall() method returns a string list or a list of string tuples. What causes it to return one of the two options?\n",
    "8. In standard expressions, what does the | character mean?\n",
    "9. In regular expressions, what does the character stand for?\n",
    "10.In regular expressions, what is the difference between the + and * characters?\n",
    "11. What is the difference between {4} and {4,5} in regular expression?\n",
    "12. What do you mean by the \\d, \\w, and \\s shorthand character classes signify in regular expressions?\n",
    "13. What do means by \\D, \\W, and \\S shorthand character classes signify in regular expressions?\n",
    "14. What is the difference between .*? and .*?\n",
    "15. What is the syntax for matching both numbers and lowercase letters with a character class?\n",
    "16. What is the procedure for making a normal expression in regax case insensitive?\n",
    "17. What does the . character normally match? What does it match if re.DOTALL is passed as 2nd argument in re.compile()?\n",
    "18. If numReg = re.compile(r'\\d+'), what will numRegex.sub('X', '11 drummers, 10 pipers, five rings, 4 hen') return?\n",
    "19. What does passing re.VERBOSE as the 2nd argument to re.compile() allow to do?\n",
    "20. How would you write a regex that match a number with comma for every three digits? It must match the given following:\n",
    "'42'\n",
    "'1,234'\n",
    "'6,368,745'\n",
    "but not the following:\n",
    "'12,34,567' (which has only two digits between the commas)\n",
    "'1234' (which lacks commas)\n",
    "21. How would you write a regex that matches the full name of someone whose last name is Watanabe? You can assume that the first name that comes before it will always be one word that begins with a capital letter. The regex must match the following:\n",
    "'Haruto Watanabe'\n",
    "'Alice Watanabe'\n",
    "'RoboCop Watanabe'\n",
    "but not the following:\n",
    "'haruto Watanabe' (where the first name is not capitalized)\n",
    "'Mr. Watanabe' (where the preceding word has a nonletter character)\n",
    "'Watanabe' (which has no first name)\n",
    "'Haruto watanabe' (where Watanabe is not capitalized)\n",
    "22. How would you write a regex that matches a sentence where the first word is either Alice, Bob, or Carol; the second word is either eats, pets, or throws; the third word is apples, cats, or baseballs; and the sentence ends with a period? This regex should be case-insensitive. It must match the following:\n",
    "'Alice eats apples.'\n",
    "'Bob pets cats.'\n",
    "'Carol throws baseballs.'\n",
    "'Alice throws Apples.'\n",
    "'BOB EATS CATS.'\n",
    "but not the following:\n",
    "'RoboCop eats apples.'\n",
    "'ALICE THROWS FOOTBALLS.'\n",
    "'Carol eats 7 cats.'\n",
    "\n"
   ]
  },
  {
   "cell_type": "code",
   "execution_count": null,
   "id": "1b7e243c",
   "metadata": {},
   "outputs": [],
   "source": [
    "1. What is the name of the feature responsible for generating Regex objects?"
   ]
  },
  {
   "cell_type": "code",
   "execution_count": 1,
   "id": "442586c5",
   "metadata": {},
   "outputs": [],
   "source": [
    "import re"
   ]
  },
  {
   "cell_type": "code",
   "execution_count": null,
   "id": "2d4b8716",
   "metadata": {},
   "outputs": [],
   "source": [
    "2. Why do raw strings often appear in Regex objects?"
   ]
  },
  {
   "cell_type": "code",
   "execution_count": null,
   "id": "8bb145f9",
   "metadata": {},
   "outputs": [],
   "source": [
    "python will consider '\\' as an escape character,and '\\n' as asingle new line character. So, this creates a problem when u have \n",
    "to write a \\d because it is not an escape character. we should be writing \\\\d-\\\\d-\\\\d multiple times. we can avoid this whole\n",
    "just by putting r'\\d\\d\\d-\\d\\d\\d'"
   ]
  },
  {
   "cell_type": "code",
   "execution_count": 9,
   "id": "29d0e1d4",
   "metadata": {},
   "outputs": [],
   "source": [
    "3. What is the return value of the search() method?"
   ]
  },
  {
   "cell_type": "code",
   "execution_count": null,
   "id": "d0543e0c",
   "metadata": {},
   "outputs": [],
   "source": [
    "Search will return a Match object if somethig matches in the string. Else,it returns None"
   ]
  },
  {
   "cell_type": "code",
   "execution_count": null,
   "id": "0f863a4f",
   "metadata": {},
   "outputs": [],
   "source": [
    "4. From a Match item, how do you get the actual strings that match the pattern?"
   ]
  },
  {
   "cell_type": "code",
   "execution_count": null,
   "id": "5f2e351e",
   "metadata": {},
   "outputs": [],
   "source": [
    "Match objects have a group method that returns a string when something matches in the actual strng"
   ]
  },
  {
   "cell_type": "code",
   "execution_count": null,
   "id": "5ba0d8f9",
   "metadata": {},
   "outputs": [],
   "source": []
  },
  {
   "cell_type": "code",
   "execution_count": null,
   "id": "1db9ab7a",
   "metadata": {},
   "outputs": [],
   "source": [
    "5. In the regex which created from the r'(\\d\\d\\d)-(\\d\\d\\d-\\d\\d\\d\\d)', what does group zero cover? Group 2? Group 1?"
   ]
  },
  {
   "cell_type": "code",
   "execution_count": 39,
   "id": "91192ca0",
   "metadata": {},
   "outputs": [],
   "source": [
    "import re"
   ]
  },
  {
   "cell_type": "code",
   "execution_count": 40,
   "id": "652bc344",
   "metadata": {},
   "outputs": [],
   "source": [
    "sff=re.compile(r'(\\d\\d\\d)-(\\d\\d\\d-\\d\\d\\d\\d)')"
   ]
  },
  {
   "cell_type": "code",
   "execution_count": 43,
   "id": "b30f580b",
   "metadata": {},
   "outputs": [],
   "source": [
    "ider=sff.search('Phone number is 123-456-7899')"
   ]
  },
  {
   "cell_type": "code",
   "execution_count": 44,
   "id": "5c041bf9",
   "metadata": {},
   "outputs": [
    {
     "data": {
      "text/plain": [
       "'123-456-7899'"
      ]
     },
     "execution_count": 44,
     "metadata": {},
     "output_type": "execute_result"
    }
   ],
   "source": [
    "ider.group()"
   ]
  },
  {
   "cell_type": "code",
   "execution_count": 45,
   "id": "a143f79a",
   "metadata": {},
   "outputs": [
    {
     "data": {
      "text/plain": [
       "'123'"
      ]
     },
     "execution_count": 45,
     "metadata": {},
     "output_type": "execute_result"
    }
   ],
   "source": [
    "ider.group(1)"
   ]
  },
  {
   "cell_type": "code",
   "execution_count": 46,
   "id": "feaeb505",
   "metadata": {},
   "outputs": [
    {
     "data": {
      "text/plain": [
       "'123-456-7899'"
      ]
     },
     "execution_count": 46,
     "metadata": {},
     "output_type": "execute_result"
    }
   ],
   "source": [
    "ider.group(0)"
   ]
  },
  {
   "cell_type": "code",
   "execution_count": 47,
   "id": "c10e6fa6",
   "metadata": {},
   "outputs": [
    {
     "data": {
      "text/plain": [
       "'456-7899'"
      ]
     },
     "execution_count": 47,
     "metadata": {},
     "output_type": "execute_result"
    }
   ],
   "source": [
    "ider.group(2)"
   ]
  },
  {
   "cell_type": "code",
   "execution_count": null,
   "id": "33235c56",
   "metadata": {},
   "outputs": [],
   "source": []
  },
  {
   "cell_type": "code",
   "execution_count": null,
   "id": "c9fb574b",
   "metadata": {},
   "outputs": [],
   "source": [
    "6. In standard expression syntax, parentheses and intervals have distinct meanings. \n",
    "How can you tell a regex that you want it to fit real parentheses and periods"
   ]
  },
  {
   "cell_type": "code",
   "execution_count": null,
   "id": "7ce4ac98",
   "metadata": {},
   "outputs": [],
   "source": []
  },
  {
   "cell_type": "code",
   "execution_count": null,
   "id": "dc61df10",
   "metadata": {},
   "outputs": [],
   "source": []
  },
  {
   "cell_type": "code",
   "execution_count": null,
   "id": "2ae7175a",
   "metadata": {},
   "outputs": [],
   "source": [
    "7. The findall() method returns a string list or a list of string tuples. What causes it to return one of the two options?"
   ]
  },
  {
   "cell_type": "code",
   "execution_count": 72,
   "id": "14a66f40",
   "metadata": {},
   "outputs": [],
   "source": [
    "erg=re.compile(r'\\d\\d\\d-\\d\\d\\d-\\d\\d\\d\\d')"
   ]
  },
  {
   "cell_type": "code",
   "execution_count": 73,
   "id": "23409ede",
   "metadata": {},
   "outputs": [],
   "source": [
    "dd=erg.findall('number: 123-456-7890 work: 970-162-0739')"
   ]
  },
  {
   "cell_type": "code",
   "execution_count": 74,
   "id": "009e4d1c",
   "metadata": {},
   "outputs": [
    {
     "data": {
      "text/plain": [
       "['123-456-7890', '970-162-0739']"
      ]
     },
     "execution_count": 74,
     "metadata": {},
     "output_type": "execute_result"
    }
   ],
   "source": [
    "dd"
   ]
  },
  {
   "cell_type": "code",
   "execution_count": 75,
   "id": "d9a8b38f",
   "metadata": {},
   "outputs": [
    {
     "data": {
      "text/plain": [
       "list"
      ]
     },
     "execution_count": 75,
     "metadata": {},
     "output_type": "execute_result"
    }
   ],
   "source": [
    "type(dd)"
   ]
  },
  {
   "cell_type": "code",
   "execution_count": 79,
   "id": "d9d479e1",
   "metadata": {},
   "outputs": [],
   "source": [
    "erg=re.compile(r'(\\d\\d\\d)-(\\d\\d\\d-\\d\\d\\d\\d)')"
   ]
  },
  {
   "cell_type": "code",
   "execution_count": 80,
   "id": "b7ec0e99",
   "metadata": {},
   "outputs": [],
   "source": [
    "dd=erg.findall('number: 123-456-7890 work: 970-162-0739')"
   ]
  },
  {
   "cell_type": "code",
   "execution_count": 81,
   "id": "e9d92171",
   "metadata": {},
   "outputs": [
    {
     "data": {
      "text/plain": [
       "[('123', '456-7890'), ('970', '162-0739')]"
      ]
     },
     "execution_count": 81,
     "metadata": {},
     "output_type": "execute_result"
    }
   ],
   "source": [
    "dd"
   ]
  },
  {
   "cell_type": "code",
   "execution_count": 82,
   "id": "37f30f8b",
   "metadata": {},
   "outputs": [
    {
     "data": {
      "text/plain": [
       "list"
      ]
     },
     "execution_count": 82,
     "metadata": {},
     "output_type": "execute_result"
    }
   ],
   "source": [
    "type(dd)"
   ]
  },
  {
   "cell_type": "code",
   "execution_count": null,
   "id": "624fd8b1",
   "metadata": {},
   "outputs": [],
   "source": [
    "In the first scenario, findall is returning a list  of numbers. In the second scenario as there are groups present,\n",
    "it is returning a list of tuples\n"
   ]
  },
  {
   "cell_type": "code",
   "execution_count": null,
   "id": "afa6d183",
   "metadata": {},
   "outputs": [],
   "source": []
  },
  {
   "cell_type": "code",
   "execution_count": null,
   "id": "dda2b139",
   "metadata": {},
   "outputs": [],
   "source": [
    "8. In standard expressions, what does the | character mean?"
   ]
  },
  {
   "cell_type": "code",
   "execution_count": null,
   "id": "e42164c8",
   "metadata": {},
   "outputs": [],
   "source": [
    "It is called 'pipe'. It means either ,or"
   ]
  },
  {
   "cell_type": "code",
   "execution_count": 11,
   "id": "afd2210f",
   "metadata": {},
   "outputs": [],
   "source": [
    "import re"
   ]
  },
  {
   "cell_type": "code",
   "execution_count": 25,
   "id": "fee55dee",
   "metadata": {},
   "outputs": [],
   "source": [
    "erg=re.compile(r'Batman|cat ')"
   ]
  },
  {
   "cell_type": "code",
   "execution_count": 27,
   "id": "38cfdadd",
   "metadata": {},
   "outputs": [],
   "source": [
    "fg=erg.search('bat eats cat')"
   ]
  },
  {
   "cell_type": "code",
   "execution_count": 28,
   "id": "d23371cd",
   "metadata": {},
   "outputs": [],
   "source": [
    "fg"
   ]
  },
  {
   "cell_type": "code",
   "execution_count": null,
   "id": "2ac086c9",
   "metadata": {},
   "outputs": [],
   "source": []
  },
  {
   "cell_type": "code",
   "execution_count": 17,
   "id": "3da9f039",
   "metadata": {},
   "outputs": [],
   "source": [
    "erg=re.compile(r'cat|kalyan ')"
   ]
  },
  {
   "cell_type": "code",
   "execution_count": 19,
   "id": "1c36b663",
   "metadata": {},
   "outputs": [],
   "source": [
    "ff=erg.search( 'cat and kalyan')"
   ]
  },
  {
   "cell_type": "code",
   "execution_count": 20,
   "id": "4cfd87b3",
   "metadata": {},
   "outputs": [
    {
     "data": {
      "text/plain": [
       "<re.Match object; span=(0, 3), match='cat'>"
      ]
     },
     "execution_count": 20,
     "metadata": {},
     "output_type": "execute_result"
    }
   ],
   "source": [
    "ff"
   ]
  },
  {
   "cell_type": "code",
   "execution_count": null,
   "id": "d60dd2ad",
   "metadata": {},
   "outputs": [],
   "source": [
    "9. In regular expressions, what does the character ? stand for?"
   ]
  },
  {
   "cell_type": "code",
   "execution_count": null,
   "id": "c6bf3747",
   "metadata": {},
   "outputs": [],
   "source": [
    "if at all i have to search for an optional string available in the statement provided, i will use ?"
   ]
  },
  {
   "cell_type": "code",
   "execution_count": 41,
   "id": "d4509a86",
   "metadata": {},
   "outputs": [],
   "source": [
    "import re"
   ]
  },
  {
   "cell_type": "code",
   "execution_count": 48,
   "id": "184042ee",
   "metadata": {},
   "outputs": [],
   "source": [
    "egg=re.compile(r'Avengers (IN)?finite war')"
   ]
  },
  {
   "cell_type": "code",
   "execution_count": 49,
   "id": "247bf621",
   "metadata": {},
   "outputs": [],
   "source": [
    "fh=egg.search(' This is Avengers finite war')"
   ]
  },
  {
   "cell_type": "code",
   "execution_count": 50,
   "id": "39e4b799",
   "metadata": {},
   "outputs": [
    {
     "data": {
      "text/plain": [
       "'Avengers finite war'"
      ]
     },
     "execution_count": 50,
     "metadata": {},
     "output_type": "execute_result"
    }
   ],
   "source": [
    "fh.group()"
   ]
  },
  {
   "cell_type": "code",
   "execution_count": 53,
   "id": "bea7bd92",
   "metadata": {},
   "outputs": [],
   "source": [
    "fh=egg.search(' This is Avengers INfinite war')"
   ]
  },
  {
   "cell_type": "code",
   "execution_count": 54,
   "id": "fc19a04d",
   "metadata": {},
   "outputs": [
    {
     "data": {
      "text/plain": [
       "'Avengers INfinite war'"
      ]
     },
     "execution_count": 54,
     "metadata": {},
     "output_type": "execute_result"
    }
   ],
   "source": [
    "fh.group()"
   ]
  },
  {
   "cell_type": "code",
   "execution_count": null,
   "id": "6f11191b",
   "metadata": {},
   "outputs": [],
   "source": [
    "10.In regular expressions, what is the difference between the + and * characters?"
   ]
  },
  {
   "cell_type": "code",
   "execution_count": null,
   "id": "f9267856",
   "metadata": {},
   "outputs": [],
   "source": [
    "* signifies match zero or more"
   ]
  },
  {
   "cell_type": "code",
   "execution_count": 58,
   "id": "4c347bef",
   "metadata": {},
   "outputs": [],
   "source": [
    "egg=re.compile(r'Avengers (IN)*finite war')"
   ]
  },
  {
   "cell_type": "code",
   "execution_count": 59,
   "id": "a969f667",
   "metadata": {},
   "outputs": [],
   "source": [
    "fp=egg.search('Avengers finite war')"
   ]
  },
  {
   "cell_type": "code",
   "execution_count": 60,
   "id": "0e57ce25",
   "metadata": {},
   "outputs": [
    {
     "data": {
      "text/plain": [
       "'Avengers finite war'"
      ]
     },
     "execution_count": 60,
     "metadata": {},
     "output_type": "execute_result"
    }
   ],
   "source": [
    "fp.group()"
   ]
  },
  {
   "cell_type": "code",
   "execution_count": null,
   "id": "49699c2d",
   "metadata": {},
   "outputs": [],
   "source": [
    "+ signifies one or more"
   ]
  },
  {
   "cell_type": "code",
   "execution_count": 61,
   "id": "10ac2b66",
   "metadata": {},
   "outputs": [],
   "source": [
    "egg=re.compile(r'Avengers (IN)+finite war')"
   ]
  },
  {
   "cell_type": "code",
   "execution_count": 66,
   "id": "e326d1d2",
   "metadata": {},
   "outputs": [],
   "source": [
    "fp1=egg.search('Avengers finite war')"
   ]
  },
  {
   "cell_type": "code",
   "execution_count": 67,
   "id": "59ca36bd",
   "metadata": {},
   "outputs": [
    {
     "ename": "AttributeError",
     "evalue": "'NoneType' object has no attribute 'group'",
     "output_type": "error",
     "traceback": [
      "\u001b[1;31m---------------------------------------------------------------------------\u001b[0m",
      "\u001b[1;31mAttributeError\u001b[0m                            Traceback (most recent call last)",
      "\u001b[1;32m<ipython-input-67-339d8fede968>\u001b[0m in \u001b[0;36m<module>\u001b[1;34m\u001b[0m\n\u001b[1;32m----> 1\u001b[1;33m \u001b[0mfp1\u001b[0m\u001b[1;33m.\u001b[0m\u001b[0mgroup\u001b[0m\u001b[1;33m(\u001b[0m\u001b[1;33m)\u001b[0m\u001b[1;33m\u001b[0m\u001b[1;33m\u001b[0m\u001b[0m\n\u001b[0m",
      "\u001b[1;31mAttributeError\u001b[0m: 'NoneType' object has no attribute 'group'"
     ]
    }
   ],
   "source": [
    "fp1.group()"
   ]
  },
  {
   "cell_type": "code",
   "execution_count": null,
   "id": "f5bc6649",
   "metadata": {},
   "outputs": [],
   "source": [
    "For the same search string,+ and * are signifying two different things. * returns for zero match,while + returns for a min 1 match"
   ]
  },
  {
   "cell_type": "code",
   "execution_count": null,
   "id": "f525892f",
   "metadata": {},
   "outputs": [],
   "source": [
    "11. What is the difference between {4} and {4,5} in regular expression?"
   ]
  },
  {
   "cell_type": "code",
   "execution_count": null,
   "id": "c7af5b84",
   "metadata": {},
   "outputs": [],
   "source": [
    "These help in repeating sequences"
   ]
  },
  {
   "cell_type": "code",
   "execution_count": 85,
   "id": "bfc05bc7",
   "metadata": {},
   "outputs": [],
   "source": [
    "gg=re.compile(r'(Ha){4,5}')"
   ]
  },
  {
   "cell_type": "code",
   "execution_count": 92,
   "id": "9018a6f9",
   "metadata": {},
   "outputs": [],
   "source": [
    "xx=gg.search('HaHaHaHaHa')"
   ]
  },
  {
   "cell_type": "code",
   "execution_count": 93,
   "id": "d987868f",
   "metadata": {},
   "outputs": [
    {
     "data": {
      "text/plain": [
       "'HaHaHaHaHa'"
      ]
     },
     "execution_count": 93,
     "metadata": {},
     "output_type": "execute_result"
    }
   ],
   "source": [
    "xx.group()"
   ]
  },
  {
   "cell_type": "code",
   "execution_count": 91,
   "id": "131b5128",
   "metadata": {},
   "outputs": [],
   "source": [
    "gg2=re.compile(r'(Ha){4}')"
   ]
  },
  {
   "cell_type": "code",
   "execution_count": 99,
   "id": "73aea26c",
   "metadata": {},
   "outputs": [],
   "source": [
    "dd=gg2.search('HaHaHaHaHa')"
   ]
  },
  {
   "cell_type": "code",
   "execution_count": 100,
   "id": "f23cf3e7",
   "metadata": {},
   "outputs": [
    {
     "data": {
      "text/plain": [
       "'HaHaHaHa'"
      ]
     },
     "execution_count": 100,
     "metadata": {},
     "output_type": "execute_result"
    }
   ],
   "source": [
    "dd.group()"
   ]
  },
  {
   "cell_type": "code",
   "execution_count": null,
   "id": "71f850f8",
   "metadata": {},
   "outputs": [],
   "source": [
    "12. What do you mean by the \\d, \\w, and \\s shorthand character classes signify in regular expressions?"
   ]
  },
  {
   "cell_type": "code",
   "execution_count": null,
   "id": "b53fa913",
   "metadata": {},
   "outputs": [],
   "source": [
    "\\d represents digits from 0 to 9;\\w represents any numeric,letter,charactar;\\s represents any tab or new line character"
   ]
  },
  {
   "cell_type": "code",
   "execution_count": null,
   "id": "462bb723",
   "metadata": {},
   "outputs": [],
   "source": [
    "13. What do means by \\D, \\W, and \\S shorthand character classes signify in regular expressions?"
   ]
  },
  {
   "cell_type": "code",
   "execution_count": null,
   "id": "02140f4a",
   "metadata": {},
   "outputs": [],
   "source": [
    "\\D represents any non numeric character  from 0 to 9;\\W represents any character that is not numeric,letter,underscore charactar\n",
    "\\S represents any character that is not a tab or new line character"
   ]
  },
  {
   "cell_type": "code",
   "execution_count": null,
   "id": "4a1e694d",
   "metadata": {},
   "outputs": [],
   "source": [
    "14. What is the difference between .* and .*?"
   ]
  },
  {
   "cell_type": "code",
   "execution_count": null,
   "id": "bba6ced0",
   "metadata": {},
   "outputs": [],
   "source": [
    ".* represents a greedy match i.e.,it takes the search string that is longer; .*? is about nongreedy match which means it choses \n",
    "strings that are of nominal size too"
   ]
  },
  {
   "cell_type": "code",
   "execution_count": null,
   "id": "bdbedb1b",
   "metadata": {},
   "outputs": [],
   "source": [
    "15. What is the syntax for matching both numbers and lowercase letters with a character class?"
   ]
  },
  {
   "cell_type": "code",
   "execution_count": null,
   "id": "38b34a9c",
   "metadata": {},
   "outputs": [],
   "source": [
    "[0-9a-z] or [a-z0-9]"
   ]
  },
  {
   "cell_type": "code",
   "execution_count": null,
   "id": "704a7464",
   "metadata": {},
   "outputs": [],
   "source": [
    "16. What is the procedure for making a normal expression in regax case insensitive?"
   ]
  },
  {
   "cell_type": "code",
   "execution_count": null,
   "id": "00d3d63d",
   "metadata": {},
   "outputs": [],
   "source": [
    "To make a normal expression in regax insensitive, we have to add re.IGNORECASE or re.I in re.compile"
   ]
  },
  {
   "cell_type": "code",
   "execution_count": null,
   "id": "64eb5fc2",
   "metadata": {},
   "outputs": [],
   "source": [
    "17. What does the . character normally match? What does it match if re.DOTALL is passed as 2nd argument in re.compile()?"
   ]
  },
  {
   "cell_type": "code",
   "execution_count": null,
   "id": "65c873a1",
   "metadata": {},
   "outputs": [],
   "source": [
    ". character will match anything except new line character. "
   ]
  },
  {
   "cell_type": "code",
   "execution_count": 114,
   "id": "fdeff9e1",
   "metadata": {},
   "outputs": [],
   "source": [
    "egg=re.compile(r'.mpty')"
   ]
  },
  {
   "cell_type": "code",
   "execution_count": 115,
   "id": "df2d71dc",
   "metadata": {},
   "outputs": [],
   "source": [
    "fg=egg.findall('shubham and humpty pockes are empty')"
   ]
  },
  {
   "cell_type": "code",
   "execution_count": 116,
   "id": "ba377f57",
   "metadata": {},
   "outputs": [
    {
     "data": {
      "text/plain": [
       "['umpty', 'empty']"
      ]
     },
     "execution_count": 116,
     "metadata": {},
     "output_type": "execute_result"
    }
   ],
   "source": [
    "fg"
   ]
  },
  {
   "cell_type": "code",
   "execution_count": null,
   "id": "e15b7974",
   "metadata": {},
   "outputs": [],
   "source": [
    ".DOTALL matches even the newline characters\n"
   ]
  },
  {
   "cell_type": "code",
   "execution_count": 138,
   "id": "272b1401",
   "metadata": {},
   "outputs": [],
   "source": [
    "egg=re.compile('.*',re.DOTALL)"
   ]
  },
  {
   "cell_type": "code",
   "execution_count": 139,
   "id": "e27ec980",
   "metadata": {},
   "outputs": [],
   "source": [
    "fg=egg.search('i love u.\\n U too.\\nHundred times').group()"
   ]
  },
  {
   "cell_type": "code",
   "execution_count": 140,
   "id": "39667d4e",
   "metadata": {},
   "outputs": [
    {
     "data": {
      "text/plain": [
       "'i love u.\\nU too.\\nHundred times'"
      ]
     },
     "execution_count": 140,
     "metadata": {},
     "output_type": "execute_result"
    }
   ],
   "source": [
    "fg"
   ]
  },
  {
   "cell_type": "code",
   "execution_count": null,
   "id": "c06f28f4",
   "metadata": {},
   "outputs": [],
   "source": [
    "18. If numReg = re.compile(r'\\d+'), what will numRegex.sub('X', '11 drummers, 10 pipers, five rings, 4 hen') return?"
   ]
  },
  {
   "cell_type": "code",
   "execution_count": 141,
   "id": "8a3eeea0",
   "metadata": {},
   "outputs": [],
   "source": [
    "numReg = re.compile(r'\\d+')"
   ]
  },
  {
   "cell_type": "code",
   "execution_count": 142,
   "id": "afa15a2c",
   "metadata": {},
   "outputs": [],
   "source": [
    "xx=numReg.sub('X', '11 drummers, 10 pipers, five rings, 4 hen')"
   ]
  },
  {
   "cell_type": "code",
   "execution_count": 143,
   "id": "2ca18aa3",
   "metadata": {},
   "outputs": [
    {
     "data": {
      "text/plain": [
       "'X drummers, X pipers, five rings, X hen'"
      ]
     },
     "execution_count": 143,
     "metadata": {},
     "output_type": "execute_result"
    }
   ],
   "source": [
    "xx"
   ]
  },
  {
   "cell_type": "code",
   "execution_count": null,
   "id": "13ede9f5",
   "metadata": {},
   "outputs": [],
   "source": [
    "Sub() is to substitue strigs in place of other strings. Here X replaces the numerical values"
   ]
  },
  {
   "cell_type": "code",
   "execution_count": null,
   "id": "6ecee2f8",
   "metadata": {},
   "outputs": [],
   "source": [
    "19. What does passing re.VERBOSE as the 2nd argument to re.compile() allow to do?"
   ]
  },
  {
   "cell_type": "code",
   "execution_count": null,
   "id": "1a0392d2",
   "metadata": {},
   "outputs": [],
   "source": [
    "re.VERBOSE helps in reading the input more readable and write regular expression nicer. when passed as a second argument, \n",
    "re.compile() returns a REGEX object that matches with the string."
   ]
  },
  {
   "cell_type": "code",
   "execution_count": null,
   "id": "9ad0f06b",
   "metadata": {},
   "outputs": [],
   "source": [
    "20. How would you write a regex that match a number with comma for every three digits? It must match the given following:\n",
    "'42'\n",
    "'1,234'\n",
    "'6,368,745'\n",
    "but not the following:\n",
    "'12,34,567' (which has only two digits between the commas)\n",
    "'1234' (which lacks commas)"
   ]
  },
  {
   "cell_type": "code",
   "execution_count": 243,
   "id": "dd46d0ff",
   "metadata": {},
   "outputs": [],
   "source": [
    "import re"
   ]
  },
  {
   "cell_type": "code",
   "execution_count": 296,
   "id": "e126fcca",
   "metadata": {},
   "outputs": [],
   "source": [
    "s=re.compile(r'^\\d{1,3}?(,\\d{3}?)*$')"
   ]
  },
  {
   "cell_type": "code",
   "execution_count": 307,
   "id": "995b4848",
   "metadata": {},
   "outputs": [
    {
     "data": {
      "text/plain": [
       "True"
      ]
     },
     "execution_count": 307,
     "metadata": {},
     "output_type": "execute_result"
    }
   ],
   "source": [
    "s.search('12,34,567')==None\n"
   ]
  },
  {
   "cell_type": "code",
   "execution_count": null,
   "id": "ce565c9d",
   "metadata": {},
   "outputs": [],
   "source": [
    "21. How would you write a regex that matches the full name of someone whose last name is Watanabe?\n",
    "You can assume that the first name that comes before it will always be one word that begins with a capital letter. \n",
    "The regex must match the following:\n",
    "'Haruto Watanabe'\n",
    "'Alice Watanabe'\n",
    "'RoboCop Watanabe'\n",
    "but not the following:\n",
    "'haruto Watanabe' (where the first name is not capitalized)\n",
    "'Mr. Watanabe' (where the preceding word has a nonletter character)\n",
    "'Watanabe' (which has no first name)\n",
    "'Haruto watanabe' (where Watanabe is not capitalized)"
   ]
  },
  {
   "cell_type": "code",
   "execution_count": 466,
   "id": "60542b6d",
   "metadata": {},
   "outputs": [],
   "source": [
    "s=re.compile(r'^[A-Z][a-z]*(\\s)(Watanabe)$')"
   ]
  },
  {
   "cell_type": "code",
   "execution_count": 471,
   "id": "9e90e9f8",
   "metadata": {},
   "outputs": [
    {
     "data": {
      "text/plain": [
       "True"
      ]
     },
     "execution_count": 471,
     "metadata": {},
     "output_type": "execute_result"
    }
   ],
   "source": [
    "s.search('RoBoCop watanabe')==None"
   ]
  },
  {
   "cell_type": "code",
   "execution_count": 339,
   "id": "9c0cdfe5",
   "metadata": {},
   "outputs": [
    {
     "data": {
      "text/plain": [
       "re.compile(r'^\\w', re.UNICODE)"
      ]
     },
     "execution_count": 339,
     "metadata": {},
     "output_type": "execute_result"
    }
   ],
   "source": [
    "s"
   ]
  },
  {
   "cell_type": "code",
   "execution_count": null,
   "id": "788ff9b0",
   "metadata": {},
   "outputs": [],
   "source": [
    "22. How would you write a regex that matches a sentence where the first word is either Alice, Bob, or Carol;\n",
    "the second word is either eats, pets, or throws; the third word is apples, cats, or baseballs; and \n",
    "the sentence ends with a period? This regex should be case-insensitive. It must match the following:\n",
    "'Alice eats apples.'\n",
    "'Bob pets cats.'\n",
    "'Carol throws baseballs.'\n",
    "'Alice throws Apples.'\n",
    "'BOB EATS CATS.'\n",
    "but not the following:\n",
    "'RoboCop eats apples.'\n",
    "'ALICE THROWS FOOTBALLS.'\n",
    "'Carol eats 7 cats.'\n"
   ]
  },
  {
   "cell_type": "code",
   "execution_count": null,
   "id": "feba06de",
   "metadata": {},
   "outputs": [],
   "source": []
  },
  {
   "cell_type": "code",
   "execution_count": 525,
   "id": "9512f53f",
   "metadata": {},
   "outputs": [],
   "source": [
    "import re"
   ]
  },
  {
   "cell_type": "code",
   "execution_count": 526,
   "id": "fd905a66",
   "metadata": {},
   "outputs": [],
   "source": [
    "s=re.compile(r'(Alice|Bob|Carol)\\s(eats|pets|throws)\\s(apples|cats|baseballs)\\.$',re.IGNORECASE)"
   ]
  },
  {
   "cell_type": "code",
   "execution_count": 527,
   "id": "4a3985a6",
   "metadata": {},
   "outputs": [
    {
     "data": {
      "text/plain": [
       "False"
      ]
     },
     "execution_count": 527,
     "metadata": {},
     "output_type": "execute_result"
    }
   ],
   "source": [
    "s.search('Alice eats apples.')==True"
   ]
  },
  {
   "cell_type": "code",
   "execution_count": 513,
   "id": "90c5df05",
   "metadata": {},
   "outputs": [],
   "source": [
    "import re"
   ]
  },
  {
   "cell_type": "code",
   "execution_count": 514,
   "id": "d32d59f8",
   "metadata": {},
   "outputs": [],
   "source": [
    "ss= re.compile(r'''\n",
    "(Alice|Bob|Carol)        # The names\n",
    "\\s                            # space\n",
    "(eats|pets|throws)      # Words\n",
    "\\s                            # space\n",
    "(apples|cats|baseballs) # nouns\n",
    "\\.                            # period\n",
    "''', re.VERBOSE|re.I)"
   ]
  },
  {
   "cell_type": "code",
   "execution_count": 533,
   "id": "e6d47963",
   "metadata": {},
   "outputs": [],
   "source": [
    "ss.search('Bob pets cats')"
   ]
  },
  {
   "cell_type": "code",
   "execution_count": null,
   "id": "910f0033",
   "metadata": {},
   "outputs": [],
   "source": []
  }
 ],
 "metadata": {
  "kernelspec": {
   "display_name": "Python 3",
   "language": "python",
   "name": "python3"
  },
  "language_info": {
   "codemirror_mode": {
    "name": "ipython",
    "version": 3
   },
   "file_extension": ".py",
   "mimetype": "text/x-python",
   "name": "python",
   "nbconvert_exporter": "python",
   "pygments_lexer": "ipython3",
   "version": "3.8.8"
  }
 },
 "nbformat": 4,
 "nbformat_minor": 5
}
