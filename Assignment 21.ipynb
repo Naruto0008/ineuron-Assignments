{
 "cells": [
  {
   "cell_type": "code",
   "execution_count": null,
   "id": "1663a30f",
   "metadata": {},
   "outputs": [],
   "source": [
    "1. Add the current date to the text file today.txt as a string.\n",
    "2. Read the text file today.txt into the string today_string\n",
    "3. Parse the date from today_string.\n",
    "4. List the files in your current directory\n",
    "5. Create a list of all of the files in your parent directory (minimum five files should be available).\n",
    "6. Use multiprocessing to create three separate processes. \n",
    "Make each one wait a random number of seconds between one and five, print the current time, and then exit.\n",
    "7. Create a date object of your day of birth.\n",
    "8. What day of the week was your day of birth?\n",
    "9. When will you be (or when were you) 10,000 days old?\n"
   ]
  },
  {
   "cell_type": "code",
   "execution_count": null,
   "id": "9d01f00a",
   "metadata": {},
   "outputs": [],
   "source": [
    "1. Add the current date to the text file today.txt as a string."
   ]
  },
  {
   "cell_type": "code",
   "execution_count": 32,
   "id": "b7b01898",
   "metadata": {},
   "outputs": [
    {
     "data": {
      "text/plain": [
       "'2022-08-24'"
      ]
     },
     "execution_count": 32,
     "metadata": {},
     "output_type": "execute_result"
    }
   ],
   "source": [
    "import datetime\n",
    "from datetime import date\n",
    "now=date.today()\n",
    "cur_date=now.isoformat()\n",
    "cur_date\n"
   ]
  },
  {
   "cell_type": "code",
   "execution_count": 34,
   "id": "ccf75233",
   "metadata": {},
   "outputs": [],
   "source": [
    "f=open('today.txt','w')\n",
    "r=f.write(cur_date)"
   ]
  },
  {
   "cell_type": "code",
   "execution_count": null,
   "id": "a6ab280a",
   "metadata": {},
   "outputs": [],
   "source": [
    "2. Read the text file today.txt into the string today_string"
   ]
  },
  {
   "cell_type": "code",
   "execution_count": 45,
   "id": "061e9330",
   "metadata": {},
   "outputs": [],
   "source": [
    "f2=open('today.txt','r')\n"
   ]
  },
  {
   "cell_type": "code",
   "execution_count": 46,
   "id": "11f840c6",
   "metadata": {},
   "outputs": [],
   "source": [
    "today_string=f2.read()"
   ]
  },
  {
   "cell_type": "code",
   "execution_count": 47,
   "id": "c9c1b225",
   "metadata": {},
   "outputs": [
    {
     "data": {
      "text/plain": [
       "'2022-08-24'"
      ]
     },
     "execution_count": 47,
     "metadata": {},
     "output_type": "execute_result"
    }
   ],
   "source": [
    "today_string"
   ]
  },
  {
   "cell_type": "code",
   "execution_count": null,
   "id": "4ff72fdd",
   "metadata": {},
   "outputs": [],
   "source": [
    "3. Parse the date from today_string."
   ]
  },
  {
   "cell_type": "code",
   "execution_count": 49,
   "id": "a439b015",
   "metadata": {},
   "outputs": [
    {
     "data": {
      "text/plain": [
       "datetime.datetime(2022, 8, 24, 0, 0)"
      ]
     },
     "execution_count": 49,
     "metadata": {},
     "output_type": "execute_result"
    }
   ],
   "source": [
    "from datetime import date\n",
    "format = '%Y-%m-%d'\n",
    "datetime.strptime(today_string,format)"
   ]
  },
  {
   "cell_type": "code",
   "execution_count": null,
   "id": "cc2d3bbe",
   "metadata": {},
   "outputs": [],
   "source": [
    "4. List the files in your current directory"
   ]
  },
  {
   "cell_type": "code",
   "execution_count": 30,
   "id": "e91f5acf",
   "metadata": {},
   "outputs": [
    {
     "data": {
      "text/plain": [
       "['.android',\n",
       " '.astropy',\n",
       " '.conda',\n",
       " '.condarc',\n",
       " '.continuum',\n",
       " '.gitconfig',\n",
       " '.idlerc',\n",
       " '.ipynb_checkpoints',\n",
       " '.ipython',\n",
       " '.jupyter',\n",
       " '.matplotlib',\n",
       " '.python_history',\n",
       " '.wdc',\n",
       " '.wdm',\n",
       " '07 Functions_Revision (1).ipynb',\n",
       " '3D Objects',\n",
       " 'airline.xls',\n",
       " 'airtravel.csv',\n",
       " 'alcohol.xls',\n",
       " 'anaconda3',\n",
       " 'AppData',\n",
       " 'Application Data',\n",
       " 'assign.py.bak',\n",
       " 'Assignment 1.ipynb',\n",
       " 'Assignment 12.ipynb',\n",
       " 'Assignment 13.ipynb',\n",
       " 'Assignment 14.ipynb',\n",
       " 'Assignment 15.ipynb',\n",
       " 'Assignment 16.ipynb',\n",
       " 'Assignment 17.ipynb',\n",
       " 'Assignment 18.ipynb',\n",
       " 'Assignment 19.ipynb',\n",
       " 'Assignment 2.ipynb',\n",
       " 'Assignment 20.ipynb',\n",
       " 'Assignment 21.ipynb',\n",
       " 'assignment 4.ipynb',\n",
       " 'Assignment 6.ipynb',\n",
       " 'Assignment 7.ipynb',\n",
       " 'Assignment 8.ipynb',\n",
       " 'Assignment 9.ipynb',\n",
       " 'Assignment10.ipynb',\n",
       " 'Assignment11.ipynb',\n",
       " 'Assignment3.ipynb',\n",
       " 'Assignment_11.docx',\n",
       " 'Assignmet 5.ipynb',\n",
       " 'bank',\n",
       " 'bank-additional.zip',\n",
       " 'bokka',\n",
       " 'books.csv',\n",
       " 'books.db',\n",
       " 'books2.csv',\n",
       " 'books2.db',\n",
       " 'bumchik.py',\n",
       " 'business-price-indexes-december-2021-quarter-csv.zip',\n",
       " 'car (1).names',\n",
       " 'car.data',\n",
       " 'car.names',\n",
       " 'collections.py',\n",
       " 'combined.pdf',\n",
       " 'Contacts',\n",
       " 'Cookies',\n",
       " 'day 1.ipynb',\n",
       " 'Die Design Fundamentals (J Paquin, Robert Crowley) (z-lib.org).pdf',\n",
       " 'Documents',\n",
       " 'Downloads',\n",
       " 'Exception handling class 1 (1).ipynb',\n",
       " 'Exception handling class 2 (1).ipynb',\n",
       " 'Favorites',\n",
       " 'file sysetm.ipynb',\n",
       " 'Function and holiday task (1).ipynb',\n",
       " 'Function continued.ipynb',\n",
       " 'Fundamentals of Tool Design, 6th Edition (Evans, John W. Hill, Mark Nee etc.) (z-lib.org).pdf',\n",
       " 'glass (1).data',\n",
       " 'glass(1).data',\n",
       " 'Handbook of Die Design (Ivana Suchy) (z-lib.org).pdf',\n",
       " 'IntelGraphicsProfiles',\n",
       " 'iterator generator.ipynb',\n",
       " 'Jigs and Fixtures Design Manual (Prakash Joshi) (z-lib.org).pdf',\n",
       " 'Jigs and Fixtures Design Manual (Prakash Joshi) (z-lib.org)_protected (1).pdf',\n",
       " 'jobdb.db',\n",
       " 'kalyan.jpg',\n",
       " 'Links',\n",
       " 'Local Settings',\n",
       " 'logging (1) (1).ipynb',\n",
       " 'logging (1).ipynb',\n",
       " 'MicrosoftEdgeBackups',\n",
       " 'Music',\n",
       " 'My Documents',\n",
       " 'mydict.py',\n",
       " 'mydict.py.bak',\n",
       " 'mydicto',\n",
       " 'mydicto.bak',\n",
       " 'mym.py',\n",
       " 'mym.py.bak',\n",
       " 'myownproject',\n",
       " 'NetHood',\n",
       " 'New folder',\n",
       " 'New folder (2)',\n",
       " 'new1.py',\n",
       " 'neww',\n",
       " 'newy',\n",
       " 'NTUSER.DAT',\n",
       " 'ntuser.dat.LOG1',\n",
       " 'ntuser.dat.LOG2',\n",
       " 'NTUSER.DAT{5ca571a4-b0ad-11eb-b5a7-f7e952eab096}.TxR.0.regtrans-ms',\n",
       " 'NTUSER.DAT{5ca571a4-b0ad-11eb-b5a7-f7e952eab096}.TxR.1.regtrans-ms',\n",
       " 'NTUSER.DAT{5ca571a4-b0ad-11eb-b5a7-f7e952eab096}.TxR.2.regtrans-ms',\n",
       " 'NTUSER.DAT{5ca571a4-b0ad-11eb-b5a7-f7e952eab096}.TxR.blf',\n",
       " 'NTUSER.DAT{5ca571a5-b0ad-11eb-b5a7-f7e952eab096}.TM.blf',\n",
       " 'NTUSER.DAT{5ca571a5-b0ad-11eb-b5a7-f7e952eab096}.TMContainer00000000000000000001.regtrans-ms',\n",
       " 'NTUSER.DAT{5ca571a5-b0ad-11eb-b5a7-f7e952eab096}.TMContainer00000000000000000002.regtrans-ms',\n",
       " 'ntuser.ini',\n",
       " 'OneDrive',\n",
       " 'oops 29th .ipynb',\n",
       " 'oops 30th.ipynb',\n",
       " 'oops class 1.ipynb',\n",
       " 'os and commands.ipynb',\n",
       " 'pandas class 3.ipynb',\n",
       " 'pandas day 2.ipynb',\n",
       " 'Pandas.ipynb',\n",
       " 'person.db',\n",
       " 'pop.db',\n",
       " 'Postman',\n",
       " 'pp.pdf',\n",
       " 'practice problem python basic (1).ipynb',\n",
       " 'PrintHood',\n",
       " 'Python basic (3).ipynb',\n",
       " 'pythonProject',\n",
       " 'quickweather.py.ipynb',\n",
       " 'Recent',\n",
       " 'Saved Games',\n",
       " 'Searches',\n",
       " 'SendTo',\n",
       " 'spam.py',\n",
       " 'spam.py.bak',\n",
       " 'SQL basic .ipynb',\n",
       " 'sql day 2 .ipynb',\n",
       " 'SQLLITE ,map ,reduce ,filter,zip.ipynb',\n",
       " 'Start Menu',\n",
       " 'swm.pem',\n",
       " 'Templates',\n",
       " 'test.log',\n",
       " 'test.txt',\n",
       " 'test1.py',\n",
       " 'test2.log',\n",
       " 'test2.py',\n",
       " 'test2.py.bak',\n",
       " 'test3.log',\n",
       " 'test4',\n",
       " 'test4.log',\n",
       " 'today.txt',\n",
       " 'Untitled.ipynb',\n",
       " 'Untitled1.ipynb',\n",
       " 'Untitled10.ipynb',\n",
       " 'Untitled11.ipynb',\n",
       " 'Untitled12.ipynb',\n",
       " 'Untitled13.ipynb',\n",
       " 'Untitled14.ipynb',\n",
       " 'Untitled15.ipynb',\n",
       " 'Untitled16.ipynb',\n",
       " 'Untitled17.ipynb',\n",
       " 'Untitled18.ipynb',\n",
       " 'Untitled19.ipynb',\n",
       " 'Untitled2.ipynb',\n",
       " 'Untitled20.ipynb',\n",
       " 'Untitled21.ipynb',\n",
       " 'Untitled22.ipynb',\n",
       " 'Untitled23.ipynb',\n",
       " 'Untitled24.ipynb',\n",
       " 'Untitled25.ipynb',\n",
       " 'Untitled26.ipynb',\n",
       " 'Untitled27.ipynb',\n",
       " 'Untitled28.ipynb',\n",
       " 'Untitled29.ipynb',\n",
       " 'Untitled3.ipynb',\n",
       " 'Untitled30.ipynb',\n",
       " 'Untitled31.ipynb',\n",
       " 'Untitled32.ipynb',\n",
       " 'Untitled33.ipynb',\n",
       " 'Untitled34.ipynb',\n",
       " 'Untitled35.ipynb',\n",
       " 'Untitled36.ipynb',\n",
       " 'Untitled37.ipynb',\n",
       " 'Untitled38.ipynb',\n",
       " 'Untitled39.ipynb',\n",
       " 'Untitled4.ipynb',\n",
       " 'Untitled40.ipynb',\n",
       " 'Untitled41.ipynb',\n",
       " 'Untitled42.ipynb',\n",
       " 'Untitled43.ipynb',\n",
       " 'Untitled44.ipynb',\n",
       " 'Untitled45.ipynb',\n",
       " 'Untitled5.ipynb',\n",
       " 'Untitled6.ipynb',\n",
       " 'Untitled7.ipynb',\n",
       " 'Untitled8.ipynb',\n",
       " 'Untitled9.ipynb',\n",
       " 'upp',\n",
       " 'Videos',\n",
       " 'WLSCompanion',\n",
       " 'zoo.py',\n",
       " '__pycache__']"
      ]
     },
     "execution_count": 30,
     "metadata": {},
     "output_type": "execute_result"
    }
   ],
   "source": [
    "import os\n",
    "os.listdir('.')"
   ]
  },
  {
   "cell_type": "code",
   "execution_count": null,
   "id": "85e062a8",
   "metadata": {},
   "outputs": [],
   "source": [
    "5. Create a list of all of the files in your parent directory (minimum five files should be available)."
   ]
  },
  {
   "cell_type": "code",
   "execution_count": 53,
   "id": "a6437de7",
   "metadata": {},
   "outputs": [],
   "source": [
    "import os\n",
    "x=os.listdir('.')\n",
    "ls=[]\n",
    "for i in x:\n",
    "    ls.append(i)"
   ]
  },
  {
   "cell_type": "code",
   "execution_count": 56,
   "id": "a6b5a1df",
   "metadata": {},
   "outputs": [
    {
     "data": {
      "text/plain": [
       "['.android',\n",
       " '.astropy',\n",
       " '.conda',\n",
       " '.condarc',\n",
       " '.continuum',\n",
       " '.gitconfig',\n",
       " '.idlerc',\n",
       " '.ipynb_checkpoints',\n",
       " '.ipython',\n",
       " '.jupyter',\n",
       " '.matplotlib',\n",
       " '.python_history',\n",
       " '.wdc',\n",
       " '.wdm',\n",
       " '07 Functions_Revision (1).ipynb',\n",
       " '3D Objects',\n",
       " 'airline.xls',\n",
       " 'airtravel.csv',\n",
       " 'alcohol.xls',\n",
       " 'anaconda3',\n",
       " 'AppData',\n",
       " 'Application Data',\n",
       " 'assign.py.bak',\n",
       " 'Assignment 1.ipynb',\n",
       " 'Assignment 12.ipynb',\n",
       " 'Assignment 13.ipynb',\n",
       " 'Assignment 14.ipynb',\n",
       " 'Assignment 15.ipynb',\n",
       " 'Assignment 16.ipynb',\n",
       " 'Assignment 17.ipynb',\n",
       " 'Assignment 18.ipynb',\n",
       " 'Assignment 19.ipynb',\n",
       " 'Assignment 2.ipynb',\n",
       " 'Assignment 20.ipynb',\n",
       " 'Assignment 21.ipynb',\n",
       " 'assignment 4.ipynb',\n",
       " 'Assignment 6.ipynb',\n",
       " 'Assignment 7.ipynb',\n",
       " 'Assignment 8.ipynb',\n",
       " 'Assignment 9.ipynb',\n",
       " 'Assignment10.ipynb',\n",
       " 'Assignment11.ipynb',\n",
       " 'Assignment3.ipynb',\n",
       " 'Assignment_11.docx',\n",
       " 'Assignmet 5.ipynb',\n",
       " 'bank',\n",
       " 'bank-additional.zip',\n",
       " 'bokka',\n",
       " 'books.csv',\n",
       " 'books.db',\n",
       " 'books2.csv',\n",
       " 'books2.db',\n",
       " 'bumchik.py',\n",
       " 'business-price-indexes-december-2021-quarter-csv.zip',\n",
       " 'car (1).names',\n",
       " 'car.data',\n",
       " 'car.names',\n",
       " 'collections.py',\n",
       " 'combined.pdf',\n",
       " 'Contacts',\n",
       " 'Cookies',\n",
       " 'day 1.ipynb',\n",
       " 'Die Design Fundamentals (J Paquin, Robert Crowley) (z-lib.org).pdf',\n",
       " 'Documents',\n",
       " 'Downloads',\n",
       " 'Exception handling class 1 (1).ipynb',\n",
       " 'Exception handling class 2 (1).ipynb',\n",
       " 'Favorites',\n",
       " 'file sysetm.ipynb',\n",
       " 'Function and holiday task (1).ipynb',\n",
       " 'Function continued.ipynb',\n",
       " 'Fundamentals of Tool Design, 6th Edition (Evans, John W. Hill, Mark Nee etc.) (z-lib.org).pdf',\n",
       " 'glass (1).data',\n",
       " 'glass(1).data',\n",
       " 'Handbook of Die Design (Ivana Suchy) (z-lib.org).pdf',\n",
       " 'IntelGraphicsProfiles',\n",
       " 'iterator generator.ipynb',\n",
       " 'Jigs and Fixtures Design Manual (Prakash Joshi) (z-lib.org).pdf',\n",
       " 'Jigs and Fixtures Design Manual (Prakash Joshi) (z-lib.org)_protected (1).pdf',\n",
       " 'jobdb.db',\n",
       " 'kalyan.jpg',\n",
       " 'Links',\n",
       " 'Local Settings',\n",
       " 'logging (1) (1).ipynb',\n",
       " 'logging (1).ipynb',\n",
       " 'MicrosoftEdgeBackups',\n",
       " 'Music',\n",
       " 'My Documents',\n",
       " 'mydict.py',\n",
       " 'mydict.py.bak',\n",
       " 'mydicto',\n",
       " 'mydicto.bak',\n",
       " 'mym.py',\n",
       " 'mym.py.bak',\n",
       " 'myownproject',\n",
       " 'NetHood',\n",
       " 'New folder',\n",
       " 'New folder (2)',\n",
       " 'new1.py',\n",
       " 'neww',\n",
       " 'newy',\n",
       " 'NTUSER.DAT',\n",
       " 'ntuser.dat.LOG1',\n",
       " 'ntuser.dat.LOG2',\n",
       " 'NTUSER.DAT{5ca571a4-b0ad-11eb-b5a7-f7e952eab096}.TxR.0.regtrans-ms',\n",
       " 'NTUSER.DAT{5ca571a4-b0ad-11eb-b5a7-f7e952eab096}.TxR.1.regtrans-ms',\n",
       " 'NTUSER.DAT{5ca571a4-b0ad-11eb-b5a7-f7e952eab096}.TxR.2.regtrans-ms',\n",
       " 'NTUSER.DAT{5ca571a4-b0ad-11eb-b5a7-f7e952eab096}.TxR.blf',\n",
       " 'NTUSER.DAT{5ca571a5-b0ad-11eb-b5a7-f7e952eab096}.TM.blf',\n",
       " 'NTUSER.DAT{5ca571a5-b0ad-11eb-b5a7-f7e952eab096}.TMContainer00000000000000000001.regtrans-ms',\n",
       " 'NTUSER.DAT{5ca571a5-b0ad-11eb-b5a7-f7e952eab096}.TMContainer00000000000000000002.regtrans-ms',\n",
       " 'ntuser.ini',\n",
       " 'OneDrive',\n",
       " 'oops 29th .ipynb',\n",
       " 'oops 30th.ipynb',\n",
       " 'oops class 1.ipynb',\n",
       " 'os and commands.ipynb',\n",
       " 'pandas class 3.ipynb',\n",
       " 'pandas day 2.ipynb',\n",
       " 'Pandas.ipynb',\n",
       " 'person.db',\n",
       " 'pop.db',\n",
       " 'Postman',\n",
       " 'pp.pdf',\n",
       " 'practice problem python basic (1).ipynb',\n",
       " 'PrintHood',\n",
       " 'Python basic (3).ipynb',\n",
       " 'pythonProject',\n",
       " 'quickweather.py.ipynb',\n",
       " 'Recent',\n",
       " 'Saved Games',\n",
       " 'Searches',\n",
       " 'SendTo',\n",
       " 'spam.py',\n",
       " 'spam.py.bak',\n",
       " 'SQL basic .ipynb',\n",
       " 'sql day 2 .ipynb',\n",
       " 'SQLLITE ,map ,reduce ,filter,zip.ipynb',\n",
       " 'Start Menu',\n",
       " 'swm.pem',\n",
       " 'Templates',\n",
       " 'test.log',\n",
       " 'test.txt',\n",
       " 'test1.py',\n",
       " 'test2.log',\n",
       " 'test2.py',\n",
       " 'test2.py.bak',\n",
       " 'test3.log',\n",
       " 'test4',\n",
       " 'test4.log',\n",
       " 'today.txt',\n",
       " 'Untitled.ipynb',\n",
       " 'Untitled1.ipynb',\n",
       " 'Untitled10.ipynb',\n",
       " 'Untitled11.ipynb',\n",
       " 'Untitled12.ipynb',\n",
       " 'Untitled13.ipynb',\n",
       " 'Untitled14.ipynb',\n",
       " 'Untitled15.ipynb',\n",
       " 'Untitled16.ipynb',\n",
       " 'Untitled17.ipynb',\n",
       " 'Untitled18.ipynb',\n",
       " 'Untitled19.ipynb',\n",
       " 'Untitled2.ipynb',\n",
       " 'Untitled20.ipynb',\n",
       " 'Untitled21.ipynb',\n",
       " 'Untitled22.ipynb',\n",
       " 'Untitled23.ipynb',\n",
       " 'Untitled24.ipynb',\n",
       " 'Untitled25.ipynb',\n",
       " 'Untitled26.ipynb',\n",
       " 'Untitled27.ipynb',\n",
       " 'Untitled28.ipynb',\n",
       " 'Untitled29.ipynb',\n",
       " 'Untitled3.ipynb',\n",
       " 'Untitled30.ipynb',\n",
       " 'Untitled31.ipynb',\n",
       " 'Untitled32.ipynb',\n",
       " 'Untitled33.ipynb',\n",
       " 'Untitled34.ipynb',\n",
       " 'Untitled35.ipynb',\n",
       " 'Untitled36.ipynb',\n",
       " 'Untitled37.ipynb',\n",
       " 'Untitled38.ipynb',\n",
       " 'Untitled39.ipynb',\n",
       " 'Untitled4.ipynb',\n",
       " 'Untitled40.ipynb',\n",
       " 'Untitled41.ipynb',\n",
       " 'Untitled42.ipynb',\n",
       " 'Untitled43.ipynb',\n",
       " 'Untitled44.ipynb',\n",
       " 'Untitled45.ipynb',\n",
       " 'Untitled5.ipynb',\n",
       " 'Untitled6.ipynb',\n",
       " 'Untitled7.ipynb',\n",
       " 'Untitled8.ipynb',\n",
       " 'Untitled9.ipynb',\n",
       " 'upp',\n",
       " 'Videos',\n",
       " 'WLSCompanion',\n",
       " 'zoo.py',\n",
       " '__pycache__']"
      ]
     },
     "execution_count": 56,
     "metadata": {},
     "output_type": "execute_result"
    }
   ],
   "source": [
    "ls"
   ]
  },
  {
   "cell_type": "code",
   "execution_count": 55,
   "id": "f79cc342",
   "metadata": {},
   "outputs": [
    {
     "data": {
      "text/plain": [
       "list"
      ]
     },
     "execution_count": 55,
     "metadata": {},
     "output_type": "execute_result"
    }
   ],
   "source": [
    "type(ls)"
   ]
  },
  {
   "cell_type": "code",
   "execution_count": null,
   "id": "be6878a3",
   "metadata": {},
   "outputs": [],
   "source": [
    "6. Use multiprocessing to create three separate processes.\n",
    "Make each one wait a random number of seconds between one and five, print the current time, and then exit."
   ]
  },
  {
   "cell_type": "code",
   "execution_count": 10,
   "id": "6bbe2c9f",
   "metadata": {},
   "outputs": [
    {
     "name": "stdout",
     "output_type": "stream",
     "text": [
      "done\n",
      "done\n",
      "done\n"
     ]
    }
   ],
   "source": [
    "import multiprocessing\n",
    "def process1():\n",
    "    print('bumchik')\n",
    "def process2():\n",
    "    print('two')\n",
    "def process3():\n",
    "    print('tree')\n",
    "def printsec(seconds):\n",
    "    from datetime import datetime\n",
    "    from time import sleep\n",
    "    sleep(seconds)\n",
    "    print('wait',seconds,'secods,time is',datetime.utcnow())\n",
    "if __name__=='__main__':\n",
    "    import random\n",
    "    for n in range(3):\n",
    "        seconds = random.random()\n",
    "        proc = multiprocessing.Process(target=printsec, args=(seconds,))\n",
    "        p1 = multiprocessing.Process(target=process1, args=(10, ))\n",
    "        p2 = multiprocessing.Process(target=process2, args=(10, ))\n",
    "        p3 = multiprocessing.Process(target=process3, args=(10, ))\n",
    "\n",
    "        p1.start()\n",
    "        p2.start()\n",
    "        p3.start()\n",
    "        proc.start()\n",
    "        \n",
    "        p1.join()\n",
    "        p2.join()\n",
    "        p3.join()\n",
    "        proc.join()\n",
    "        \n",
    "        print(\"done\")"
   ]
  },
  {
   "cell_type": "code",
   "execution_count": null,
   "id": "18777743",
   "metadata": {},
   "outputs": [],
   "source": [
    "7. Create a date object of your day of birth."
   ]
  },
  {
   "cell_type": "code",
   "execution_count": 59,
   "id": "1a2af992",
   "metadata": {},
   "outputs": [],
   "source": [
    "mydob=date(1996,11,24)"
   ]
  },
  {
   "cell_type": "code",
   "execution_count": 60,
   "id": "8563c352",
   "metadata": {},
   "outputs": [
    {
     "data": {
      "text/plain": [
       "datetime.date(1996, 11, 24)"
      ]
     },
     "execution_count": 60,
     "metadata": {},
     "output_type": "execute_result"
    }
   ],
   "source": [
    "mydob"
   ]
  },
  {
   "cell_type": "code",
   "execution_count": null,
   "id": "cbb84dbb",
   "metadata": {},
   "outputs": [],
   "source": [
    "8. What day of the week was your day of birth?"
   ]
  },
  {
   "cell_type": "code",
   "execution_count": 61,
   "id": "e4dcbecd",
   "metadata": {},
   "outputs": [
    {
     "data": {
      "text/plain": [
       "6"
      ]
     },
     "execution_count": 61,
     "metadata": {},
     "output_type": "execute_result"
    }
   ],
   "source": [
    "mydob.weekday()"
   ]
  },
  {
   "cell_type": "code",
   "execution_count": null,
   "id": "2a94e262",
   "metadata": {},
   "outputs": [],
   "source": [
    "9. When will you be (or when were you) 10,000 days old?"
   ]
  },
  {
   "cell_type": "code",
   "execution_count": 63,
   "id": "174e7d45",
   "metadata": {},
   "outputs": [],
   "source": [
    "from datetime import timedelta\n",
    "dob10000=mydob+timedelta(days=10000)"
   ]
  },
  {
   "cell_type": "code",
   "execution_count": 64,
   "id": "80f787fb",
   "metadata": {},
   "outputs": [
    {
     "data": {
      "text/plain": [
       "datetime.date(2024, 4, 11)"
      ]
     },
     "execution_count": 64,
     "metadata": {},
     "output_type": "execute_result"
    }
   ],
   "source": [
    "dob10000"
   ]
  },
  {
   "cell_type": "code",
   "execution_count": null,
   "id": "1aedf1dc",
   "metadata": {},
   "outputs": [],
   "source": []
  }
 ],
 "metadata": {
  "kernelspec": {
   "display_name": "Python 3",
   "language": "python",
   "name": "python3"
  },
  "language_info": {
   "codemirror_mode": {
    "name": "ipython",
    "version": 3
   },
   "file_extension": ".py",
   "mimetype": "text/x-python",
   "name": "python",
   "nbconvert_exporter": "python",
   "pygments_lexer": "ipython3",
   "version": "3.8.8"
  }
 },
 "nbformat": 4,
 "nbformat_minor": 5
}
