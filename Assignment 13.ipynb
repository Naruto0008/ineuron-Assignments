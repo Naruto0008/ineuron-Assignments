{
 "cells": [
  {
   "cell_type": "code",
   "execution_count": null,
   "id": "386de020",
   "metadata": {},
   "outputs": [],
   "source": [
    "1. What advantages do Excel spreadsheets have over CSV spreadsheets?\n",
    "2.What do you pass to csv.reader() and csv.writer() to create reader and writer objects?\n",
    "3. What modes do File objects for reader and writer objects need to be opened in?\n",
    "4. What method takes a list argument and writes it to a CSV file?\n",
    "5. What do the keyword arguments delimiter and line terminator do?\n",
    "6. What function takes a string of JSON data and returns a Python data structure?\n",
    "7. What function takes a Python data structure and returns a string of JSON data?\n"
   ]
  },
  {
   "cell_type": "code",
   "execution_count": null,
   "id": "579659da",
   "metadata": {},
   "outputs": [],
   "source": [
    "1. What advantages do Excel spreadsheets have over CSV spreadsheets?"
   ]
  },
  {
   "cell_type": "code",
   "execution_count": null,
   "id": "e33dac9c",
   "metadata": {},
   "outputs": [],
   "source": [
    "in case of excel spreadsheets, the elements inside it can be of any data type(string,int,float),and they can have their own\n",
    "font sizes,styles,cell widths,can have images or merged cells. But,csv spreadsheets are devoid of this,all the values in csv\n",
    "are strings seperated by a comma "
   ]
  },
  {
   "cell_type": "code",
   "execution_count": null,
   "id": "71e5f818",
   "metadata": {},
   "outputs": [],
   "source": [
    "2.What do you pass to csv.reader() and csv.writer() to create reader and writer objects?\n"
   ]
  },
  {
   "cell_type": "code",
   "execution_count": null,
   "id": "1273d76a",
   "metadata": {},
   "outputs": [],
   "source": [
    "open('name.csv','function') name of csv file and operation as in read or write needs to be passed to the reader,writer objects"
   ]
  },
  {
   "cell_type": "code",
   "execution_count": 4,
   "id": "f2c1cabd",
   "metadata": {},
   "outputs": [
    {
     "data": {
      "text/plain": [
       "[['Month', ' \"1958\"', ' \"1959\"', ' \"1960\"'],\n",
       " ['JAN', '  340', '  360', '  417'],\n",
       " ['FEB', '  318', '  342', '  391'],\n",
       " ['MAR', '  362', '  406', '  419'],\n",
       " ['APR', '  348', '  396', '  461'],\n",
       " ['MAY', '  363', '  420', '  472'],\n",
       " ['JUN', '  435', '  472', '  535'],\n",
       " ['JUL', '  491', '  548', '  622'],\n",
       " ['AUG', '  505', '  559', '  606'],\n",
       " ['SEP', '  404', '  463', '  508'],\n",
       " ['OCT', '  359', '  407', '  461'],\n",
       " ['NOV', '  310', '  362', '  390'],\n",
       " ['DEC', '  337', '  405', '  432'],\n",
       " []]"
      ]
     },
     "execution_count": 4,
     "metadata": {},
     "output_type": "execute_result"
    }
   ],
   "source": [
    "import csv\n",
    "f=open('airtravel.csv')\n",
    "pf=csv.reader(f)\n",
    "pf2=list(pf)\n",
    "pf2"
   ]
  },
  {
   "cell_type": "code",
   "execution_count": 5,
   "id": "9b70c61f",
   "metadata": {},
   "outputs": [
    {
     "data": {
      "text/plain": [
       "' \"1959\"'"
      ]
     },
     "execution_count": 5,
     "metadata": {},
     "output_type": "execute_result"
    }
   ],
   "source": [
    "pf2[0][2]"
   ]
  },
  {
   "cell_type": "code",
   "execution_count": 39,
   "id": "6b43966d",
   "metadata": {},
   "outputs": [
    {
     "data": {
      "text/plain": [
       "15"
      ]
     },
     "execution_count": 39,
     "metadata": {},
     "output_type": "execute_result"
    }
   ],
   "source": [
    "import csv\n",
    "f=open('airtravel.csv','w',newline='')\n",
    "df=csv.writer(f)\n",
    "df.writerow(['ss','22' ,'33', '55'])\n",
    "df.writerow(['ss','22s' ,'333', '55'])"
   ]
  },
  {
   "cell_type": "code",
   "execution_count": 38,
   "id": "4cca9bd8",
   "metadata": {},
   "outputs": [
    {
     "data": {
      "text/plain": [
       "[['ss', '22', '33', '55'], ['ss', '22s', '333', '55']]"
      ]
     },
     "execution_count": 38,
     "metadata": {},
     "output_type": "execute_result"
    }
   ],
   "source": [
    "df2=csv.reader(f)\n",
    "df3=list(df2)\n",
    "df3"
   ]
  },
  {
   "cell_type": "code",
   "execution_count": null,
   "id": "01bc9c95",
   "metadata": {},
   "outputs": [],
   "source": [
    "3. What modes do File objects for reader and writer objects need to be opened in?"
   ]
  },
  {
   "cell_type": "code",
   "execution_count": null,
   "id": "5ad28160",
   "metadata": {},
   "outputs": [],
   "source": [
    "if the file is a pdf,then the modes are rb,wb. But, for csv files, the modes are 'r','w'"
   ]
  },
  {
   "cell_type": "code",
   "execution_count": null,
   "id": "e72c7e6b",
   "metadata": {},
   "outputs": [],
   "source": [
    "4. What method takes a list argument and writes it to a CSV file?"
   ]
  },
  {
   "cell_type": "code",
   "execution_count": null,
   "id": "f2032ec0",
   "metadata": {},
   "outputs": [],
   "source": [
    "import csv\n",
    "f=open('airtravel.csv','w',newline='')\n",
    "df=csv.writer(f)\n",
    "df.writerow(['ss','22' ,'33', '55'])\n",
    "df.writerow(['ss','22s' ,'333', '55'])"
   ]
  },
  {
   "cell_type": "code",
   "execution_count": null,
   "id": "0d2b726d",
   "metadata": {},
   "outputs": [],
   "source": [
    "writerow is a method that takes list argument and writes it to a csv file"
   ]
  },
  {
   "cell_type": "code",
   "execution_count": null,
   "id": "b200440c",
   "metadata": {},
   "outputs": [],
   "source": [
    "5. What do the keyword arguments delimiter and line terminator do?"
   ]
  },
  {
   "cell_type": "code",
   "execution_count": null,
   "id": "752b0e17",
   "metadata": {},
   "outputs": [],
   "source": [
    "in csv files,the default delimiter is comma. delimiter usually occurs between cells in a row seperating the variables\n",
    "Line terminator is a character that comes at the end of row "
   ]
  },
  {
   "cell_type": "code",
   "execution_count": null,
   "id": "9c777643",
   "metadata": {},
   "outputs": [],
   "source": [
    "6. What function takes a string of JSON data and returns a Python data structure?"
   ]
  },
  {
   "cell_type": "code",
   "execution_count": null,
   "id": "f19e4cbc",
   "metadata": {},
   "outputs": [],
   "source": [
    "json.loads() function takes a string of JSON data and returns a python data structure"
   ]
  },
  {
   "cell_type": "code",
   "execution_count": null,
   "id": "1cedc1ee",
   "metadata": {},
   "outputs": [],
   "source": [
    "7. What function takes a Python data structure and returns a string of JSON data?"
   ]
  },
  {
   "cell_type": "code",
   "execution_count": null,
   "id": "da8a6dec",
   "metadata": {},
   "outputs": [],
   "source": [
    "json.dumps() takes python data structure and returns JSON data"
   ]
  }
 ],
 "metadata": {
  "kernelspec": {
   "display_name": "Python 3",
   "language": "python",
   "name": "python3"
  },
  "language_info": {
   "codemirror_mode": {
    "name": "ipython",
    "version": 3
   },
   "file_extension": ".py",
   "mimetype": "text/x-python",
   "name": "python",
   "nbconvert_exporter": "python",
   "pygments_lexer": "ipython3",
   "version": "3.8.8"
  }
 },
 "nbformat": 4,
 "nbformat_minor": 5
}
