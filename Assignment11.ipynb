{
 "cells": [
  {
   "cell_type": "code",
   "execution_count": null,
   "id": "9bf4bd1e",
   "metadata": {},
   "outputs": [],
   "source": [
    "1. Create an assert statement that throws an AssertionError if the variable spam is a negative integer.\n",
    "2. Write an assert statement that triggers an AssertionError if the variables eggs and bacon contain \n",
    "strings that are the same as each other, even if their cases are different \n",
    "(that is, 'hello' and 'hello' are considered the same, and 'goodbye' and 'GOODbye' are also considered the same).\n",
    "3. Create an assert statement that throws an AssertionError every time.\n",
    "4. What are the two lines that must be present in your software in order to call logging.debug()?\n",
    "5. What are the two lines that your program must have in order to have logging.debug() \n",
    "send a logging message to a file named programLog.txt?\n",
    "6. What are the five levels of logging?\n",
    "7. What line of code would you add to your software to disable all logging messages?\n",
    "8.Why is using logging messages better than using print() to display the same message?\n",
    "9. What are the differences between the Step Over, Step In, and Step Out buttons in the debugger?\n",
    "10.After you click Continue, when will the debugger stop ?\n",
    "11. What is the concept of a breakpoint?\n"
   ]
  },
  {
   "cell_type": "code",
   "execution_count": null,
   "id": "2c9ddb8b",
   "metadata": {},
   "outputs": [],
   "source": [
    "1. Create an assert statement that throws an AssertionError if the variable spam is a negative integer."
   ]
  },
  {
   "cell_type": "code",
   "execution_count": 63,
   "id": "882bf851",
   "metadata": {},
   "outputs": [],
   "source": [
    "spam=-1"
   ]
  },
  {
   "cell_type": "code",
   "execution_count": 64,
   "id": "5c4f3e75",
   "metadata": {},
   "outputs": [
    {
     "ename": "AssertionError",
     "evalue": "Assertionerror",
     "output_type": "error",
     "traceback": [
      "\u001b[1;31m---------------------------------------------------------------------------\u001b[0m",
      "\u001b[1;31mAssertionError\u001b[0m                            Traceback (most recent call last)",
      "\u001b[1;32m<ipython-input-64-6ce5e1ed095f>\u001b[0m in \u001b[0;36m<module>\u001b[1;34m\u001b[0m\n\u001b[1;32m----> 1\u001b[1;33m \u001b[1;32massert\u001b[0m \u001b[0mspam\u001b[0m\u001b[1;33m>=\u001b[0m\u001b[1;36m0\u001b[0m\u001b[1;33m,\u001b[0m\u001b[1;34m\"Assertionerror\"\u001b[0m\u001b[1;33m\u001b[0m\u001b[1;33m\u001b[0m\u001b[0m\n\u001b[0m",
      "\u001b[1;31mAssertionError\u001b[0m: Assertionerror"
     ]
    }
   ],
   "source": [
    "assert spam>=0,\"Assertionerror\"\n"
   ]
  },
  {
   "cell_type": "code",
   "execution_count": null,
   "id": "136ad8f5",
   "metadata": {},
   "outputs": [],
   "source": [
    "2. Write an assert statement that triggers an AssertionError if the variables eggs and bacon contain \n",
    "strings that are the same as each other, even if their cases are different \n",
    "(that is, 'hello' and 'hello' are considered the same, and 'goodbye' and 'GOODbye' are also considered the same)."
   ]
  },
  {
   "cell_type": "code",
   "execution_count": 111,
   "id": "f80b38d5",
   "metadata": {},
   "outputs": [],
   "source": [
    "eggs=\"kalyan\"\n",
    "bacon=\"pintu\""
   ]
  },
  {
   "cell_type": "code",
   "execution_count": 123,
   "id": "c489f054",
   "metadata": {},
   "outputs": [
    {
     "ename": "SyntaxError",
     "evalue": "invalid syntax (<ipython-input-123-c95d916f0290>, line 1)",
     "output_type": "error",
     "traceback": [
      "\u001b[1;36m  File \u001b[1;32m\"<ipython-input-123-c95d916f0290>\"\u001b[1;36m, line \u001b[1;32m1\u001b[0m\n\u001b[1;33m    assert(eggs.lower() != bacon.lower(),'eggs and bacon are same') and assert(eggs.upper() != bacon.upper(),'eggs and bacon are same')\u001b[0m\n\u001b[1;37m                                                                        ^\u001b[0m\n\u001b[1;31mSyntaxError\u001b[0m\u001b[1;31m:\u001b[0m invalid syntax\n"
     ]
    }
   ],
   "source": [
    "\n",
    "assert(eggs.lower() != bacon.lower(),'eggs and bacon are same') and assert(eggs.upper() != bacon.upper(),'eggs and bacon are same')"
   ]
  },
  {
   "cell_type": "code",
   "execution_count": null,
   "id": "6d0b1d24",
   "metadata": {},
   "outputs": [],
   "source": [
    "or assert(eggs.upper()!=bacon.upper(),'assertionerror')"
   ]
  },
  {
   "cell_type": "code",
   "execution_count": null,
   "id": "3f5594f5",
   "metadata": {},
   "outputs": [],
   "source": [
    "3. Create an assert statement that throws an AssertionError every time."
   ]
  },
  {
   "cell_type": "code",
   "execution_count": 115,
   "id": "e8387ccc",
   "metadata": {},
   "outputs": [
    {
     "ename": "AssertionError",
     "evalue": "This always get triggered",
     "output_type": "error",
     "traceback": [
      "\u001b[1;31m---------------------------------------------------------------------------\u001b[0m",
      "\u001b[1;31mAssertionError\u001b[0m                            Traceback (most recent call last)",
      "\u001b[1;32m<ipython-input-115-9d21a0c7fefa>\u001b[0m in \u001b[0;36m<module>\u001b[1;34m\u001b[0m\n\u001b[1;32m----> 1\u001b[1;33m \u001b[1;32massert\u001b[0m \u001b[1;32mFalse\u001b[0m\u001b[1;33m,\u001b[0m\u001b[1;34m\"This always get triggered\"\u001b[0m\u001b[1;33m\u001b[0m\u001b[1;33m\u001b[0m\u001b[0m\n\u001b[0m",
      "\u001b[1;31mAssertionError\u001b[0m: This always get triggered"
     ]
    }
   ],
   "source": [
    "assert False,\"This always get triggered\""
   ]
  },
  {
   "cell_type": "code",
   "execution_count": null,
   "id": "ddd0eaaf",
   "metadata": {},
   "outputs": [],
   "source": [
    "4. What are the two lines that must be present in your software in order to call logging.debug()?"
   ]
  },
  {
   "cell_type": "code",
   "execution_count": 131,
   "id": "880088d7",
   "metadata": {},
   "outputs": [],
   "source": [
    "import logging\n",
    "logging.basicConfig(level=logging.DEBUG,format='%(asctime)s')"
   ]
  },
  {
   "cell_type": "code",
   "execution_count": null,
   "id": "22c1e3b0",
   "metadata": {},
   "outputs": [],
   "source": [
    "5. What are the two lines that your program must have in order to have logging.debug() \n",
    "send a logging message to a file named programLog.txt?"
   ]
  },
  {
   "cell_type": "code",
   "execution_count": 134,
   "id": "1be982b9",
   "metadata": {},
   "outputs": [],
   "source": [
    "import logging\n",
    "logging.basicConfig(level=logging.DEBUG,filename='programLog.txt',format='%(asctime)s')"
   ]
  },
  {
   "cell_type": "code",
   "execution_count": null,
   "id": "6bea4b90",
   "metadata": {},
   "outputs": [],
   "source": [
    "6. What are the five levels of logging?"
   ]
  },
  {
   "cell_type": "code",
   "execution_count": null,
   "id": "ac351b79",
   "metadata": {},
   "outputs": [],
   "source": [
    "1.DEBUG\n",
    "2.INFO\n",
    "3.WARNING\n",
    "4.ERROR\n",
    "5.CRITICAL"
   ]
  },
  {
   "cell_type": "code",
   "execution_count": null,
   "id": "2a014469",
   "metadata": {},
   "outputs": [],
   "source": [
    "7. What line of code would you add to your software to disable all logging messages?"
   ]
  },
  {
   "cell_type": "code",
   "execution_count": null,
   "id": "4d35d136",
   "metadata": {},
   "outputs": [],
   "source": [
    "logging.disable(logging.CRITICAL)"
   ]
  },
  {
   "cell_type": "code",
   "execution_count": null,
   "id": "762e4289",
   "metadata": {},
   "outputs": [],
   "source": [
    "8.Why is using logging messages better than using print() to display the same message?"
   ]
  },
  {
   "cell_type": "code",
   "execution_count": null,
   "id": "6039b973",
   "metadata": {},
   "outputs": [],
   "source": [
    "logging messages can be disabled easily with a single statement.In addition, we will be able to see the time stamp. \n",
    "on the other hand, print statements cannot be removed easily."
   ]
  },
  {
   "cell_type": "code",
   "execution_count": null,
   "id": "3ea333f1",
   "metadata": {},
   "outputs": [],
   "source": [
    "9. What are the differences between the Step Over, Step In, and Step Out buttons in the debugger?"
   ]
  },
  {
   "cell_type": "code",
   "execution_count": null,
   "id": "3ec3826f",
   "metadata": {},
   "outputs": [],
   "source": [
    "The Step in button will move the debugger into a function call. \n",
    "The Over button will quickly execute the function call without stepping into it. \n",
    "The Out button will quickly execute the rest of the code until it steps out of the function it currently is in."
   ]
  },
  {
   "cell_type": "code",
   "execution_count": null,
   "id": "2d23743f",
   "metadata": {},
   "outputs": [],
   "source": [
    "10.After you click Continue, when will the debugger stop ?"
   ]
  },
  {
   "cell_type": "code",
   "execution_count": null,
   "id": "52935846",
   "metadata": {},
   "outputs": [],
   "source": [
    "The debugger will stop when it reaches the end or program or a break point"
   ]
  },
  {
   "cell_type": "code",
   "execution_count": null,
   "id": "757bc59d",
   "metadata": {},
   "outputs": [],
   "source": [
    "11. What is the concept of a breakpoint?\n"
   ]
  },
  {
   "cell_type": "code",
   "execution_count": null,
   "id": "9041eb2c",
   "metadata": {},
   "outputs": [],
   "source": [
    "Breakpoint is a program  line where the debugger stops to run"
   ]
  }
 ],
 "metadata": {
  "kernelspec": {
   "display_name": "Python 3",
   "language": "python",
   "name": "python3"
  },
  "language_info": {
   "codemirror_mode": {
    "name": "ipython",
    "version": 3
   },
   "file_extension": ".py",
   "mimetype": "text/x-python",
   "name": "python",
   "nbconvert_exporter": "python",
   "pygments_lexer": "ipython3",
   "version": "3.8.8"
  }
 },
 "nbformat": 4,
 "nbformat_minor": 5
}
