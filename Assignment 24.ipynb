{
 "cells": [
  {
   "cell_type": "code",
   "execution_count": null,
   "id": "82235bdb",
   "metadata": {},
   "outputs": [],
   "source": [
    "1. What is the relationship between def statements and lambda expressions ?\n",
    "2. What is the benefit of lambda?\n",
    "3. Compare and contrast map, filter, and reduce.\n",
    "4. What are function annotations, and how are they used?\n",
    "5. What are recursive functions, and how are they used?\n",
    "6. What are some general design guidelines for coding functions?\n",
    "7. Name three or more ways that functions can communicate results to a caller.\n"
   ]
  },
  {
   "cell_type": "code",
   "execution_count": 4,
   "id": "f0d9058d",
   "metadata": {},
   "outputs": [],
   "source": [
    "def fun():\n",
    "    a=10\n",
    "    b=a*10\n",
    "    return b"
   ]
  },
  {
   "cell_type": "code",
   "execution_count": 13,
   "id": "913bb55a",
   "metadata": {},
   "outputs": [],
   "source": [
    "xx=lambda a: a*10 "
   ]
  },
  {
   "cell_type": "code",
   "execution_count": 15,
   "id": "47ce3725",
   "metadata": {},
   "outputs": [
    {
     "name": "stdout",
     "output_type": "stream",
     "text": [
      "200\n"
     ]
    }
   ],
   "source": [
    "print(xx(20))"
   ]
  },
  {
   "cell_type": "code",
   "execution_count": null,
   "id": "85084f05",
   "metadata": {},
   "outputs": [],
   "source": [
    "Def statements are a way to define functions. This includes using a return keyword which means the function can either return\n",
    "a value or not. using def any kind of funnctions can be written as in nested,inheritable,and loops. Unlike the Def, lambda \n",
    "functions can only be used for a limited set of functions,and it doesn't explicity need mentioning of return as it\n",
    "should return the value. \n"
   ]
  },
  {
   "cell_type": "code",
   "execution_count": null,
   "id": "d58bfa9a",
   "metadata": {},
   "outputs": [],
   "source": [
    "2. What is the benefit of lambda?"
   ]
  },
  {
   "cell_type": "code",
   "execution_count": null,
   "id": "12922475",
   "metadata": {},
   "outputs": [],
   "source": [
    "The benefit of lambda is that there is no need to explicitly mention return keyword.\n",
    "The processing time is fast compared to another functions as the statements are inline which makes it readable compared to\n",
    "other functions which jump from one to other."
   ]
  },
  {
   "cell_type": "code",
   "execution_count": null,
   "id": "42dd5bff",
   "metadata": {},
   "outputs": [],
   "source": [
    "3. Compare and contrast map, filter, and reduce."
   ]
  },
  {
   "cell_type": "code",
   "execution_count": null,
   "id": "ad8b4cde",
   "metadata": {},
   "outputs": [],
   "source": [
    "map():\n",
    "    If an operation need to be performed on an iterable object,map can help in doing it by considering function as an argument\n",
    "    map  can have any number of iterables in the argument"
   ]
  },
  {
   "cell_type": "code",
   "execution_count": 33,
   "id": "386f94fd",
   "metadata": {},
   "outputs": [],
   "source": [
    "l=(1,2,3,4,5,6)\n",
    "\n",
    "def sum(a):\n",
    "    return a+220\n",
    "\n",
    "xx=list(map(sum,l))"
   ]
  },
  {
   "cell_type": "code",
   "execution_count": 34,
   "id": "0e6505fc",
   "metadata": {},
   "outputs": [
    {
     "name": "stdout",
     "output_type": "stream",
     "text": [
      "[221, 222, 223, 224, 225, 226]\n"
     ]
    }
   ],
   "source": [
    "print(xx)"
   ]
  },
  {
   "cell_type": "code",
   "execution_count": null,
   "id": "19922a28",
   "metadata": {},
   "outputs": [],
   "source": [
    "filter(): unlike map() function, flter can have a single iterable with a function as argument. The function arguments needs to return\n",
    "a boolean type,if it doesnt, it will return the iterables passed to it.So, it passes every element passed through func\n",
    "and returns only elements that are true."
   ]
  },
  {
   "cell_type": "code",
   "execution_count": 38,
   "id": "31ccfe3a",
   "metadata": {},
   "outputs": [],
   "source": [
    "l=(1,2,3,4,5,6)\n",
    "\n",
    "def sum(a):\n",
    "    if a>2:\n",
    "        return a+220\n",
    "\n",
    "xx=list(filter(sum,l))"
   ]
  },
  {
   "cell_type": "code",
   "execution_count": 39,
   "id": "c011d38a",
   "metadata": {},
   "outputs": [
    {
     "name": "stdout",
     "output_type": "stream",
     "text": [
      "[3, 4, 5, 6]\n"
     ]
    }
   ],
   "source": [
    "print(xx)"
   ]
  },
  {
   "cell_type": "code",
   "execution_count": null,
   "id": "b0f9c2df",
   "metadata": {},
   "outputs": [],
   "source": [
    "reduce():\n",
    "    unlike map,filter which are available in builtin function module of python, reduce is available in functools which needs \n",
    "    to be imported. reduce uses function of two arguments and then applies to it through the iterables. reduce,reduces the\n",
    "    iterable to a single value"
   ]
  },
  {
   "cell_type": "code",
   "execution_count": 44,
   "id": "c15e22f9",
   "metadata": {},
   "outputs": [],
   "source": [
    "from functools import reduce\n",
    "l=[3,4,5,6,7]\n",
    "\n",
    "def sum(a,b):\n",
    "    return a+2+33+b\n",
    "\n",
    "xx=reduce(sum,l,12)\n"
   ]
  },
  {
   "cell_type": "code",
   "execution_count": 45,
   "id": "ca20bae4",
   "metadata": {},
   "outputs": [
    {
     "data": {
      "text/plain": [
       "212"
      ]
     },
     "execution_count": 45,
     "metadata": {},
     "output_type": "execute_result"
    }
   ],
   "source": [
    "xx"
   ]
  },
  {
   "cell_type": "code",
   "execution_count": null,
   "id": "212a47ea",
   "metadata": {},
   "outputs": [],
   "source": [
    "4. What are function annotations, and how are they used?"
   ]
  },
  {
   "cell_type": "code",
   "execution_count": null,
   "id": "eed7eb09",
   "metadata": {},
   "outputs": [],
   "source": []
  },
  {
   "cell_type": "code",
   "execution_count": null,
   "id": "387e727d",
   "metadata": {},
   "outputs": [],
   "source": []
  },
  {
   "cell_type": "code",
   "execution_count": null,
   "id": "68b38e24",
   "metadata": {},
   "outputs": [],
   "source": [
    "5. What are recursive functions, and how are they used?"
   ]
  },
  {
   "cell_type": "code",
   "execution_count": null,
   "id": "eabd3be7",
   "metadata": {},
   "outputs": [],
   "source": [
    "recursive functions is a functions that calls itself over and over till the desired condition is met"
   ]
  },
  {
   "cell_type": "code",
   "execution_count": 52,
   "id": "14eced8c",
   "metadata": {},
   "outputs": [],
   "source": [
    "def fact(x):\n",
    "    if(x==1):\n",
    "        return 1;\n",
    "    else:\n",
    "        return x*fact(x-1)"
   ]
  },
  {
   "cell_type": "code",
   "execution_count": 53,
   "id": "17490676",
   "metadata": {},
   "outputs": [
    {
     "data": {
      "text/plain": [
       "120"
      ]
     },
     "execution_count": 53,
     "metadata": {},
     "output_type": "execute_result"
    }
   ],
   "source": [
    "fact(5)"
   ]
  },
  {
   "cell_type": "code",
   "execution_count": null,
   "id": "fd69ab09",
   "metadata": {},
   "outputs": [],
   "source": [
    "6. What are some general design guidelines for coding functions"
   ]
  },
  {
   "cell_type": "code",
   "execution_count": null,
   "id": "aa9cdeea",
   "metadata": {},
   "outputs": [],
   "source": [
    "Use 4-space indentation and no tabs.\n",
    "Use docstrings\n",
    "Use of regular and updated comments are valuable to both the coders and users\n",
    "Use Python’s default UTF-8 or ASCII encodings and not any fancy encodings\n",
    "Don’t use non-ASCII characters in identifiers\n",
    "Name your classes and functions consistently\n",
    "While naming of function of methods always use self for the first argument\n"
   ]
  },
  {
   "cell_type": "code",
   "execution_count": null,
   "id": "f222be34",
   "metadata": {},
   "outputs": [],
   "source": [
    "7. Name three or more ways that functions can communicate results to a caller."
   ]
  },
  {
   "cell_type": "code",
   "execution_count": null,
   "id": "916e3107",
   "metadata": {},
   "outputs": [],
   "source": [
    " Function can return single value\n",
    "Can return multiple values, tuple\n",
    "can return list,dictionary\n",
    "can return function object\n",
    "can return class object"
   ]
  },
  {
   "cell_type": "code",
   "execution_count": null,
   "id": "c310a60a",
   "metadata": {},
   "outputs": [],
   "source": []
  },
  {
   "cell_type": "code",
   "execution_count": null,
   "id": "8de08213",
   "metadata": {},
   "outputs": [],
   "source": []
  }
 ],
 "metadata": {
  "kernelspec": {
   "display_name": "Python 3",
   "language": "python",
   "name": "python3"
  },
  "language_info": {
   "codemirror_mode": {
    "name": "ipython",
    "version": 3
   },
   "file_extension": ".py",
   "mimetype": "text/x-python",
   "name": "python",
   "nbconvert_exporter": "python",
   "pygments_lexer": "ipython3",
   "version": "3.8.8"
  }
 },
 "nbformat": 4,
 "nbformat_minor": 5
}
