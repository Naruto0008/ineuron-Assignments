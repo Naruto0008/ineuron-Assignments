{
 "cells": [
  {
   "cell_type": "code",
   "execution_count": null,
   "id": "16c62c1e",
   "metadata": {},
   "outputs": [],
   "source": [
    "1. What does RGBA stand for?\n",
    "2. From the Pillow module, how do you get the RGBA value of any images?\n",
    "3. What is a box tuple, and how does it work?\n",
    "4. Use your image and load in notebook then, How can you find out the width and height of an Image object?\n",
    "5. What method would you call to get Image object for a 100×100 image, excluding the lower-left quarter of it?\n",
    "6. After making changes to an Image object, how could you save it as an image file?\n",
    "7. What module contains Pillow’s shape-drawing code?\n",
    "8. Image objects do not have drawing methods. What kind of object does? How do you get this kind of object?\n"
   ]
  },
  {
   "cell_type": "code",
   "execution_count": null,
   "id": "cc3a6942",
   "metadata": {},
   "outputs": [],
   "source": [
    "1. What does RGBA stand for?"
   ]
  },
  {
   "cell_type": "code",
   "execution_count": null,
   "id": "925964f6",
   "metadata": {},
   "outputs": [],
   "source": [
    "RGBA stands for Red,Gree,Blue,Alpha(transparecy).Each pixel on computer screen represents a set of these values "
   ]
  },
  {
   "cell_type": "code",
   "execution_count": null,
   "id": "06957864",
   "metadata": {},
   "outputs": [],
   "source": [
    "2. From the Pillow module, how do you get the RGBA value of any images?"
   ]
  },
  {
   "cell_type": "code",
   "execution_count": 2,
   "id": "3118e920",
   "metadata": {},
   "outputs": [
    {
     "name": "stdout",
     "output_type": "stream",
     "text": [
      "Requirement already satisfied: Pillow in c:\\users\\narsi\\anaconda3\\lib\\site-packages (8.2.0)\n",
      "Note: you may need to restart the kernel to use updated packages.\n"
     ]
    }
   ],
   "source": [
    "pip install Pillow"
   ]
  },
  {
   "cell_type": "code",
   "execution_count": 3,
   "id": "7314369c",
   "metadata": {},
   "outputs": [
    {
     "data": {
      "text/plain": [
       "(255, 0, 0, 255)"
      ]
     },
     "execution_count": 3,
     "metadata": {},
     "output_type": "execute_result"
    }
   ],
   "source": [
    "from PIL import ImageColor\n",
    "ImageColor.getcolor('Red','RGBA')"
   ]
  },
  {
   "cell_type": "code",
   "execution_count": null,
   "id": "f0f5d565",
   "metadata": {},
   "outputs": [],
   "source": [
    "getcolor is the method that provides rgba value of any color. To get rgba value of any image,one has to go through all the\n",
    "pixels in the image,and churn out a list of values for all the pixels."
   ]
  },
  {
   "cell_type": "code",
   "execution_count": null,
   "id": "b7da7e87",
   "metadata": {},
   "outputs": [],
   "source": [
    "3. What is a box tuple, and how does it work?"
   ]
  },
  {
   "cell_type": "code",
   "execution_count": null,
   "id": "0d3d6fa0",
   "metadata": {},
   "outputs": [],
   "source": [
    "A Box tuple is set of coordinates in an image that can be used to select an area to work on. the box tuple usually has 4 coordinates \n",
    "describing 4 different values(left most,rightmost,topmost,bottom most)."
   ]
  },
  {
   "cell_type": "code",
   "execution_count": null,
   "id": "16d2f8b2",
   "metadata": {},
   "outputs": [],
   "source": [
    "4. Use your image and load in notebook then, How can you find out the width and height of an Image object?"
   ]
  },
  {
   "cell_type": "code",
   "execution_count": 6,
   "id": "8537b862",
   "metadata": {},
   "outputs": [],
   "source": [
    "from PIL import Image\n",
    "kal=Image.open('Kalyan.jpg')"
   ]
  },
  {
   "cell_type": "code",
   "execution_count": 7,
   "id": "43d8803d",
   "metadata": {},
   "outputs": [
    {
     "data": {
      "text/plain": [
       "(640, 480)"
      ]
     },
     "execution_count": 7,
     "metadata": {},
     "output_type": "execute_result"
    }
   ],
   "source": [
    "kal.size"
   ]
  },
  {
   "cell_type": "code",
   "execution_count": null,
   "id": "4d434249",
   "metadata": {},
   "outputs": [],
   "source": [
    "5. What method would you call to get Image object for a 100×100 image, excluding the lower-left quarter of it?"
   ]
  },
  {
   "cell_type": "code",
   "execution_count": null,
   "id": "e338ac75",
   "metadata": {},
   "outputs": [],
   "source": [
    "Imgobj.crop((0,50,50,50)). \n"
   ]
  },
  {
   "cell_type": "code",
   "execution_count": null,
   "id": "c740d494",
   "metadata": {},
   "outputs": [],
   "source": [
    "crop is the method with a box tuple as argument"
   ]
  },
  {
   "cell_type": "code",
   "execution_count": null,
   "id": "9e06bffc",
   "metadata": {},
   "outputs": [],
   "source": [
    "6. After making changes to an Image object, how could you save it as an image file?"
   ]
  },
  {
   "cell_type": "code",
   "execution_count": null,
   "id": "83baa8d9",
   "metadata": {},
   "outputs": [],
   "source": [
    "Image.save('kal.jpg')"
   ]
  },
  {
   "cell_type": "code",
   "execution_count": null,
   "id": "db4ca112",
   "metadata": {},
   "outputs": [],
   "source": [
    "save is the method to save the image after making the changes"
   ]
  },
  {
   "cell_type": "code",
   "execution_count": null,
   "id": "31cd2a72",
   "metadata": {},
   "outputs": [],
   "source": [
    "7. What module contains Pillow’s shape-drawing code?"
   ]
  },
  {
   "cell_type": "code",
   "execution_count": null,
   "id": "b0297393",
   "metadata": {},
   "outputs": [],
   "source": [
    "Image Draw module contain it"
   ]
  },
  {
   "cell_type": "code",
   "execution_count": null,
   "id": "3275e420",
   "metadata": {},
   "outputs": [],
   "source": [
    "8. Image objects do not have drawing methods. What kind of object does? How do you get this kind of object?"
   ]
  },
  {
   "cell_type": "code",
   "execution_count": null,
   "id": "4e24ef77",
   "metadata": {},
   "outputs": [],
   "source": [
    "Image objects do not have drawing methods. But, Image draw objects have these. These are returned when we pass an image to a \n",
    "ImageDraw.Draw() function"
   ]
  }
 ],
 "metadata": {
  "kernelspec": {
   "display_name": "Python 3",
   "language": "python",
   "name": "python3"
  },
  "language_info": {
   "codemirror_mode": {
    "name": "ipython",
    "version": 3
   },
   "file_extension": ".py",
   "mimetype": "text/x-python",
   "name": "python",
   "nbconvert_exporter": "python",
   "pygments_lexer": "ipython3",
   "version": "3.8.8"
  }
 },
 "nbformat": 4,
 "nbformat_minor": 5
}
